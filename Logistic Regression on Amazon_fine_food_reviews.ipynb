{
 "cells": [
  {
   "cell_type": "markdown",
   "metadata": {},
   "source": [
    "# Assignment 5 : Logistic Regression"
   ]
  },
  {
   "cell_type": "markdown",
   "metadata": {},
   "source": [
    "\n",
    "- Logistic regression is a statistical method for analyzing a dataset in which there are one or more                       independent variables that determine an outcome. The outcome is measured with a binary variable.\n",
    "- The relationship between X and Y is non_linear then we use Logistic regression.\n",
    "- It is used to describe data and to explain the relationship between one dependent binary variable and one or more           nominal, ordinal, interval or ratio-level independent variables.\n",
    "\n",
    "          log(p(x) / (p(1-x)) = w0 + w1*X1\n",
    "          \n",
    "          so, p(x) = 1 / (1 + exp(-(w0 + w1*x1)))\n",
    "          \n",
    "- Dependent variable must be bernouli distribution.\n",
    "- It does not assume linear relationship between dependent and independent variable.\n",
    "- It is robust as it does not require independent variables to follow normal distribution."
   ]
  },
  {
   "cell_type": "code",
   "execution_count": 5,
   "metadata": {},
   "outputs": [],
   "source": [
    "#Ignore warnings\n",
    "import warnings\n",
    "warnings.filterwarnings('ignore')"
   ]
  },
  {
   "cell_type": "code",
   "execution_count": 2,
   "metadata": {},
   "outputs": [],
   "source": [
    "import pickle \n",
    "def savetofile(obj,filename):\n",
    "    pickle.dump(obj,open(filename,\"wb\"))\n",
    "    \n",
    "def openfromfile(filename):\n",
    "    temp=pickle.load(open(filename,\"rb\"))\n",
    "    return temp"
   ]
  },
  {
   "cell_type": "code",
   "execution_count": 6,
   "metadata": {},
   "outputs": [],
   "source": [
    "#Loading the libraries\n",
    "import pandas as pd\n",
    "import numpy as np\n",
    "import matplotlib.pyplot as plt\n",
    "import seaborn as sns\n",
    "\n",
    "from sklearn.model_selection import train_test_split\n",
    "from sklearn.feature_extraction.text import CountVectorizer\n",
    "from sklearn import preprocessing\n",
    "\n",
    "from sklearn.model_selection import TimeSeriesSplit\n",
    "from sklearn.model_selection import GridSearchCV\n",
    "from sklearn.linear_model import LogisticRegression\n",
    "\n",
    "from sklearn.metrics import confusion_matrix\n",
    "from sklearn.metrics import accuracy_score\n",
    "from sklearn.metrics import recall_score\n",
    "from sklearn.metrics import precision_score\n",
    "from sklearn.metrics import f1_score\n",
    "\n",
    "from sklearn.model_selection import RandomizedSearchCV\n",
    "from scipy.sparse import find\n",
    "from numpy import random\n",
    "from sklearn.feature_extraction.text import TfidfVectorizer\n",
    "import gensim"
   ]
  },
  {
   "cell_type": "code",
   "execution_count": 7,
   "metadata": {},
   "outputs": [],
   "source": [
    "#Loading the dataset\n",
    "data_frame = openfromfile(\"New_Amazon_preprocess_data\")"
   ]
  },
  {
   "cell_type": "code",
   "execution_count": 8,
   "metadata": {},
   "outputs": [
    {
     "name": "stdout",
     "output_type": "stream",
     "text": [
      "Shape of data_frame: (364171, 11)\n"
     ]
    },
    {
     "data": {
      "text/html": [
       "<div>\n",
       "<style scoped>\n",
       "    .dataframe tbody tr th:only-of-type {\n",
       "        vertical-align: middle;\n",
       "    }\n",
       "\n",
       "    .dataframe tbody tr th {\n",
       "        vertical-align: top;\n",
       "    }\n",
       "\n",
       "    .dataframe thead th {\n",
       "        text-align: right;\n",
       "    }\n",
       "</style>\n",
       "<table border=\"1\" class=\"dataframe\">\n",
       "  <thead>\n",
       "    <tr style=\"text-align: right;\">\n",
       "      <th></th>\n",
       "      <th>Id</th>\n",
       "      <th>ProductId</th>\n",
       "      <th>UserId</th>\n",
       "      <th>ProfileName</th>\n",
       "      <th>HelpfulnessNumerator</th>\n",
       "      <th>HelpfulnessDenominator</th>\n",
       "      <th>Score</th>\n",
       "      <th>Time</th>\n",
       "      <th>Summary</th>\n",
       "      <th>Text</th>\n",
       "      <th>CleanedText</th>\n",
       "    </tr>\n",
       "  </thead>\n",
       "  <tbody>\n",
       "    <tr>\n",
       "      <th>515425</th>\n",
       "      <td>515426</td>\n",
       "      <td>141278509X</td>\n",
       "      <td>AB1A5EGHHVA9M</td>\n",
       "      <td>CHelmic</td>\n",
       "      <td>1</td>\n",
       "      <td>1</td>\n",
       "      <td>positive</td>\n",
       "      <td>1332547200</td>\n",
       "      <td>The best drink mix</td>\n",
       "      <td>This product by Archer Farms is the best drink...</td>\n",
       "      <td>product archer farm best drink mix ever mix fl...</td>\n",
       "    </tr>\n",
       "    <tr>\n",
       "      <th>24750</th>\n",
       "      <td>24751</td>\n",
       "      <td>2734888454</td>\n",
       "      <td>A1C298ITT645B6</td>\n",
       "      <td>Hugh G. Pritchard</td>\n",
       "      <td>0</td>\n",
       "      <td>0</td>\n",
       "      <td>positive</td>\n",
       "      <td>1195948800</td>\n",
       "      <td>Dog Lover Delites</td>\n",
       "      <td>Our dogs just love them.  I saw them in a pet ...</td>\n",
       "      <td>dog love saw pet store tag attach regard made ...</td>\n",
       "    </tr>\n",
       "    <tr>\n",
       "      <th>24749</th>\n",
       "      <td>24750</td>\n",
       "      <td>2734888454</td>\n",
       "      <td>A13ISQV0U9GZIC</td>\n",
       "      <td>Sandikaye</td>\n",
       "      <td>1</td>\n",
       "      <td>1</td>\n",
       "      <td>negative</td>\n",
       "      <td>1192060800</td>\n",
       "      <td>made in china</td>\n",
       "      <td>My dogs loves this chicken but its a product f...</td>\n",
       "      <td>dog love chicken product china wont buy anymor...</td>\n",
       "    </tr>\n",
       "    <tr>\n",
       "      <th>308076</th>\n",
       "      <td>308077</td>\n",
       "      <td>2841233731</td>\n",
       "      <td>A3QD68O22M2XHQ</td>\n",
       "      <td>LABRNTH</td>\n",
       "      <td>0</td>\n",
       "      <td>0</td>\n",
       "      <td>positive</td>\n",
       "      <td>1345852800</td>\n",
       "      <td>Great recipe book for my babycook</td>\n",
       "      <td>This book is easy to read and the ingredients ...</td>\n",
       "      <td>book easi read ingredi avail store unlik recip...</td>\n",
       "    </tr>\n",
       "    <tr>\n",
       "      <th>150523</th>\n",
       "      <td>150524</td>\n",
       "      <td>6641040</td>\n",
       "      <td>ACITT7DI6IDDL</td>\n",
       "      <td>shari zychinski</td>\n",
       "      <td>0</td>\n",
       "      <td>0</td>\n",
       "      <td>positive</td>\n",
       "      <td>939340800</td>\n",
       "      <td>EVERY book is educational</td>\n",
       "      <td>this witty little book makes my son laugh at l...</td>\n",
       "      <td>witti littl book make son laugh loud recit car...</td>\n",
       "    </tr>\n",
       "  </tbody>\n",
       "</table>\n",
       "</div>"
      ],
      "text/plain": [
       "            Id   ProductId          UserId        ProfileName  \\\n",
       "515425  515426  141278509X   AB1A5EGHHVA9M            CHelmic   \n",
       "24750    24751  2734888454  A1C298ITT645B6  Hugh G. Pritchard   \n",
       "24749    24750  2734888454  A13ISQV0U9GZIC          Sandikaye   \n",
       "308076  308077  2841233731  A3QD68O22M2XHQ            LABRNTH   \n",
       "150523  150524     6641040   ACITT7DI6IDDL    shari zychinski   \n",
       "\n",
       "        HelpfulnessNumerator  HelpfulnessDenominator     Score        Time  \\\n",
       "515425                     1                       1  positive  1332547200   \n",
       "24750                      0                       0  positive  1195948800   \n",
       "24749                      1                       1  negative  1192060800   \n",
       "308076                     0                       0  positive  1345852800   \n",
       "150523                     0                       0  positive   939340800   \n",
       "\n",
       "                                  Summary  \\\n",
       "515425                 The best drink mix   \n",
       "24750                   Dog Lover Delites   \n",
       "24749                       made in china   \n",
       "308076  Great recipe book for my babycook   \n",
       "150523          EVERY book is educational   \n",
       "\n",
       "                                                     Text  \\\n",
       "515425  This product by Archer Farms is the best drink...   \n",
       "24750   Our dogs just love them.  I saw them in a pet ...   \n",
       "24749   My dogs loves this chicken but its a product f...   \n",
       "308076  This book is easy to read and the ingredients ...   \n",
       "150523  this witty little book makes my son laugh at l...   \n",
       "\n",
       "                                              CleanedText  \n",
       "515425  product archer farm best drink mix ever mix fl...  \n",
       "24750   dog love saw pet store tag attach regard made ...  \n",
       "24749   dog love chicken product china wont buy anymor...  \n",
       "308076  book easi read ingredi avail store unlik recip...  \n",
       "150523  witti littl book make son laugh loud recit car...  "
      ]
     },
     "execution_count": 8,
     "metadata": {},
     "output_type": "execute_result"
    }
   ],
   "source": [
    "#Shape of data\n",
    "print(\"Shape of data_frame:\", data_frame.shape)\n",
    "\n",
    "#First five rows of the data_frame\n",
    "data_frame.head()"
   ]
  },
  {
   "cell_type": "code",
   "execution_count": 9,
   "metadata": {},
   "outputs": [],
   "source": [
    "#Storing the data_frame based on the time attribute\n",
    "data_frame.sort_values('Time', inplace=True)\n",
    "\n",
    "#Reseting the data_frame\n",
    "data_frame.reset_index(drop=False, inplace=True)"
   ]
  },
  {
   "cell_type": "code",
   "execution_count": 10,
   "metadata": {},
   "outputs": [],
   "source": [
    "#In the Score attribute consisting of two categories changing positive to 1 and negative to 0\n",
    "data_frame.Score = [1 if(score == 'positive') else 0 for score in data_frame.Score]"
   ]
  },
  {
   "cell_type": "code",
   "execution_count": 11,
   "metadata": {},
   "outputs": [
    {
     "data": {
      "image/png": "[encoded data removed]",
      "text/plain": [
       "<Figure size 432x288 with 1 Axes>"
      ]
     },
     "metadata": {},
     "output_type": "display_data"
    },
    {
     "data": {
      "text/plain": [
       "1    307061\n",
       "0     57110\n",
       "Name: Score, dtype: int64"
      ]
     },
     "execution_count": 11,
     "metadata": {},
     "output_type": "execute_result"
    }
   ],
   "source": [
    "#Count plot for score attribute \n",
    "sns.countplot(x=data_frame.Score, data=data_frame)\n",
    "plt.show()\n",
    "data_frame.Score.value_counts()"
   ]
  },
  {
   "cell_type": "code",
   "execution_count": 12,
   "metadata": {},
   "outputs": [],
   "source": [
    "#Storing the cleanedtext attribute into X and Score attribute into the Y\n",
    "X = data_frame.CleanedText\n",
    "\n",
    "y = data_frame.Score"
   ]
  },
  {
   "cell_type": "code",
   "execution_count": 13,
   "metadata": {},
   "outputs": [],
   "source": [
    "#Splitting the data into train as 70% and test as 30%\n",
    "X_tr, X_test, y_tr, y_test = train_test_split(X, y, test_size=0.3, shuffle=False)"
   ]
  },
  {
   "cell_type": "code",
   "execution_count": 14,
   "metadata": {},
   "outputs": [
    {
     "name": "stdout",
     "output_type": "stream",
     "text": [
      "Shape of the train data: (254919,)\n",
      "Shape of the test data: (109252,)\n"
     ]
    }
   ],
   "source": [
    "#shape of train and test data\n",
    "print(\"Shape of the train data:\", X_tr.shape)\n",
    "\n",
    "print(\"Shape of the test data:\", X_test.shape)"
   ]
  },
  {
   "cell_type": "markdown",
   "metadata": {},
   "source": [
    "# BOW: "
   ]
  },
  {
   "cell_type": "markdown",
   "metadata": {},
   "source": [
    " which means makes a vector for each review of length unique words from the whole dataset and makes frequency count of word.\n",
    " \n",
    "- Bow or Bag of Words which means way of extracting features from text for use in modeling.\n",
    "- A bag-of-words is a representation of text that describes the occurrence of words within a document. \n",
    "   \n",
    "   It involves two things:\n",
    "                1.vocabulary of known words.\n",
    "                2.Measure of the presence of known words.\n",
    "-  It is called a “bag” of words, because any information about the order or structure of words in the document is              discarded. The model is only concerned with whether known words occur in the document, not where in the document."
   ]
  },
  {
   "cell_type": "code",
   "execution_count": 15,
   "metadata": {},
   "outputs": [
    {
     "name": "stdout",
     "output_type": "stream",
     "text": [
      "Wall time: 8.61 s\n"
     ]
    }
   ],
   "source": [
    "\n",
    "%%time\n",
    "\n",
    "count_vec = CountVectorizer()\n",
    "#Making the fit_transform for train data\n",
    "bow_tr = count_vec.fit_transform(X_tr)"
   ]
  },
  {
   "cell_type": "code",
   "execution_count": 16,
   "metadata": {},
   "outputs": [],
   "source": [
    "#Transform for test data\n",
    "bow_test = count_vec.transform(X_test)"
   ]
  },
  {
   "cell_type": "code",
   "execution_count": 17,
   "metadata": {},
   "outputs": [],
   "source": [
    "#Nomalizing the train and test data\n",
    "bow_tr = preprocessing.normalize(bow_tr)\n",
    "bow_test = preprocessing.normalize(bow_test)"
   ]
  },
  {
   "cell_type": "code",
   "execution_count": 18,
   "metadata": {},
   "outputs": [
    {
     "name": "stdout",
     "output_type": "stream",
     "text": [
      "shape of train data: (254919, 78610)\n",
      "shape of test data: (109252, 78610)\n"
     ]
    }
   ],
   "source": [
    "#Shape of train and test data after the bag of words\n",
    "print(\"shape of train data:\", bow_tr.shape)\n",
    "print(\"shape of test data:\", bow_test.shape)"
   ]
  },
  {
   "cell_type": "markdown",
   "metadata": {},
   "source": [
    "### 1. Hyperparameter tunning using grid seach and random search cross validation:"
   ]
  },
  {
   "cell_type": "markdown",
   "metadata": {},
   "source": [
    "**  Grid Search Cross Validation:**\n",
    "\n",
    "- working through multiple combinations of parameter tunes, cross validate each and determine                                  which one gives the best performance.      \n",
    "    \n",
    "- Note: In grid search, if you choosen n paramters then we will have to check 2^n combinations."
   ]
  },
  {
   "cell_type": "markdown",
   "metadata": {},
   "source": [
    "![title](grid search cross validation.png)"
   ]
  },
  {
   "cell_type": "markdown",
   "metadata": {},
   "source": [
    "** Time based splitting:** \n",
    "\n",
    "- Provides train/test indices to split time series data samples that are observed at fixed time                                 intervals, in train/test sets.In each split, test indices must be higher than before, and thus shuffling in cross\n",
    "  validator is inappropriate."
   ]
  },
  {
   "cell_type": "markdown",
   "metadata": {},
   "source": [
    "![title](time series split.png)"
   ]
  },
  {
   "cell_type": "code",
   "execution_count": 38,
   "metadata": {},
   "outputs": [],
   "source": [
    "#Function for Grid Search Cross Validation\n",
    "def grid_search(X_train, y_train):\n",
    "    #Assigning the values for hyperperameter and regularization as l1 and l2\n",
    "    parameters = {'C':[1000,100,10,5,1,0.5,0.1,0.05,0.01,0.005,0.001],'penalty':['l1','l2']}\n",
    "\n",
    "    #splitting the data based on the time series\n",
    "    tbs = TimeSeriesSplit(n_splits=5)\n",
    "\n",
    "    log_model = LogisticRegression()\n",
    "\n",
    "    #Grid Search Cross Validation using logistic regression\n",
    "    gsv = GridSearchCV(log_model, parameters, scoring='accuracy', n_jobs=3, cv=tbs, verbose=3)\n",
    "    gsv.fit(X_train, y_train)\n",
    "\n",
    "    #Best hyperparameter value\n",
    "    print(\"optimal hyperparameter:\", gsv.best_params_)\n",
    "    print(\"Best Accuracy:\", gsv.best_score_ * 100)\n",
    "    \n",
    "    return gsv.grid_scores_, gsv.best_estimator_"
   ]
  },
  {
   "cell_type": "code",
   "execution_count": 19,
   "metadata": {},
   "outputs": [
    {
     "name": "stdout",
     "output_type": "stream",
     "text": [
      "Fitting 5 folds for each of 22 candidates, totalling 110 fits\n"
     ]
    },
    {
     "name": "stderr",
     "output_type": "stream",
     "text": [
      "[Parallel(n_jobs=3)]: Done  26 tasks      | elapsed:  4.9min\n",
      "[Parallel(n_jobs=3)]: Done 110 out of 110 | elapsed:  7.2min finished\n"
     ]
    },
    {
     "name": "stdout",
     "output_type": "stream",
     "text": [
      "optimal hyperparameter: {'C': 10, 'penalty': 'l2'}\n",
      "Best Accuracy: 91.9818293084781\n",
      "Wall time: 7min 32s\n"
     ]
    }
   ],
   "source": [
    "\n",
    "%%time\n",
    "\n",
    "#Calling the function for Grid Search Cross Validation\n",
    "grid_scores, best_estimator = grid_search(bow_tr, y_tr)"
   ]
  },
  {
   "cell_type": "code",
   "execution_count": 20,
   "metadata": {},
   "outputs": [
    {
     "data": {
      "text/plain": [
       "[mean: 0.88436, std: 0.00966, params: {'C': 1000, 'penalty': 'l1'},\n",
       " mean: 0.90436, std: 0.00334, params: {'C': 1000, 'penalty': 'l2'},\n",
       " mean: 0.90075, std: 0.00446, params: {'C': 100, 'penalty': 'l1'}]"
      ]
     },
     "execution_count": 20,
     "metadata": {},
     "output_type": "execute_result"
    }
   ],
   "source": [
    "grid_scores[:3]"
   ]
  },
  {
   "cell_type": "code",
   "execution_count": 39,
   "metadata": {},
   "outputs": [],
   "source": [
    "#Function for plot between hyperparameter C and cv_errors\n",
    "\n",
    "def param_cv_error(hyperparameters, cv_errors):\n",
    "    plt.plot(hyperparameters, cv_errors)\n",
    "    plt.title(\"hyperparameters vs cv_errors\")\n",
    "    plt.xlabel(\"hyperparameters\")\n",
    "    plt.ylabel(\"cv_errors\")\n",
    "    plt.show()"
   ]
  },
  {
   "cell_type": "code",
   "execution_count": 22,
   "metadata": {},
   "outputs": [
    {
     "data": {
      "image/png": "[encoded data removed]",
      "text/plain": [
       "<Figure size 432x288 with 1 Axes>"
      ]
     },
     "metadata": {},
     "output_type": "display_data"
    }
   ],
   "source": [
    "\n",
    "hy_params = [val[0]['C'] for val in grid_scores]\n",
    "\n",
    "cv_errors = [1-val[1] for val in grid_scores]\n",
    "\n",
    "#Calling the function for plot between C and cv_errors\n",
    "param_cv_error(hy_params, cv_errors)"
   ]
  },
  {
   "cell_type": "markdown",
   "metadata": {},
   "source": [
    "** Testing the model from best_estimator which can be return by the grid search cross validation.**"
   ]
  },
  {
   "cell_type": "code",
   "execution_count": 23,
   "metadata": {},
   "outputs": [
    {
     "data": {
      "text/plain": [
       "LogisticRegression(C=10, class_weight=None, dual=False, fit_intercept=True,\n",
       "          intercept_scaling=1, max_iter=100, multi_class='ovr', n_jobs=1,\n",
       "          penalty='l2', random_state=None, solver='liblinear', tol=0.0001,\n",
       "          verbose=0, warm_start=False)"
      ]
     },
     "execution_count": 23,
     "metadata": {},
     "output_type": "execute_result"
    }
   ],
   "source": [
    "#Result showing the best classifier consisting of parameters\n",
    "best_estimator"
   ]
  },
  {
   "cell_type": "code",
   "execution_count": 24,
   "metadata": {},
   "outputs": [],
   "source": [
    "#Finding the predicted values for test labels using the test data\n",
    "y_pred = best_estimator.predict(bow_test)"
   ]
  },
  {
   "cell_type": "code",
   "execution_count": 62,
   "metadata": {},
   "outputs": [],
   "source": [
    "#Function for calculating the metrics\n",
    "def test_metrics(y_test, y_pred):\n",
    "    cm = pd.DataFrame(confusion_matrix(y_test,y_pred),range(2),range(2))\n",
    "    sns.set(font_scale=1.5)\n",
    "    sns.heatmap(cm,annot=True,annot_kws={\"size\": 20}, fmt='g', vmin=0, vmax=109252)\n",
    "\n",
    "    print(\"Accuracy on test data:\", round(accuracy_score(y_test, y_pred) * 100 , 2))\n",
    "    print(\"Precision on test data:\", round(precision_score(y_test, y_pred) * 100 , 2))\n",
    "    print(\"Recall on test data:\", round(recall_score(y_test, y_pred) * 100 , 2))\n",
    "    print(\"F1_score on test data:\", round(f1_score(y_test, y_pred) * 100,2))\n",
    "\n",
    "    plt.show()"
   ]
  },
  {
   "cell_type": "code",
   "execution_count": 26,
   "metadata": {},
   "outputs": [
    {
     "name": "stdout",
     "output_type": "stream",
     "text": [
      "Accuracy on test data: 91.85\n",
      "Precision on test data: 93.43\n",
      "Recall on test data: 96.93\n",
      "F1_score on test data: 95.15\n"
     ]
    },
    {
     "data": {
      "image/png": "[encoded data removed]",
      "text/plain": [
       "<Figure size 432x288 with 2 Axes>"
      ]
     },
     "metadata": {},
     "output_type": "display_data"
    }
   ],
   "source": [
    "#Calling the function for test metrics\n",
    "test_metrics(y_test, y_pred)"
   ]
  },
  {
   "cell_type": "markdown",
   "metadata": {},
   "source": [
    " "
   ]
  },
  {
   "cell_type": "markdown",
   "metadata": {},
   "source": [
    "** Random Search cross validation:** \n",
    "- implements a randomized search over parameters, where each setting is sampled from a distribution over possible parameter values. \n",
    "\n",
    "\n",
    "\n",
    "- This has two main benefits over an exhaustive search:\n",
    "    1. A budget can be chosen independent of the number of parameters and possible values\n",
    "    2. Adding parameters that do not influence the performance does not decrease efficiency.\n",
    "   \n",
    "\n",
    "\n",
    "\n",
    "- Note: In random search, if you choosen n paramters then we will have to check n combinations."
   ]
  },
  {
   "cell_type": "markdown",
   "metadata": {},
   "source": [
    "![title](random search cross validation.png)"
   ]
  },
  {
   "cell_type": "code",
   "execution_count": 40,
   "metadata": {},
   "outputs": [],
   "source": [
    "#Function for random Search Cross Validation\n",
    "\n",
    "def random_search(X_train, y_train):\n",
    "    #Assigning the values for hyperperameter and regularization as l1 and l2\n",
    "    parameters = {'C': np.arange(1, 1000), 'penalty':['l1','l2']}\n",
    "\n",
    "    #splitting the data based on the time series\n",
    "    tbs = TimeSeriesSplit(n_splits=5)\n",
    "\n",
    "    log_model = LogisticRegression()\n",
    "    #Random search for hyperparameter tuning\n",
    "    rsv = RandomizedSearchCV(log_model, parameters, scoring='accuracy', n_jobs=3, cv=tbs, verbose=3)\n",
    "\n",
    "    rsv.fit(X_train, y_train)\n",
    "\n",
    "    print(\"optimal hyperparameter:\",rsv.best_params_)\n",
    "    print(\"Best accuracy:\",rsv.best_score_*100)\n",
    "    return rsv.best_estimator_"
   ]
  },
  {
   "cell_type": "code",
   "execution_count": 28,
   "metadata": {},
   "outputs": [
    {
     "name": "stdout",
     "output_type": "stream",
     "text": [
      "Fitting 5 folds for each of 10 candidates, totalling 50 fits\n"
     ]
    },
    {
     "name": "stderr",
     "output_type": "stream",
     "text": [
      "[Parallel(n_jobs=3)]: Done  26 tasks      | elapsed:  3.2min\n",
      "[Parallel(n_jobs=3)]: Done  50 out of  50 | elapsed: 11.3min finished\n"
     ]
    },
    {
     "name": "stdout",
     "output_type": "stream",
     "text": [
      "optimal hyperparameter: {'penalty': 'l2', 'C': 239}\n",
      "Best accuracy: 91.22864002259567\n",
      "Wall time: 12min 38s\n"
     ]
    }
   ],
   "source": [
    "\n",
    "%%time\n",
    "\n",
    "#Calling the function for random search cross validation\n",
    "best_estimator = random_search(bow_tr, y_tr)"
   ]
  },
  {
   "cell_type": "markdown",
   "metadata": {},
   "source": [
    "** Testing the model from best_estimator which can be return by the random search cross validation.**"
   ]
  },
  {
   "cell_type": "code",
   "execution_count": 29,
   "metadata": {},
   "outputs": [
    {
     "data": {
      "text/plain": [
       "LogisticRegression(C=239, class_weight=None, dual=False, fit_intercept=True,\n",
       "          intercept_scaling=1, max_iter=100, multi_class='ovr', n_jobs=1,\n",
       "          penalty='l2', random_state=None, solver='liblinear', tol=0.0001,\n",
       "          verbose=0, warm_start=False)"
      ]
     },
     "execution_count": 29,
     "metadata": {},
     "output_type": "execute_result"
    }
   ],
   "source": [
    "#Result showing the best classifier consisting of parameters\n",
    "best_estimator"
   ]
  },
  {
   "cell_type": "code",
   "execution_count": 30,
   "metadata": {},
   "outputs": [],
   "source": [
    "#Finding the predicted values for test labels using the test data\n",
    "y_pred = best_estimator.predict(bow_test)"
   ]
  },
  {
   "cell_type": "code",
   "execution_count": 31,
   "metadata": {},
   "outputs": [
    {
     "name": "stdout",
     "output_type": "stream",
     "text": [
      "Accuracy on test data: 91.31\n",
      "Precision on test data: 93.46\n",
      "Recall on test data: 96.2\n",
      "F1_score on test data: 94.81\n"
     ]
    },
    {
     "data": {
      "image/png": "[encoded data removed]",
      "text/plain": [
       "<Figure size 432x288 with 2 Axes>"
      ]
     },
     "metadata": {},
     "output_type": "display_data"
    }
   ],
   "source": [
    "#Calling the function for test metrics\n",
    "test_metrics(y_test, y_pred)"
   ]
  },
  {
   "cell_type": "markdown",
   "metadata": {},
   "source": [
    "### 2. More Sparsity(Fewer elements of w* being non-zero) as C deceases or lambda increases using L1-regularization:"
   ]
  },
  {
   "cell_type": "code",
   "execution_count": 41,
   "metadata": {},
   "outputs": [],
   "source": [
    "#Function for number of non-zero elements in an vector\n",
    "def non_zero_ele(X_train, y_train, C_value):\n",
    "    #Specifying the classifier with the hyperparameter and l1-regularization\n",
    "    clf = LogisticRegression(penalty='l1', C=C_value)\n",
    "    clf.fit(X_train, y_train)\n",
    "    #optimal weight vector \n",
    "    opt_w = clf.coef_\n",
    "    #number of non-zero elements in an optimal vector\n",
    "    print(\"Number of non_zero elements in optimal vector for C={} and l1_reg is {}:\". format(C, np.count_nonzero(opt_w)))"
   ]
  },
  {
   "cell_type": "code",
   "execution_count": 33,
   "metadata": {},
   "outputs": [
    {
     "name": "stdout",
     "output_type": "stream",
     "text": [
      "Number of non_zero elements in optimal vector for C=10 and l1_reg is 11080:\n"
     ]
    }
   ],
   "source": [
    "#To find number of non_zero elements with the C=10 and l1_reg\n",
    "C=10\n",
    "non_zero_ele(bow_tr, y_tr, C)"
   ]
  },
  {
   "cell_type": "code",
   "execution_count": 35,
   "metadata": {},
   "outputs": [
    {
     "name": "stdout",
     "output_type": "stream",
     "text": [
      "Number of non_zero elements in optimal vector for C=1 and l1_reg is 2229:\n"
     ]
    }
   ],
   "source": [
    "#To find number of non_zero elements with the C=1 and l1_reg\n",
    "C=1\n",
    "non_zero_ele(bow_tr, y_tr, C)"
   ]
  },
  {
   "cell_type": "code",
   "execution_count": 36,
   "metadata": {},
   "outputs": [
    {
     "name": "stdout",
     "output_type": "stream",
     "text": [
      "Number of non_zero elements in optimal vector for C=0.1 and l1_reg is 522:\n"
     ]
    }
   ],
   "source": [
    "#To find number of non_zero elements with the C=0.1 and l1_reg\n",
    "C=0.1\n",
    "non_zero_ele(bow_tr, y_tr, C)"
   ]
  },
  {
   "cell_type": "code",
   "execution_count": 37,
   "metadata": {},
   "outputs": [
    {
     "name": "stdout",
     "output_type": "stream",
     "text": [
      "Number of non_zero elements in optimal vector for C=0.01 and l1_reg is 75:\n"
     ]
    }
   ],
   "source": [
    "#To find number of non_zero elements with the C=0.01 and l1_reg\n",
    "C=0.01\n",
    "non_zero_ele(bow_tr, y_tr, C)"
   ]
  },
  {
   "cell_type": "code",
   "execution_count": 38,
   "metadata": {},
   "outputs": [
    {
     "name": "stdout",
     "output_type": "stream",
     "text": [
      "Number of non_zero elements in optimal vector for C=0.001 and l1_reg is 2:\n"
     ]
    }
   ],
   "source": [
    "#To find number of non_zero elements with the C=0.001 and l1_reg\n",
    "C=0.001\n",
    "non_zero_ele(bow_tr, y_tr, C)"
   ]
  },
  {
   "cell_type": "code",
   "execution_count": 40,
   "metadata": {},
   "outputs": [
    {
     "name": "stdout",
     "output_type": "stream",
     "text": [
      "Number of non_zero elements in optimal vector for C=0.0001 and l1_reg is 0:\n"
     ]
    }
   ],
   "source": [
    "#To find number of non_zero elements with the C=0.01 and l1_reg\n",
    "C=0.0001\n",
    "non_zero_ele(bow_tr, y_tr, C)"
   ]
  },
  {
   "cell_type": "markdown",
   "metadata": {},
   "source": [
    "**observation:** By using L1_regularization with the different C values of as C decreases which means alpha increases then the number of non-zero elements in optimal vector deceases."
   ]
  },
  {
   "cell_type": "markdown",
   "metadata": {},
   "source": [
    "### 3. Pertubation Test (Multi collinearity test):"
   ]
  },
  {
   "cell_type": "markdown",
   "metadata": {},
   "source": [
    "- Incase of logistic regression to find important features, firstly we have to check multi collinearity between features, if \n",
    "  features are collinear then we should find important features using forward or backward feature selection.\n",
    "- If features are not correlated then we should use optimal vector, in which consist of weight for each feature.\n",
    "- ** Multi collinearity:** which means very high inter correlation among the independent variables.\n",
    "    \n",
    "         - It occurs: 1. Inaccurate use of dummy variables.\n",
    "                      2. When we find one variable with help of other variables.\n",
    "                      3. Also occurs when repeatation of same kind of variables.\n",
    "                      4. Variables are highly correlated to each other.\n",
    "- We can also see multi collinearity by using an correlation matrix for independent variables."
   ]
  },
  {
   "cell_type": "code",
   "execution_count": 19,
   "metadata": {},
   "outputs": [],
   "source": [
    "#Training the model before adding the epsilon to training data\n",
    "clf = LogisticRegression(penalty='l2', C=239)\n",
    "clf.fit(bow_tr, y_tr)\n",
    "\n",
    "#find function takes input sparse or dense matrix and it can return row indices at 0, column indices at 1\n",
    "#and values of non-zero elements at 2\n",
    "weights = find(clf.coef_[0])[2]\n"
   ]
  },
  {
   "cell_type": "code",
   "execution_count": 20,
   "metadata": {},
   "outputs": [],
   "source": [
    "bow_t = bow_tr\n",
    "\n",
    "#Generating the random noise with N(0, 0.001), length should be non_zero elements in bow_tr\n",
    "epsilon = random.normal(0, 0.1, find(bow_t)[0].size)\n",
    "\n",
    "#Storing row, column and non_elements\n",
    "a, b, c = find(bow_t)\n",
    "\n",
    "#adding epsilon to all non_zero elements\n",
    "bow_t[a, b] = epsilon + bow_t[a, b]"
   ]
  },
  {
   "cell_type": "code",
   "execution_count": 21,
   "metadata": {},
   "outputs": [],
   "source": [
    "#Training the model after adding the epsilon to training data\n",
    "clf1 = LogisticRegression(penalty='l2', C=214)\n",
    "clf1.fit(bow_t, y_tr)\n",
    "\n",
    "#find function takes input sparse or dense matrix and it can return row indices at 0, column indices at 1\n",
    "#and values of non-zero elements at 2\n",
    "weights1 = find(clf1.coef_[0])[2]\n"
   ]
  },
  {
   "cell_type": "code",
   "execution_count": 22,
   "metadata": {},
   "outputs": [],
   "source": [
    "#Calculating the difference\n",
    "weight_diff = (abs(weights - weights1) / weights) * 100"
   ]
  },
  {
   "cell_type": "code",
   "execution_count": 25,
   "metadata": {},
   "outputs": [
    {
     "name": "stdout",
     "output_type": "stream",
     "text": [
      "41794\n"
     ]
    }
   ],
   "source": [
    "print(weight_diff[np.where(weight_diff > 30)].size)"
   ]
  },
  {
   "cell_type": "markdown",
   "metadata": {},
   "source": [
    "**Observation:** Attributes are collinear to each other."
   ]
  },
  {
   "cell_type": "markdown",
   "metadata": {},
   "source": [
    "### 4. Top 10 important Features for positive and negative classes:"
   ]
  },
  {
   "cell_type": "code",
   "execution_count": 46,
   "metadata": {},
   "outputs": [
    {
     "name": "stdout",
     "output_type": "stream",
     "text": [
      "Top 10 positive important features: ['fancier', 'goshoptnt', 'reinstat', 'borer', 'understandng', 'emeraldforest', 'fieri', 'compait', 'brothi', 'terror']\n",
      "****************************************************************************************************\n",
      "Top 10 negative important features: ['yadayadayada', 'gind', 'plumros', 'accel', 'cocca', 'weakest', 'wrongth', 'holl', 'onward', 'berryblossom']\n"
     ]
    }
   ],
   "source": [
    "#Getting the feature names from the count_vec\n",
    "features = count_vec.get_feature_names()\n",
    "\n",
    "#Combining coefficient values with the corresponding features\n",
    "coefs_with_fea = sorted(zip(clf.coef_[0], features))\n",
    "\n",
    "print(\"Top 10 positive important features:\", [a[1] for a in coefs_with_fea[-10:]])\n",
    "print(\"*\"*100)\n",
    "print(\"Top 10 negative important features:\", [a[1] for a in coefs_with_fea[:10]])"
   ]
  },
  {
   "cell_type": "markdown",
   "metadata": {},
   "source": [
    "# TFIDF: "
   ]
  },
  {
   "cell_type": "markdown",
   "metadata": {},
   "source": [
    "TF-IDF stands for term frequency-inverse document frequency. TF-IDF weight is a statistical measure used to evaluate how important a word is to a document in a collection or corpus. The importance increases proportionally to the number of times a word appears in the document but is offset by the frequency of the word in the corpus.\n",
    "\n",
    "Term_frequency(TF) = (number of times word occur in document) / (Total number of words in the document).\n",
    "\n",
    "Inverse_Document_freqency(IDF) = log((total number of documents) / In which documents a word occurs))\n",
    "\n",
    "                   So, TF-IDF(word) = TF(word) * IDF(word)"
   ]
  },
  {
   "cell_type": "code",
   "execution_count": 26,
   "metadata": {},
   "outputs": [],
   "source": [
    "#Vectorizing the data\n",
    "tfidf_vect = TfidfVectorizer(ngram_range=(1,2))\n",
    "tfidf_tr = tfidf_vect.fit_transform(X_tr)"
   ]
  },
  {
   "cell_type": "code",
   "execution_count": 27,
   "metadata": {},
   "outputs": [],
   "source": [
    "#Vectorizing the test data\n",
    "tfidf_test = tfidf_vect.transform(X_test)"
   ]
  },
  {
   "cell_type": "code",
   "execution_count": 28,
   "metadata": {},
   "outputs": [],
   "source": [
    "#Nomalizing the train and test data\n",
    "tfidf_tr = preprocessing.normalize(tfidf_tr)\n",
    "tfidf_test = preprocessing.normalize(tfidf_test)"
   ]
  },
  {
   "cell_type": "code",
   "execution_count": 29,
   "metadata": {},
   "outputs": [
    {
     "name": "stdout",
     "output_type": "stream",
     "text": [
      "Shape of train data: (254919, 2362093)\n",
      "Shape of test data: (109252, 2362093)\n"
     ]
    }
   ],
   "source": [
    "#Shape of the train and test data\n",
    "print(\"Shape of train data:\", tfidf_tr.shape)\n",
    "print(\"Shape of test data:\", tfidf_test.shape)"
   ]
  },
  {
   "cell_type": "markdown",
   "metadata": {},
   "source": [
    "### 1. Hyperparameter tuning using grid seach and random search cross validation:"
   ]
  },
  {
   "cell_type": "markdown",
   "metadata": {},
   "source": [
    "** Grid Search Cross Validation:**"
   ]
  },
  {
   "cell_type": "code",
   "execution_count": 51,
   "metadata": {},
   "outputs": [
    {
     "name": "stdout",
     "output_type": "stream",
     "text": [
      "Fitting 5 folds for each of 22 candidates, totalling 110 fits\n"
     ]
    },
    {
     "name": "stderr",
     "output_type": "stream",
     "text": [
      "[Parallel(n_jobs=3)]: Done  26 tasks      | elapsed:  4.2min\n",
      "[Parallel(n_jobs=3)]: Done 110 out of 110 | elapsed:  9.6min finished\n"
     ]
    },
    {
     "name": "stdout",
     "output_type": "stream",
     "text": [
      "optimal hyperparameter: {'C': 1000, 'penalty': 'l2'}\n",
      "Best Accuracy: 92.75761427293698\n"
     ]
    }
   ],
   "source": [
    "#Calling the Grid search function\n",
    "grid_scores, best_estimator = grid_search(tfidf_tr, y_tr)"
   ]
  },
  {
   "cell_type": "code",
   "execution_count": 52,
   "metadata": {},
   "outputs": [
    {
     "data": {
      "text/plain": [
       "[mean: 0.92310, std: 0.00205, params: {'C': 1000, 'penalty': 'l1'},\n",
       " mean: 0.92758, std: 0.00356, params: {'C': 1000, 'penalty': 'l2'}]"
      ]
     },
     "execution_count": 52,
     "metadata": {},
     "output_type": "execute_result"
    }
   ],
   "source": [
    "grid_scores[:2]"
   ]
  },
  {
   "cell_type": "code",
   "execution_count": 53,
   "metadata": {},
   "outputs": [
    {
     "data": {
      "image/png": "[encoded data removed]",
      "text/plain": [
       "<Figure size 432x288 with 1 Axes>"
      ]
     },
     "metadata": {},
     "output_type": "display_data"
    }
   ],
   "source": [
    "\n",
    "hy_params = [val[0]['C'] for val in grid_scores]\n",
    "\n",
    "cv_errors = [1-val[1] for val in grid_scores]\n",
    "\n",
    "#Calling the function for plot between C and cv_errors\n",
    "param_cv_error(hy_params, cv_errors)"
   ]
  },
  {
   "cell_type": "markdown",
   "metadata": {},
   "source": [
    "** Testing the model from best_estimator which can be return by the grid search cross validation.**"
   ]
  },
  {
   "cell_type": "code",
   "execution_count": 54,
   "metadata": {},
   "outputs": [
    {
     "data": {
      "text/plain": [
       "LogisticRegression(C=1000, class_weight=None, dual=False, fit_intercept=True,\n",
       "          intercept_scaling=1, max_iter=100, multi_class='ovr', n_jobs=1,\n",
       "          penalty='l2', random_state=None, solver='liblinear', tol=0.0001,\n",
       "          verbose=0, warm_start=False)"
      ]
     },
     "execution_count": 54,
     "metadata": {},
     "output_type": "execute_result"
    }
   ],
   "source": [
    "#Result showing the best classifier consisting of parameters\n",
    "best_estimator"
   ]
  },
  {
   "cell_type": "code",
   "execution_count": 55,
   "metadata": {},
   "outputs": [],
   "source": [
    "#Finding the predicted values for test labels using the test data\n",
    "y_pred = best_estimator.predict(tfidf_test)"
   ]
  },
  {
   "cell_type": "code",
   "execution_count": 56,
   "metadata": {},
   "outputs": [
    {
     "name": "stdout",
     "output_type": "stream",
     "text": [
      "Accuracy on test data: 93.2\n",
      "Precision on test data: 94.59\n",
      "Recall on test data: 97.33\n",
      "F1_score on test data: 95.94\n"
     ]
    },
    {
     "data": {
      "image/png": "[encoded data removed]",
      "text/plain": [
       "<Figure size 432x288 with 2 Axes>"
      ]
     },
     "metadata": {},
     "output_type": "display_data"
    }
   ],
   "source": [
    "#Calling the function for test metrics\n",
    "test_metrics(y_test, y_pred)"
   ]
  },
  {
   "cell_type": "markdown",
   "metadata": {},
   "source": [
    "** Random Search Cross Validation:**"
   ]
  },
  {
   "cell_type": "code",
   "execution_count": 57,
   "metadata": {},
   "outputs": [
    {
     "name": "stdout",
     "output_type": "stream",
     "text": [
      "Fitting 5 folds for each of 10 candidates, totalling 50 fits\n"
     ]
    },
    {
     "name": "stderr",
     "output_type": "stream",
     "text": [
      "[Parallel(n_jobs=3)]: Done  26 tasks      | elapsed:  3.6min\n",
      "[Parallel(n_jobs=3)]: Done  50 out of  50 | elapsed:  7.0min finished\n"
     ]
    },
    {
     "name": "stdout",
     "output_type": "stream",
     "text": [
      "optimal hyperparameter: {'penalty': 'l2', 'C': 250}\n",
      "Best accuracy: 92.71807183542813\n"
     ]
    }
   ],
   "source": [
    "#Calling the function for random search cross validation\n",
    "best_estimator = random_search(tfidf_tr, y_tr)"
   ]
  },
  {
   "cell_type": "markdown",
   "metadata": {},
   "source": [
    "** Testing the model from best_estimator which can be return by the random search cross validation.**"
   ]
  },
  {
   "cell_type": "code",
   "execution_count": 58,
   "metadata": {},
   "outputs": [
    {
     "data": {
      "text/plain": [
       "LogisticRegression(C=250, class_weight=None, dual=False, fit_intercept=True,\n",
       "          intercept_scaling=1, max_iter=100, multi_class='ovr', n_jobs=1,\n",
       "          penalty='l2', random_state=None, solver='liblinear', tol=0.0001,\n",
       "          verbose=0, warm_start=False)"
      ]
     },
     "execution_count": 58,
     "metadata": {},
     "output_type": "execute_result"
    }
   ],
   "source": [
    "#Result showing the best classifier consisting of parameters\n",
    "best_estimator"
   ]
  },
  {
   "cell_type": "code",
   "execution_count": 59,
   "metadata": {},
   "outputs": [],
   "source": [
    "#Finding the predicted labels for test data\n",
    "y_pred = best_estimator.predict(tfidf_test)"
   ]
  },
  {
   "cell_type": "code",
   "execution_count": 60,
   "metadata": {},
   "outputs": [
    {
     "name": "stdout",
     "output_type": "stream",
     "text": [
      "Accuracy on test data: 93.2\n",
      "Precision on test data: 94.55\n",
      "Recall on test data: 97.38\n",
      "F1_score on test data: 95.94\n"
     ]
    },
    {
     "data": {
      "image/png": "[encoded data removed]",
      "text/plain": [
       "<Figure size 432x288 with 2 Axes>"
      ]
     },
     "metadata": {},
     "output_type": "display_data"
    }
   ],
   "source": [
    "#Calling the function for test metrics\n",
    "test_metrics(y_test, y_pred)"
   ]
  },
  {
   "cell_type": "markdown",
   "metadata": {},
   "source": [
    " "
   ]
  },
  {
   "cell_type": "markdown",
   "metadata": {},
   "source": [
    "### 2. More Sparsity(Fewer elements of w* being non-zero) as C deceases or lambda increases using L1-regularization:"
   ]
  },
  {
   "cell_type": "code",
   "execution_count": 61,
   "metadata": {},
   "outputs": [
    {
     "name": "stdout",
     "output_type": "stream",
     "text": [
      "Number of non_zero elements in optimal vector for C=10 and l1_reg is 32358:\n"
     ]
    }
   ],
   "source": [
    "#To find number of non_zero elements with the C=10 and l1_reg\n",
    "C=10\n",
    "non_zero_ele(tfidf_tr, y_tr, C)"
   ]
  },
  {
   "cell_type": "code",
   "execution_count": 62,
   "metadata": {},
   "outputs": [
    {
     "name": "stdout",
     "output_type": "stream",
     "text": [
      "Number of non_zero elements in optimal vector for C=5 and l1_reg is 21163:\n"
     ]
    }
   ],
   "source": [
    "#To find number of non_zero elements with the C=10 and l1_reg\n",
    "C=5\n",
    "non_zero_ele(tfidf_tr, y_tr, C)"
   ]
  },
  {
   "cell_type": "code",
   "execution_count": 63,
   "metadata": {},
   "outputs": [
    {
     "name": "stdout",
     "output_type": "stream",
     "text": [
      "Number of non_zero elements in optimal vector for C=1 and l1_reg is 2656:\n"
     ]
    }
   ],
   "source": [
    "#To find number of non_zero elements with the C=10 and l1_reg\n",
    "C=1\n",
    "non_zero_ele(tfidf_tr, y_tr, C)"
   ]
  },
  {
   "cell_type": "code",
   "execution_count": 64,
   "metadata": {},
   "outputs": [
    {
     "name": "stdout",
     "output_type": "stream",
     "text": [
      "Number of non_zero elements in optimal vector for C=0.1 and l1_reg is 339:\n"
     ]
    }
   ],
   "source": [
    "#To find number of non_zero elements with the C=10 and l1_reg\n",
    "C=0.1\n",
    "non_zero_ele(tfidf_tr, y_tr, C)"
   ]
  },
  {
   "cell_type": "code",
   "execution_count": 65,
   "metadata": {},
   "outputs": [
    {
     "name": "stdout",
     "output_type": "stream",
     "text": [
      "Number of non_zero elements in optimal vector for C=0.01 and l1_reg is 20:\n"
     ]
    }
   ],
   "source": [
    "#To find number of non_zero elements with the C=10 and l1_reg\n",
    "C=0.01\n",
    "non_zero_ele(tfidf_tr, y_tr, C)"
   ]
  },
  {
   "cell_type": "markdown",
   "metadata": {},
   "source": [
    "### 3. Pertubation Test (Multi collinearity test):"
   ]
  },
  {
   "cell_type": "code",
   "execution_count": 31,
   "metadata": {},
   "outputs": [],
   "source": [
    "#Training the model before adding the epsilon to training data\n",
    "clf = LogisticRegression(penalty='l2', C=1000)\n",
    "clf.fit(tfidf_tr, y_tr)\n",
    "\n",
    "#find function takes input sparse or dense matrix and it can return row indices at 0, column indices at 1\n",
    "#and values of non-zero elements at 2\n",
    "weights = find(clf.coef_[0])[2]\n"
   ]
  },
  {
   "cell_type": "code",
   "execution_count": 32,
   "metadata": {},
   "outputs": [],
   "source": [
    "tfidf_t = tfidf_tr\n",
    "\n",
    "#Generating the random noise with N(0, 0.001), length should be non_zero elements in bow_tr\n",
    "epsilon = random.normal(0, 0.1, find(tfidf_t)[0].size)\n",
    "\n",
    "#Storing row, column and non_elements\n",
    "a, b, c = find(tfidf_t)\n",
    "\n",
    "#adding epsilon to all non_zero elements\n",
    "tfidf_t[a, b] = epsilon + tfidf_t[a, b]"
   ]
  },
  {
   "cell_type": "code",
   "execution_count": 33,
   "metadata": {},
   "outputs": [],
   "source": [
    "#Training the model after adding the epsilon to training data\n",
    "clf1 = LogisticRegression(penalty='l2', C=1000)\n",
    "clf1.fit(tfidf_t, y_tr)\n",
    "\n",
    "#find function takes input sparse or dense matrix and it can return row indices at 0, column indices at 1\n",
    "#and values of non-zero elements at 2\n",
    "weights1 = find(clf1.coef_[0])[2]\n"
   ]
  },
  {
   "cell_type": "code",
   "execution_count": 34,
   "metadata": {},
   "outputs": [],
   "source": [
    "weight_diff = (abs(weights - weights1)/weights) * 100"
   ]
  },
  {
   "cell_type": "code",
   "execution_count": 36,
   "metadata": {},
   "outputs": [
    {
     "name": "stdout",
     "output_type": "stream",
     "text": [
      "1322430\n"
     ]
    }
   ],
   "source": [
    "print(weight_diff[np.where(weight_diff > 50)].size)"
   ]
  },
  {
   "cell_type": "markdown",
   "metadata": {},
   "source": [
    " "
   ]
  },
  {
   "cell_type": "markdown",
   "metadata": {},
   "source": [
    "### 4. Top 10 important Features for positive and negative classes:"
   ]
  },
  {
   "cell_type": "code",
   "execution_count": 71,
   "metadata": {},
   "outputs": [
    {
     "name": "stdout",
     "output_type": "stream",
     "text": [
      "Top 10 positive important features: ['awesom', 'amaz', 'wont disappoint', 'excel', 'love', 'perfect', 'best', 'high recommend', 'delici', 'great']\n",
      "****************************************************************************************************\n",
      "Top 10 negative important features: ['worst', 'two star', 'disappoint', 'terribl', 'aw', 'horribl', 'threw', 'disgust', 'return', 'bland']\n"
     ]
    }
   ],
   "source": [
    "#Getting the feature names from the count_vec\n",
    "features = tfidf_vect.get_feature_names()\n",
    "\n",
    "#Combining coefficient values with the corresponding features\n",
    "coefs_with_fea = sorted(zip(clf.coef_[0], features))\n",
    "\n",
    "print(\"Top 10 positive important features:\", [a[1] for a in coefs_with_fea[-10:]])\n",
    "print(\"*\"*100)\n",
    "print(\"Top 10 negative important features:\", [a[1] for a in coefs_with_fea[:10]])"
   ]
  },
  {
   "cell_type": "markdown",
   "metadata": {},
   "source": [
    " "
   ]
  },
  {
   "cell_type": "markdown",
   "metadata": {},
   "source": [
    "# Avg_w2v: \n",
    "                    \n",
    "          1. W2V can take the semantic meaning of the words.\n",
    "          2. W2V can convert each word into an vector.\n",
    "          3. Avg_W2V means for each review vector should be (W2V(word1) + W2V(word2)--------+ W2V(wordn)/(total no.of words)."
   ]
  },
  {
   "cell_type": "code",
   "execution_count": 43,
   "metadata": {},
   "outputs": [],
   "source": [
    "#Forming the list_of_words for 50k reviews\n",
    "sent_words = []\n",
    "for sent in X:\n",
    "    sent_words.append(sent.split())"
   ]
  },
  {
   "cell_type": "code",
   "execution_count": 44,
   "metadata": {},
   "outputs": [],
   "source": [
    "#Splitting the into train and test data\n",
    "X_tr_w2v, X_test_w2v, y_tr_w2v, y_test_w2v = train_test_split(sent_words, y, test_size=0.3, shuffle=False)"
   ]
  },
  {
   "cell_type": "code",
   "execution_count": 45,
   "metadata": {},
   "outputs": [],
   "source": [
    "#Word to vectors for train data\n",
    "w2v = gensim.models.Word2Vec(X_tr_w2v,min_count=5,size=50)"
   ]
  },
  {
   "cell_type": "code",
   "execution_count": 46,
   "metadata": {},
   "outputs": [
    {
     "name": "stdout",
     "output_type": "stream",
     "text": [
      "total words in w2v 19107\n",
      "['witti', 'littl', 'book', 'make', 'son', 'laugh', 'loud', 'recit', 'car', 'drive']\n"
     ]
    }
   ],
   "source": [
    "#storing w2v_words which can be return by w2v vocabilary\n",
    "w2v_words = list(w2v.wv.vocab)\n",
    "print(\"total words in w2v\",len(w2v_words))\n",
    "print(w2v_words[0:10])"
   ]
  },
  {
   "cell_type": "code",
   "execution_count": 47,
   "metadata": {},
   "outputs": [],
   "source": [
    "#Function for Avg_w2v\n",
    "def avg_w2v(data, w2v, w2v_words):\n",
    "    \n",
    "    avg_vectors = []  #creating an empty list\n",
    "    row = 0\n",
    "    for sent in data:\n",
    "        \n",
    "        sent_vec = np.zeros(50)   #creating an vector which size should be 50 and all cells have zero's\n",
    "        cnt_words = 0\n",
    "        for word in sent:       #From each sentence taking word\n",
    "            if word in w2v_words:\n",
    "                vec = w2v.wv[word]   #Creating vector for word\n",
    "                sent_vec += vec      #Combining all word vectors to create sentence vector\n",
    "                cnt_words += 1\n",
    "        if cnt_words != 0:\n",
    "            sent_vec /= cnt_words\n",
    "            avg_vectors.append(sent_vec)     \n",
    "        row += 1 \n",
    "        if cnt_words == 0:\n",
    "            print(row)\n",
    "    return avg_vectors"
   ]
  },
  {
   "cell_type": "code",
   "execution_count": 48,
   "metadata": {},
   "outputs": [
    {
     "name": "stdout",
     "output_type": "stream",
     "text": [
      "192902\n",
      "227729\n",
      "Wall time: 4min 36s\n"
     ]
    }
   ],
   "source": [
    "\n",
    "%%time \n",
    "\n",
    "#Avg w2v for train data\n",
    "X_tr_avg_w2v = avg_w2v(X_tr_w2v, w2v, w2v_words)"
   ]
  },
  {
   "cell_type": "code",
   "execution_count": 51,
   "metadata": {},
   "outputs": [],
   "source": [
    "#Droping the labels of corresponding test reviews whose words not match with train vocabilory\n",
    "y_tr_w2v.drop(labels=[192901, 227728], inplace=True)   "
   ]
  },
  {
   "cell_type": "code",
   "execution_count": 53,
   "metadata": {},
   "outputs": [
    {
     "name": "stdout",
     "output_type": "stream",
     "text": [
      "3296\n",
      "101568\n"
     ]
    }
   ],
   "source": [
    "#Avg w2v for test data\n",
    "X_test_avg_w2v = avg_w2v(X_test_w2v, w2v, w2v_words)"
   ]
  },
  {
   "cell_type": "code",
   "execution_count": 54,
   "metadata": {},
   "outputs": [],
   "source": [
    "#Storing y_test_w2v indices because corresponding vectors are empty\n",
    "r1 = 254918 + 3296\n",
    "r2 = 254918 + 101568"
   ]
  },
  {
   "cell_type": "code",
   "execution_count": 55,
   "metadata": {},
   "outputs": [],
   "source": [
    "#Droping the labels of corresponding test reviews whose words not match with train vocabilory\n",
    "y_test_w2v.drop(labels=[r1, r2], inplace=True)   "
   ]
  },
  {
   "cell_type": "markdown",
   "metadata": {},
   "source": [
    "###  Hyperparameter tunning using grid seach and random search cross validation:"
   ]
  },
  {
   "cell_type": "markdown",
   "metadata": {},
   "source": [
    "** Grid Search Cross Validation:**"
   ]
  },
  {
   "cell_type": "code",
   "execution_count": 56,
   "metadata": {},
   "outputs": [
    {
     "name": "stdout",
     "output_type": "stream",
     "text": [
      "Fitting 5 folds for each of 22 candidates, totalling 110 fits\n"
     ]
    },
    {
     "name": "stderr",
     "output_type": "stream",
     "text": [
      "[Parallel(n_jobs=3)]: Done  26 tasks      | elapsed:  6.6min\n",
      "[Parallel(n_jobs=3)]: Done 110 out of 110 | elapsed: 16.1min finished\n"
     ]
    },
    {
     "name": "stdout",
     "output_type": "stream",
     "text": [
      "optimal hyperparameter: {'C': 100, 'penalty': 'l2'}\n",
      "Best Accuracy: 89.250576660547\n"
     ]
    }
   ],
   "source": [
    "#Calling the Grid search function\n",
    "grid_scores, best_estimator = grid_search(X_tr_avg_w2v, y_tr_w2v)"
   ]
  },
  {
   "cell_type": "code",
   "execution_count": 57,
   "metadata": {},
   "outputs": [
    {
     "data": {
      "text/plain": [
       "[mean: 0.89243, std: 0.00638, params: {'C': 1000, 'penalty': 'l1'},\n",
       " mean: 0.89250, std: 0.00634, params: {'C': 1000, 'penalty': 'l2'}]"
      ]
     },
     "execution_count": 57,
     "metadata": {},
     "output_type": "execute_result"
    }
   ],
   "source": [
    "grid_scores[:2]"
   ]
  },
  {
   "cell_type": "code",
   "execution_count": 58,
   "metadata": {},
   "outputs": [
    {
     "data": {
      "image/png": "[encoded data removed]",
      "text/plain": [
       "<Figure size 432x288 with 1 Axes>"
      ]
     },
     "metadata": {},
     "output_type": "display_data"
    }
   ],
   "source": [
    "\n",
    "hy_params = [val[0]['C'] for val in grid_scores]\n",
    "\n",
    "cv_errors = [1-val[1] for val in grid_scores]\n",
    "\n",
    "#Calling the function for plot between C and cv_errors\n",
    "param_cv_error(hy_params, cv_errors)"
   ]
  },
  {
   "cell_type": "markdown",
   "metadata": {},
   "source": [
    "** Testing the model from best_estimator which can be return by the grid search cross validation.**"
   ]
  },
  {
   "cell_type": "code",
   "execution_count": 59,
   "metadata": {},
   "outputs": [
    {
     "data": {
      "text/plain": [
       "LogisticRegression(C=100, class_weight=None, dual=False, fit_intercept=True,\n",
       "          intercept_scaling=1, max_iter=100, multi_class='ovr', n_jobs=1,\n",
       "          penalty='l2', random_state=None, solver='liblinear', tol=0.0001,\n",
       "          verbose=0, warm_start=False)"
      ]
     },
     "execution_count": 59,
     "metadata": {},
     "output_type": "execute_result"
    }
   ],
   "source": [
    "#Result showing the best classifier consisting of parameters\n",
    "best_estimator"
   ]
  },
  {
   "cell_type": "code",
   "execution_count": 60,
   "metadata": {},
   "outputs": [],
   "source": [
    "y_pred = best_estimator.predict(X_test_avg_w2v)"
   ]
  },
  {
   "cell_type": "code",
   "execution_count": 63,
   "metadata": {},
   "outputs": [
    {
     "name": "stdout",
     "output_type": "stream",
     "text": [
      "Accuracy on test data: 88.61\n",
      "Precision on test data: 90.18\n",
      "Recall on test data: 96.74\n",
      "F1_score on test data: 93.34\n"
     ]
    },
    {
     "data": {
      "image/png": "[encoded data removed]",
      "text/plain": [
       "<Figure size 432x288 with 2 Axes>"
      ]
     },
     "metadata": {},
     "output_type": "display_data"
    }
   ],
   "source": [
    "#Calling the function for test metrics\n",
    "test_metrics(y_test_w2v, y_pred)"
   ]
  },
  {
   "cell_type": "markdown",
   "metadata": {},
   "source": [
    "** Random Search Cross Validation:**"
   ]
  },
  {
   "cell_type": "code",
   "execution_count": 64,
   "metadata": {},
   "outputs": [
    {
     "name": "stdout",
     "output_type": "stream",
     "text": [
      "Fitting 5 folds for each of 10 candidates, totalling 50 fits\n"
     ]
    },
    {
     "name": "stderr",
     "output_type": "stream",
     "text": [
      "[Parallel(n_jobs=3)]: Done  26 tasks      | elapsed:  4.7min\n",
      "[Parallel(n_jobs=3)]: Done  50 out of  50 | elapsed:  9.9min finished\n"
     ]
    },
    {
     "name": "stdout",
     "output_type": "stream",
     "text": [
      "optimal hyperparameter: {'penalty': 'l2', 'C': 72}\n",
      "Best accuracy: 89.250576660547\n"
     ]
    }
   ],
   "source": [
    "#Calling the function for random search cross validation\n",
    "best_estimator = random_search(X_tr_avg_w2v, y_tr_w2v)"
   ]
  },
  {
   "cell_type": "markdown",
   "metadata": {},
   "source": [
    "** Testing the model from best_estimator which can be return by the random search cross validation.**"
   ]
  },
  {
   "cell_type": "code",
   "execution_count": 65,
   "metadata": {},
   "outputs": [
    {
     "data": {
      "text/plain": [
       "LogisticRegression(C=72, class_weight=None, dual=False, fit_intercept=True,\n",
       "          intercept_scaling=1, max_iter=100, multi_class='ovr', n_jobs=1,\n",
       "          penalty='l2', random_state=None, solver='liblinear', tol=0.0001,\n",
       "          verbose=0, warm_start=False)"
      ]
     },
     "execution_count": 65,
     "metadata": {},
     "output_type": "execute_result"
    }
   ],
   "source": [
    "#Result showing the best classifier consisting of parameters\n",
    "best_estimator"
   ]
  },
  {
   "cell_type": "code",
   "execution_count": 66,
   "metadata": {},
   "outputs": [],
   "source": [
    "y_pred = best_estimator.predict(X_test_avg_w2v)"
   ]
  },
  {
   "cell_type": "code",
   "execution_count": 67,
   "metadata": {},
   "outputs": [
    {
     "name": "stdout",
     "output_type": "stream",
     "text": [
      "Accuracy on test data: 88.61\n",
      "Precision on test data: 90.18\n",
      "Recall on test data: 96.74\n",
      "F1_score on test data: 93.34\n"
     ]
    },
    {
     "data": {
      "image/png": "[encoded data removed]",
      "text/plain": [
       "<Figure size 432x288 with 2 Axes>"
      ]
     },
     "metadata": {},
     "output_type": "display_data"
    }
   ],
   "source": [
    "#Calling the function for test metrics\n",
    "test_metrics(y_test_w2v, y_pred)"
   ]
  },
  {
   "cell_type": "markdown",
   "metadata": {},
   "source": [
    "# TFIDF-w2v: "
   ]
  },
  {
   "cell_type": "code",
   "execution_count": 68,
   "metadata": {},
   "outputs": [],
   "source": [
    "#Previously done tfidf_w2v with the 50k points\n",
    "#Getting the train data\n",
    "tfidf_w2v_tr= openfromfile(\"tfidf_w2v_train_of_50k_pts\")\n",
    "y_tr_w2v = openfromfile(\"tfidf_y_tr_w2v_of_50k_pts\")"
   ]
  },
  {
   "cell_type": "code",
   "execution_count": 69,
   "metadata": {},
   "outputs": [],
   "source": [
    "#Getting the test data\n",
    "tfidf_w2v_test = openfromfile(\"tfidf_w2v_test_of_50k_pts\")\n",
    "y_test_w2v = openfromfile(\"tfidf_y_test_w2v_of_50k_pts\")"
   ]
  },
  {
   "cell_type": "code",
   "execution_count": 70,
   "metadata": {},
   "outputs": [
    {
     "name": "stdout",
     "output_type": "stream",
     "text": [
      "Length of the train data: 35000\n",
      "Length of the test data: 10164\n"
     ]
    }
   ],
   "source": [
    "#Shape of the train and test data\n",
    "print(\"Length of the train data:\", len(tfidf_w2v_tr))\n",
    "print(\"Length of the test data:\", len(tfidf_w2v_test))"
   ]
  },
  {
   "cell_type": "markdown",
   "metadata": {},
   "source": [
    "###  Hyperparameter tunning using grid seach and random search cross validation:"
   ]
  },
  {
   "cell_type": "markdown",
   "metadata": {},
   "source": [
    "** Grid Search Cross Validation:**"
   ]
  },
  {
   "cell_type": "code",
   "execution_count": 71,
   "metadata": {},
   "outputs": [
    {
     "name": "stdout",
     "output_type": "stream",
     "text": [
      "Fitting 5 folds for each of 22 candidates, totalling 110 fits\n"
     ]
    },
    {
     "name": "stderr",
     "output_type": "stream",
     "text": [
      "[Parallel(n_jobs=3)]: Done  26 tasks      | elapsed:   17.8s\n",
      "[Parallel(n_jobs=3)]: Done 110 out of 110 | elapsed:  1.0min finished\n"
     ]
    },
    {
     "name": "stdout",
     "output_type": "stream",
     "text": [
      "optimal hyperparameter: {'C': 10, 'penalty': 'l1'}\n",
      "Best Accuracy: 90.09086233499058\n"
     ]
    }
   ],
   "source": [
    "#Calling the Grid search function\n",
    "grid_scores, best_estimator = grid_search(tfidf_w2v_tr, y_tr_w2v)"
   ]
  },
  {
   "cell_type": "code",
   "execution_count": 72,
   "metadata": {},
   "outputs": [
    {
     "data": {
      "image/png": "[encoded data removed]",
      "text/plain": [
       "<Figure size 432x288 with 1 Axes>"
      ]
     },
     "metadata": {},
     "output_type": "display_data"
    }
   ],
   "source": [
    "\n",
    "hy_params = [val[0]['C'] for val in grid_scores]\n",
    "\n",
    "cv_errors = [1-val[1] for val in grid_scores]\n",
    "\n",
    "#Calling the function for plot between C and cv_errors\n",
    "param_cv_error(hy_params, cv_errors)"
   ]
  },
  {
   "cell_type": "markdown",
   "metadata": {},
   "source": [
    "** Testing the model from best_estimator which can be return by the grid search cross validation.**"
   ]
  },
  {
   "cell_type": "code",
   "execution_count": 73,
   "metadata": {},
   "outputs": [
    {
     "data": {
      "text/plain": [
       "LogisticRegression(C=10, class_weight=None, dual=False, fit_intercept=True,\n",
       "          intercept_scaling=1, max_iter=100, multi_class='ovr', n_jobs=1,\n",
       "          penalty='l1', random_state=None, solver='liblinear', tol=0.0001,\n",
       "          verbose=0, warm_start=False)"
      ]
     },
     "execution_count": 73,
     "metadata": {},
     "output_type": "execute_result"
    }
   ],
   "source": [
    "#Result showing the best classifier consisting of parameters\n",
    "best_estimator"
   ]
  },
  {
   "cell_type": "code",
   "execution_count": 74,
   "metadata": {},
   "outputs": [],
   "source": [
    "y_pred = best_estimator.predict(tfidf_w2v_test)"
   ]
  },
  {
   "cell_type": "code",
   "execution_count": 75,
   "metadata": {},
   "outputs": [
    {
     "name": "stdout",
     "output_type": "stream",
     "text": [
      "Accuracy on test data: 72.37\n",
      "Precision on test data: 89.85\n",
      "Recall on test data: 77.44\n",
      "F1_score on test data: 83.19\n"
     ]
    },
    {
     "data": {
      "image/png": "[encoded data removed]",
      "text/plain": [
       "<Figure size 432x288 with 2 Axes>"
      ]
     },
     "metadata": {},
     "output_type": "display_data"
    }
   ],
   "source": [
    "#Calling the function for test metrics\n",
    "test_metrics(y_test_w2v, y_pred)"
   ]
  },
  {
   "cell_type": "markdown",
   "metadata": {},
   "source": [
    "** Random Search Cross Validation:**"
   ]
  },
  {
   "cell_type": "code",
   "execution_count": 76,
   "metadata": {},
   "outputs": [
    {
     "name": "stdout",
     "output_type": "stream",
     "text": [
      "Fitting 5 folds for each of 10 candidates, totalling 50 fits\n"
     ]
    },
    {
     "name": "stderr",
     "output_type": "stream",
     "text": [
      "[Parallel(n_jobs=3)]: Done  26 tasks      | elapsed:   15.6s\n",
      "[Parallel(n_jobs=3)]: Done  50 out of  50 | elapsed:   29.6s finished\n"
     ]
    },
    {
     "name": "stdout",
     "output_type": "stream",
     "text": [
      "optimal hyperparameter: {'penalty': 'l1', 'C': 495}\n",
      "Best accuracy: 90.0840048002743\n"
     ]
    }
   ],
   "source": [
    "#Calling the function for random search cross validation\n",
    "best_estimator = random_search(tfidf_w2v_tr, y_tr_w2v)"
   ]
  },
  {
   "cell_type": "code",
   "execution_count": 77,
   "metadata": {},
   "outputs": [
    {
     "data": {
      "text/plain": [
       "LogisticRegression(C=495, class_weight=None, dual=False, fit_intercept=True,\n",
       "          intercept_scaling=1, max_iter=100, multi_class='ovr', n_jobs=1,\n",
       "          penalty='l1', random_state=None, solver='liblinear', tol=0.0001,\n",
       "          verbose=0, warm_start=False)"
      ]
     },
     "execution_count": 77,
     "metadata": {},
     "output_type": "execute_result"
    }
   ],
   "source": [
    "#Result showing the best classifier consisting of parameters\n",
    "best_estimator"
   ]
  },
  {
   "cell_type": "code",
   "execution_count": 78,
   "metadata": {},
   "outputs": [],
   "source": [
    "y_pred = best_estimator.predict(tfidf_w2v_test)"
   ]
  },
  {
   "cell_type": "code",
   "execution_count": 79,
   "metadata": {},
   "outputs": [
    {
     "name": "stdout",
     "output_type": "stream",
     "text": [
      "Accuracy on test data: 72.37\n",
      "Precision on test data: 89.85\n",
      "Recall on test data: 77.44\n",
      "F1_score on test data: 83.19\n"
     ]
    },
    {
     "data": {
      "image/png": "[encoded data removed]",
      "text/plain": [
       "<Figure size 432x288 with 2 Axes>"
      ]
     },
     "metadata": {},
     "output_type": "display_data"
    }
   ],
   "source": [
    "#Calling the function for test metrics\n",
    "test_metrics(y_test_w2v, y_pred)"
   ]
  },
  {
   "cell_type": "markdown",
   "metadata": {},
   "source": [
    "# Summary: "
   ]
  },
  {
   "cell_type": "markdown",
   "metadata": {},
   "source": [
    "** Performance Table: **\n",
    "\n",
    "|Featurization  |sample size|CV           |Accuracy        |   F1-score  |C       | Penalty     | \n",
    "|---------------|-----------|-------------|----------------|-------------|--------|-------------|\n",
    "|               |           |             |Test accuracy   |Test f1-score|        |             |\n",
    "| BOW           |364k       |Grid Search  |91.85%          |95.15%       |10      |L2           |\n",
    "|               |           |Ramdom Search|91.31%          |94.81%       |239     |L2           |              \n",
    "|TF-IDF         |364k       |Grid Search  |93.20%          |95.94%       |1000    |L2           |\n",
    "|               |           |Random Search|93.20%          |95.94%       |250     |L2           |\n",
    "|Avg-W2V        |364k       |Grid Search  |88.61%          |93.34%       |100     |L2           |\n",
    "|               |           |Random Search|88.61%          |93.34%       |72      |L2           |\n",
    "|TF-IDF W2V     |50k        |Grid Search  |72.37%          |83.19%       |10      |L1           |\n",
    "|               |           |Random Search|72.37%          |83.19%       |495     |L1           |\n",
    "\n",
    "**Observation:** \n",
    "\n",
    "- TF_IDF is working well for this dataset with logistic regression.\n",
    "- Using with L1 regularization, as C deceases then number of non-zero rows decreases.\n",
    "- There is an collinearity between the attributes.\n"
   ]
  }
 ],
 "metadata": {
  "kernelspec": {
   "display_name": "Python 3",
   "language": "python",
   "name": "python3"
  },
  "language_info": {
   "codemirror_mode": {
    "name": "ipython",
    "version": 3
   },
   "file_extension": ".py",
   "mimetype": "text/x-python",
   "name": "python",
   "nbconvert_exporter": "python",
   "pygments_lexer": "ipython3",
   "version": "3.6.5"
  }
 },
 "nbformat": 4,
 "nbformat_minor": 2
}
