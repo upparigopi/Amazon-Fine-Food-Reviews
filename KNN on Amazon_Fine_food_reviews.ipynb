{
 "cells": [
  {
   "cell_type": "markdown",
   "metadata": {},
   "source": [
    "# Assignment 3: KNN "
   ]
  },
  {
   "cell_type": "markdown",
   "metadata": {},
   "source": [
    "- KNN means K-Neighbour neighbours which can store all available cases and classifies new measures based on the similarity measure(e.g., distance functions).\n",
    "\n",
    "\n",
    "- It can use the Euclidean Distance which means distance between two points.\n",
    "               \n",
    "               dis(X,Y) = sqrt(sum(xi - yi)) \n",
    "- It works as follows:\n",
    "               \n",
    "               1. For an given Query point it can find the all K-nearest neighbours based on the distance.\n",
    "               2. Find the class labels for all neighbours.\n",
    "               3. Then give the majority vote among all neighbours class labels.\n",
    "- Failure cases of KNN:\n",
    "           \n",
    "               1. if outliers are present then knn will not work as our expectation.\n",
    "               2. if data is randomly spread by that we don't get usefull information, in that case it will not work well.\n",
    "\n",
    "- To train knn time is very less but incase of test time is more, so we cann't use for internet applications, stock market etc\n",
    "\n",
    "- For KNN, K is an hyperparameter so, as K increases then the smoothness of the decision surface will increase.\n",
    "\n",
    "- But there is some problem as k is very low then leads to overfitting problem(which means training error is low), as K increases then problem of underfit(e.g., suppose if we have 70 +ve points and 30 -ve points if k>=70 then knn will always classifies +ve point eventhough our original Query point is negative.), Train error is high for underfit.\n",
    "\n",
    "- Advantages:\n",
    "             \n",
    "             1. Simple and effective.\n",
    "             2. Makes no assumptions.\n",
    "             3. Fast Training phase.\n",
    "- Disadvantages:\n",
    "            \n",
    "             1. Slow Classification Phase(which means testing phase).\n",
    "             2. Requires lot amount of memory\n",
    "             3. Nomina features and missing data requires additional processing."
   ]
  },
  {
   "cell_type": "code",
   "execution_count": 266,
   "metadata": {},
   "outputs": [],
   "source": [
    "#Ignore warnings\n",
    "import warnings\n",
    "warnings.filterwarnings('ignore')"
   ]
  },
  {
   "cell_type": "code",
   "execution_count": 267,
   "metadata": {},
   "outputs": [],
   "source": [
    "import pickle \n",
    "def savetofile(obj,filename):\n",
    "    pickle.dump(obj,open(filename,\"wb\"))\n",
    "    \n",
    "def openfromfile(filename):\n",
    "    temp=pickle.load(open(filename,\"rb\"))\n",
    "    return temp"
   ]
  },
  {
   "cell_type": "code",
   "execution_count": 268,
   "metadata": {},
   "outputs": [],
   "source": [
    "#Loading the libraries\n",
    "import pandas as pd\n",
    "import numpy as np\n",
    "import matplotlib.pyplot as plt\n",
    "import seaborn as sns\n",
    "\n",
    "from sklearn.model_selection import train_test_split\n",
    "from sklearn.feature_extraction.text import CountVectorizer\n",
    "from sklearn import preprocessing\n",
    "\n",
    "from sklearn.neighbors import KNeighborsClassifier\n",
    "from sklearn.model_selection import TimeSeriesSplit\n",
    "from sklearn.model_selection import GridSearchCV\n",
    "\n",
    "from sklearn.metrics import confusion_matrix\n",
    "from sklearn.metrics import accuracy_score\n",
    "from sklearn.metrics import recall_score\n",
    "from sklearn.metrics import precision_score\n",
    "from sklearn.metrics import f1_score\n",
    "\n",
    "from sklearn.decomposition import TruncatedSVD\n",
    "from sklearn.feature_extraction.text import TfidfVectorizer\n",
    "import gensim"
   ]
  },
  {
   "cell_type": "code",
   "execution_count": 269,
   "metadata": {},
   "outputs": [],
   "source": [
    "#Loading the dataset\n",
    "data_frame = openfromfile(\"New_Amazon_preprocess_data\")"
   ]
  },
  {
   "cell_type": "code",
   "execution_count": 270,
   "metadata": {},
   "outputs": [
    {
     "name": "stdout",
     "output_type": "stream",
     "text": [
      "Shape of the Data Frame (364171, 11)\n"
     ]
    },
    {
     "data": {
      "text/html": [
       "<div>\n",
       "<style scoped>\n",
       "    .dataframe tbody tr th:only-of-type {\n",
       "        vertical-align: middle;\n",
       "    }\n",
       "\n",
       "    .dataframe tbody tr th {\n",
       "        vertical-align: top;\n",
       "    }\n",
       "\n",
       "    .dataframe thead th {\n",
       "        text-align: right;\n",
       "    }\n",
       "</style>\n",
       "<table border=\"1\" class=\"dataframe\">\n",
       "  <thead>\n",
       "    <tr style=\"text-align: right;\">\n",
       "      <th></th>\n",
       "      <th>Id</th>\n",
       "      <th>ProductId</th>\n",
       "      <th>UserId</th>\n",
       "      <th>ProfileName</th>\n",
       "      <th>HelpfulnessNumerator</th>\n",
       "      <th>HelpfulnessDenominator</th>\n",
       "      <th>Score</th>\n",
       "      <th>Time</th>\n",
       "      <th>Summary</th>\n",
       "      <th>Text</th>\n",
       "      <th>CleanedText</th>\n",
       "    </tr>\n",
       "  </thead>\n",
       "  <tbody>\n",
       "    <tr>\n",
       "      <th>515425</th>\n",
       "      <td>515426</td>\n",
       "      <td>141278509X</td>\n",
       "      <td>AB1A5EGHHVA9M</td>\n",
       "      <td>CHelmic</td>\n",
       "      <td>1</td>\n",
       "      <td>1</td>\n",
       "      <td>positive</td>\n",
       "      <td>1332547200</td>\n",
       "      <td>The best drink mix</td>\n",
       "      <td>This product by Archer Farms is the best drink...</td>\n",
       "      <td>product archer farm best drink mix ever mix fl...</td>\n",
       "    </tr>\n",
       "    <tr>\n",
       "      <th>24750</th>\n",
       "      <td>24751</td>\n",
       "      <td>2734888454</td>\n",
       "      <td>A1C298ITT645B6</td>\n",
       "      <td>Hugh G. Pritchard</td>\n",
       "      <td>0</td>\n",
       "      <td>0</td>\n",
       "      <td>positive</td>\n",
       "      <td>1195948800</td>\n",
       "      <td>Dog Lover Delites</td>\n",
       "      <td>Our dogs just love them.  I saw them in a pet ...</td>\n",
       "      <td>dog love saw pet store tag attach regard made ...</td>\n",
       "    </tr>\n",
       "    <tr>\n",
       "      <th>24749</th>\n",
       "      <td>24750</td>\n",
       "      <td>2734888454</td>\n",
       "      <td>A13ISQV0U9GZIC</td>\n",
       "      <td>Sandikaye</td>\n",
       "      <td>1</td>\n",
       "      <td>1</td>\n",
       "      <td>negative</td>\n",
       "      <td>1192060800</td>\n",
       "      <td>made in china</td>\n",
       "      <td>My dogs loves this chicken but its a product f...</td>\n",
       "      <td>dog love chicken product china wont buy anymor...</td>\n",
       "    </tr>\n",
       "    <tr>\n",
       "      <th>308076</th>\n",
       "      <td>308077</td>\n",
       "      <td>2841233731</td>\n",
       "      <td>A3QD68O22M2XHQ</td>\n",
       "      <td>LABRNTH</td>\n",
       "      <td>0</td>\n",
       "      <td>0</td>\n",
       "      <td>positive</td>\n",
       "      <td>1345852800</td>\n",
       "      <td>Great recipe book for my babycook</td>\n",
       "      <td>This book is easy to read and the ingredients ...</td>\n",
       "      <td>book easi read ingredi avail store unlik recip...</td>\n",
       "    </tr>\n",
       "    <tr>\n",
       "      <th>150523</th>\n",
       "      <td>150524</td>\n",
       "      <td>6641040</td>\n",
       "      <td>ACITT7DI6IDDL</td>\n",
       "      <td>shari zychinski</td>\n",
       "      <td>0</td>\n",
       "      <td>0</td>\n",
       "      <td>positive</td>\n",
       "      <td>939340800</td>\n",
       "      <td>EVERY book is educational</td>\n",
       "      <td>this witty little book makes my son laugh at l...</td>\n",
       "      <td>witti littl book make son laugh loud recit car...</td>\n",
       "    </tr>\n",
       "  </tbody>\n",
       "</table>\n",
       "</div>"
      ],
      "text/plain": [
       "            Id   ProductId          UserId        ProfileName  \\\n",
       "515425  515426  141278509X   AB1A5EGHHVA9M            CHelmic   \n",
       "24750    24751  2734888454  A1C298ITT645B6  Hugh G. Pritchard   \n",
       "24749    24750  2734888454  A13ISQV0U9GZIC          Sandikaye   \n",
       "308076  308077  2841233731  A3QD68O22M2XHQ            LABRNTH   \n",
       "150523  150524     6641040   ACITT7DI6IDDL    shari zychinski   \n",
       "\n",
       "        HelpfulnessNumerator  HelpfulnessDenominator     Score        Time  \\\n",
       "515425                     1                       1  positive  1332547200   \n",
       "24750                      0                       0  positive  1195948800   \n",
       "24749                      1                       1  negative  1192060800   \n",
       "308076                     0                       0  positive  1345852800   \n",
       "150523                     0                       0  positive   939340800   \n",
       "\n",
       "                                  Summary  \\\n",
       "515425                 The best drink mix   \n",
       "24750                   Dog Lover Delites   \n",
       "24749                       made in china   \n",
       "308076  Great recipe book for my babycook   \n",
       "150523          EVERY book is educational   \n",
       "\n",
       "                                                     Text  \\\n",
       "515425  This product by Archer Farms is the best drink...   \n",
       "24750   Our dogs just love them.  I saw them in a pet ...   \n",
       "24749   My dogs loves this chicken but its a product f...   \n",
       "308076  This book is easy to read and the ingredients ...   \n",
       "150523  this witty little book makes my son laugh at l...   \n",
       "\n",
       "                                              CleanedText  \n",
       "515425  product archer farm best drink mix ever mix fl...  \n",
       "24750   dog love saw pet store tag attach regard made ...  \n",
       "24749   dog love chicken product china wont buy anymor...  \n",
       "308076  book easi read ingredi avail store unlik recip...  \n",
       "150523  witti littl book make son laugh loud recit car...  "
      ]
     },
     "execution_count": 270,
     "metadata": {},
     "output_type": "execute_result"
    }
   ],
   "source": [
    "#shape of the dataframe\n",
    "print(\"Shape of the Data Frame\", data_frame.shape)\n",
    "\n",
    "#first 5 rows of the dataframe\n",
    "data_frame.head()"
   ]
  },
  {
   "cell_type": "code",
   "execution_count": 271,
   "metadata": {},
   "outputs": [
    {
     "data": {
      "text/plain": [
       "Index(['Id', 'ProductId', 'UserId', 'ProfileName', 'HelpfulnessNumerator',\n",
       "       'HelpfulnessDenominator', 'Score', 'Time', 'Summary', 'Text',\n",
       "       'CleanedText'],\n",
       "      dtype='object')"
      ]
     },
     "execution_count": 271,
     "metadata": {},
     "output_type": "execute_result"
    }
   ],
   "source": [
    "#Columns of the data\n",
    "data_frame.columns"
   ]
  },
  {
   "cell_type": "code",
   "execution_count": 272,
   "metadata": {},
   "outputs": [
    {
     "data": {
      "image/png": "[encoded data removed]",
      "text/plain": [
       "<Figure size 432x288 with 1 Axes>"
      ]
     },
     "metadata": {},
     "output_type": "display_data"
    },
    {
     "data": {
      "text/plain": [
       "positive    307061\n",
       "negative     57110\n",
       "Name: Score, dtype: int64"
      ]
     },
     "execution_count": 272,
     "metadata": {},
     "output_type": "execute_result"
    }
   ],
   "source": [
    "sns.countplot(x=data_frame.Score, data=data_frame)\n",
    "plt.show()\n",
    "#Counts of positive and negative reviews\n",
    "data_frame.Score.value_counts()"
   ]
  },
  {
   "cell_type": "code",
   "execution_count": 273,
   "metadata": {},
   "outputs": [],
   "source": [
    "#Sorting the data based on the time attribute\n",
    "data_frame.sort_values(\"Time\", inplace=True)\n",
    "\n",
    "#Resting the index of the data\n",
    "data_frame = data_frame.reset_index(drop=True)"
   ]
  },
  {
   "cell_type": "code",
   "execution_count": 274,
   "metadata": {},
   "outputs": [],
   "source": [
    "#Taking the top 50k points\n",
    "data_50k = data_frame.head(50000)"
   ]
  },
  {
   "cell_type": "code",
   "execution_count": 275,
   "metadata": {},
   "outputs": [],
   "source": [
    "#For Score consisting of two categories making them as positive for 1 and negative for 0\n",
    "data_50k.Score = [1 if (score == 'positive') else 0 for score in data_50k.Score]"
   ]
  },
  {
   "cell_type": "code",
   "execution_count": 276,
   "metadata": {},
   "outputs": [],
   "source": [
    "#Now storing CleanedText attribute into X and Score attribute into Y\n",
    "X = data_50k.CleanedText\n",
    "y = data_50k.Score"
   ]
  },
  {
   "cell_type": "code",
   "execution_count": 277,
   "metadata": {},
   "outputs": [],
   "source": [
    "#Splitting the data into train and test\n",
    "X_tr, X_test, y_tr, y_test = train_test_split(X, y, test_size=0.3, shuffle=False)"
   ]
  },
  {
   "cell_type": "code",
   "execution_count": 278,
   "metadata": {},
   "outputs": [
    {
     "name": "stdout",
     "output_type": "stream",
     "text": [
      "Shape of train data: (35000,)\n",
      "Shape of test data: (15000,)\n"
     ]
    }
   ],
   "source": [
    "#Shape of the train and test data\n",
    "print(\"Shape of train data:\", X_tr.shape)\n",
    "print(\"Shape of test data:\",X_test.shape)"
   ]
  },
  {
   "cell_type": "markdown",
   "metadata": {},
   "source": [
    "## 1. BOW:"
   ]
  },
  {
   "cell_type": "markdown",
   "metadata": {},
   "source": [
    " which means makes a vector for each review of length unique words from the whole dataset and makes frequency count of word.\n",
    " \n",
    "- Bow or Bag of Words which means way of extracting features from text for use in modeling.\n",
    "- A bag-of-words is a representation of text that describes the occurrence of words within a document. \n",
    "   \n",
    "   It involves two things:\n",
    "                1.vocabulary of known words.\n",
    "                2.Measure of the presence of known words.\n",
    "-  It is called a “bag” of words, because any information about the order or structure of words in the document is              discarded. The model is only concerned with whether known words occur in the document, not where in the document."
   ]
  },
  {
   "cell_type": "code",
   "execution_count": 279,
   "metadata": {},
   "outputs": [
    {
     "name": "stdout",
     "output_type": "stream",
     "text": [
      "Wall time: 1.18 s\n"
     ]
    }
   ],
   "source": [
    "\n",
    "%%time\n",
    "\n",
    "count_vec = CountVectorizer()\n",
    "#Making the fit_transform for train data\n",
    "bow_tr = count_vec.fit_transform(X_tr)"
   ]
  },
  {
   "cell_type": "code",
   "execution_count": 280,
   "metadata": {},
   "outputs": [],
   "source": [
    "#Transform for test data\n",
    "bow_test = count_vec.transform(X_test)"
   ]
  },
  {
   "cell_type": "code",
   "execution_count": 281,
   "metadata": {},
   "outputs": [],
   "source": [
    "#Nomalizing the train and test data\n",
    "bow_tr = preprocessing.normalize(bow_tr)\n",
    "bow_test = preprocessing.normalize(bow_test)"
   ]
  },
  {
   "cell_type": "code",
   "execution_count": 282,
   "metadata": {},
   "outputs": [
    {
     "name": "stdout",
     "output_type": "stream",
     "text": [
      "Shape of train data: (35000, 26059)\n",
      "Shape of test data: (15000, 26059)\n"
     ]
    }
   ],
   "source": [
    "#Shape of train and test data after bag of words with preprocessing\n",
    "print(\"Shape of train data:\", bow_tr.shape)\n",
    "print(\"Shape of test data:\", bow_test.shape)"
   ]
  },
  {
   "cell_type": "markdown",
   "metadata": {},
   "source": [
    "** i. Brute Force Algorithm: **\n",
    "\n",
    "    It is an exhaustive search go through all posiible cases and find the optimal solution."
   ]
  },
  {
   "cell_type": "markdown",
   "metadata": {},
   "source": [
    "**Grid Search Cross Validation:**\n",
    "\n",
    "- working through multiple combinations of parameter tunes, cross validate each and determine                                  which one gives the best performance.      \n",
    "    \n",
    "- Note: In grid search, if you choosen n paramters then we will have to check 2^n combinations."
   ]
  },
  {
   "cell_type": "markdown",
   "metadata": {},
   "source": [
    "![title](grid search cross validation.png)"
   ]
  },
  {
   "cell_type": "markdown",
   "metadata": {},
   "source": [
    "** Time based splitting:** \n",
    "\n",
    "- Provides train/test indices to split time series data samplesthat are observed at fixed time                                 intervals, in train/test sets.In each split, test indices must be higher than before, and thus shuffling in cross\n",
    "  validator is inappropriate."
   ]
  },
  {
   "cell_type": "markdown",
   "metadata": {},
   "source": [
    "![title](time series split.png)"
   ]
  },
  {
   "cell_type": "code",
   "execution_count": 283,
   "metadata": {},
   "outputs": [],
   "source": [
    "#Function for knn using the gri search cross validation with the train data\n",
    "def knn_gsv_tbs(value, x_train, y_train):\n",
    "   \n",
    "    #Assigning the different neighbour values\n",
    "    parameters = {'n_neighbors':list(range(5,13,2))}\n",
    "\n",
    "    #knn with brute force search\n",
    "    knn = KNeighborsClassifier(algorithm=value)\n",
    "\n",
    "    #splitting the data based on the time series\n",
    "    tbs = TimeSeriesSplit(n_splits=3)\n",
    "\n",
    "    #parameter tuning can be done using Grid Search Cross Validation\n",
    "    gsv = GridSearchCV(knn, parameters, n_jobs=3, verbose=4, cv=tbs, scoring='accuracy')\n",
    "    gsv.fit(x_train, y_train)\n",
    "\n",
    "    print(\"Optimal k_value:\", gsv.best_params_)\n",
    "    print(\"Best Accuracy:\", gsv.best_score_  * 100)\n",
    "    \n",
    "    return gsv.grid_scores_, gsv.best_estimator_"
   ]
  },
  {
   "cell_type": "code",
   "execution_count": 284,
   "metadata": {},
   "outputs": [
    {
     "name": "stdout",
     "output_type": "stream",
     "text": [
      "Fitting 3 folds for each of 4 candidates, totalling 12 fits\n",
      "Optimal k_value: {'n_neighbors': 7}\n",
      "Best Accuracy: 89.60761904761905\n",
      "Wall time: 2min 7s\n"
     ]
    },
    {
     "name": "stderr",
     "output_type": "stream",
     "text": [
      "[Parallel(n_jobs=3)]: Done  12 out of  12 | elapsed:  2.1min finished\n"
     ]
    }
   ],
   "source": [
    "\n",
    "%%time\n",
    "\n",
    "#Calling the function for KNN using grid search cross validation with the train data\n",
    "algorithm = 'brute'\n",
    "best_scores, best_estimator = knn_gsv_tbs(algorithm, bow_tr, y_tr)"
   ]
  },
  {
   "cell_type": "code",
   "execution_count": 285,
   "metadata": {},
   "outputs": [
    {
     "data": {
      "text/plain": [
       "[mean: 0.89470, std: 0.00296, params: {'n_neighbors': 5},\n",
       " mean: 0.89608, std: 0.00295, params: {'n_neighbors': 7}]"
      ]
     },
     "execution_count": 285,
     "metadata": {},
     "output_type": "execute_result"
    }
   ],
   "source": [
    "#best_scores_ will return paramters, mean validation scores and cross validation scores\n",
    "best_scores[:2]"
   ]
  },
  {
   "cell_type": "code",
   "execution_count": 286,
   "metadata": {},
   "outputs": [],
   "source": [
    "#Function to plot between cv_scores and neighbours\n",
    "def neigh_cv_error(neighbors, cv_errors):\n",
    "    plt.plot(neighbors, cv_errors)\n",
    "    plt.title(\"neighbors vs cv_errors\")\n",
    "    plt.xlabel(\"Neighbors\")\n",
    "    plt.ylabel(\"cv_errors\")\n",
    "    plt.show()"
   ]
  },
  {
   "cell_type": "code",
   "execution_count": 287,
   "metadata": {},
   "outputs": [
    {
     "data": {
      "image/png": "[encoded data removed]",
      "text/plain": [
       "<Figure size 432x288 with 1 Axes>"
      ]
     },
     "metadata": {},
     "output_type": "display_data"
    }
   ],
   "source": [
    "#Storing neighbors in to neigh variable\n",
    "neigh = [val[0]['n_neighbors'] for val in best_scores]\n",
    "\n",
    "#Storing all cv_errors in cv_error\n",
    "cv_error = [1-val[1] for val in best_scores]\n",
    "\n",
    "#Calling function for plot between cv_errors and corresponding neighbors\n",
    "neigh_cv_error(neigh, cv_error)\n"
   ]
  },
  {
   "cell_type": "markdown",
   "metadata": {},
   "source": [
    "** we can get the best estimator from the grid search, by using that we can test the data**"
   ]
  },
  {
   "cell_type": "code",
   "execution_count": 288,
   "metadata": {},
   "outputs": [
    {
     "data": {
      "text/plain": [
       "KNeighborsClassifier(algorithm='brute', leaf_size=30, metric='minkowski',\n",
       "           metric_params=None, n_jobs=1, n_neighbors=7, p=2,\n",
       "           weights='uniform')"
      ]
     },
     "execution_count": 288,
     "metadata": {},
     "output_type": "execute_result"
    }
   ],
   "source": [
    "#Result showing the best classifier consisting of parameters\n",
    "best_estimator"
   ]
  },
  {
   "cell_type": "code",
   "execution_count": 289,
   "metadata": {},
   "outputs": [],
   "source": [
    "#Finding the predicted values for test labels using the test data\n",
    "y_pred = best_estimator.predict(bow_test)"
   ]
  },
  {
   "cell_type": "code",
   "execution_count": 290,
   "metadata": {},
   "outputs": [],
   "source": [
    "#Function for calculating the metrics\n",
    "def test_metrics(y_test, y_pred):\n",
    "    cm = pd.DataFrame(confusion_matrix(y_test,y_pred),range(2),range(2))\n",
    "    sns.set(font_scale=1.5)\n",
    "    sns.heatmap(cm,annot=True,annot_kws={\"size\": 20}, fmt='g', vmin=0, vmax=15000)\n",
    "\n",
    "    print(\"Accuracy on test data:\", round(accuracy_score(y_test, y_pred) * 100 , 2))\n",
    "    print(\"Precision on test data:\", round(precision_score(y_test, y_pred) * 100 , 2))\n",
    "    print(\"Recall on test data:\", round(recall_score(y_test, y_pred) * 100 , 2))\n",
    "    print(\"F1_score on test data:\", round(f1_score(y_test, y_pred) * 100,2))\n",
    "\n",
    "    plt.show()"
   ]
  },
  {
   "cell_type": "code",
   "execution_count": 291,
   "metadata": {},
   "outputs": [
    {
     "name": "stdout",
     "output_type": "stream",
     "text": [
      "Accuracy on test data: 88.79\n",
      "Precision on test data: 89.17\n",
      "Recall on test data: 99.34\n",
      "F1_score on test data: 93.98\n"
     ]
    },
    {
     "data": {
      "image/png": "[encoded data removed]",
      "text/plain": [
       "<Figure size 432x288 with 2 Axes>"
      ]
     },
     "metadata": {},
     "output_type": "display_data"
    }
   ],
   "source": [
    "#Calling the function for test metrics\n",
    "test_metrics(y_test, y_pred)"
   ]
  },
  {
   "cell_type": "markdown",
   "metadata": {},
   "source": [
    "** ii. Kd_tree Algorithm: **\n",
    "      \n",
    "       1. kd_tree means k dimensional tree.\n",
    "       2. It works as follows Using the train data build a datastructure that organizes dataset as a tree.\n",
    "       3. Suppose if you want to find a nearest neighbors for query point then navigate into that tree.\n",
    "       4. It can take all training instances(points) then it can pick random attribute(feature) and from that attribute \n",
    "          we can find the median, by that median we can split dataset into two halfs, left side points are\n",
    "          less than the median and right side points are greater than equal to that median.\\\n",
    "       5. Repeat that procedure at the multiple iterations for the different random attributes, end up till predetermined\n",
    "          numbber of points left in each branch of the tree.\n",
    "       6. At each level splittng the dataset into two halfs so, depth of tree cann't be greater than log(n), where n is an\n",
    "          number of instances(points).\n",
    "       7. For kd_tree we should give input as dense matrix."
   ]
  },
  {
   "cell_type": "markdown",
   "metadata": {},
   "source": [
    "![title](kd_tree.gif)"
   ]
  },
  {
   "cell_type": "code",
   "execution_count": 292,
   "metadata": {},
   "outputs": [
    {
     "name": "stdout",
     "output_type": "stream",
     "text": [
      "Wall time: 16.5 s\n"
     ]
    }
   ],
   "source": [
    "\n",
    "%%time\n",
    "\n",
    "#Converting Sparse matrix to dense matrix \n",
    "svd = TruncatedSVD(n_components=500, algorithm='randomized', random_state=15)\n",
    "bow_tr_svd = svd.fit_transform(bow_tr)"
   ]
  },
  {
   "cell_type": "code",
   "execution_count": 293,
   "metadata": {},
   "outputs": [],
   "source": [
    "bow_test_svd = svd.transform(bow_test)"
   ]
  },
  {
   "cell_type": "code",
   "execution_count": 294,
   "metadata": {},
   "outputs": [
    {
     "name": "stdout",
     "output_type": "stream",
     "text": [
      "Shape of train data: (35000, 500)\n",
      "Shape of test data: (15000, 500)\n"
     ]
    }
   ],
   "source": [
    "#Shape of train and test data after truncated svd\n",
    "print(\"Shape of train data:\", bow_tr_svd.shape)\n",
    "print(\"Shape of test data:\", bow_test_svd.shape)"
   ]
  },
  {
   "cell_type": "markdown",
   "metadata": {},
   "source": [
    " "
   ]
  },
  {
   "cell_type": "code",
   "execution_count": 295,
   "metadata": {},
   "outputs": [
    {
     "name": "stdout",
     "output_type": "stream",
     "text": [
      "Fitting 3 folds for each of 4 candidates, totalling 12 fits\n"
     ]
    },
    {
     "name": "stderr",
     "output_type": "stream",
     "text": [
      "[Parallel(n_jobs=3)]: Done  12 out of  12 | elapsed: 44.0min finished\n"
     ]
    },
    {
     "name": "stdout",
     "output_type": "stream",
     "text": [
      "Optimal k_value: {'n_neighbors': 11}\n",
      "Best Accuracy: 89.1352380952381\n",
      "Wall time: 44min 3s\n"
     ]
    }
   ],
   "source": [
    "\n",
    "%%time\n",
    "\n",
    "#Calling the function for KNN using grid search cross validation with the train data\n",
    "algorithm = 'kd_tree'\n",
    "best_scores, best_estimator = knn_gsv_tbs(algorithm, bow_tr_svd, y_tr)"
   ]
  },
  {
   "cell_type": "code",
   "execution_count": 301,
   "metadata": {},
   "outputs": [
    {
     "data": {
      "text/plain": [
       "[mean: 0.88331, std: 0.00777, params: {'n_neighbors': 5},\n",
       " mean: 0.88930, std: 0.00516, params: {'n_neighbors': 7}]"
      ]
     },
     "execution_count": 301,
     "metadata": {},
     "output_type": "execute_result"
    }
   ],
   "source": [
    "#grid_scores_ will return paramters, mean validation scores and cross validation scores\n",
    "best_scores[:2] "
   ]
  },
  {
   "cell_type": "code",
   "execution_count": 302,
   "metadata": {},
   "outputs": [
    {
     "data": {
      "image/png": "[encoded data removed]",
      "text/plain": [
       "<Figure size 432x288 with 1 Axes>"
      ]
     },
     "metadata": {},
     "output_type": "display_data"
    }
   ],
   "source": [
    "#Storing neighbors in to neigh variable\n",
    "neigh = [val[0]['n_neighbors'] for val in best_scores]\n",
    "\n",
    "#Storing all cv_errors in cv_error\n",
    "cv_error = [1-val[1] for val in best_scores]\n",
    "\n",
    "#Calling function for plot between cv_errors and corresponding neighbors\n",
    "neigh_cv_error(neigh, cv_error)"
   ]
  },
  {
   "cell_type": "markdown",
   "metadata": {},
   "source": [
    "** testing using best_estimator:**"
   ]
  },
  {
   "cell_type": "code",
   "execution_count": 303,
   "metadata": {},
   "outputs": [
    {
     "data": {
      "text/plain": [
       "KNeighborsClassifier(algorithm='kd_tree', leaf_size=30, metric='minkowski',\n",
       "           metric_params=None, n_jobs=1, n_neighbors=11, p=2,\n",
       "           weights='uniform')"
      ]
     },
     "execution_count": 303,
     "metadata": {},
     "output_type": "execute_result"
    }
   ],
   "source": [
    "#Result showing the best classifier consisting of parameters\n",
    "best_estimator"
   ]
  },
  {
   "cell_type": "code",
   "execution_count": 304,
   "metadata": {},
   "outputs": [],
   "source": [
    "#Finding the predicted values for test labels using the test data\n",
    "y_pred = best_estimator.predict(bow_test_svd)"
   ]
  },
  {
   "cell_type": "code",
   "execution_count": 305,
   "metadata": {},
   "outputs": [
    {
     "name": "stdout",
     "output_type": "stream",
     "text": [
      "Accuracy on test data: 88.01\n",
      "Precision on test data: 88.64\n",
      "Recall on test data: 99.09\n",
      "F1_score on test data: 93.58\n"
     ]
    },
    {
     "data": {
      "image/png": "[encoded data removed]",
      "text/plain": [
       "<Figure size 432x288 with 2 Axes>"
      ]
     },
     "metadata": {},
     "output_type": "display_data"
    }
   ],
   "source": [
    "#Calling the function for test metrics\n",
    "test_metrics(y_test, y_pred)"
   ]
  },
  {
   "cell_type": "markdown",
   "metadata": {},
   "source": [
    " "
   ]
  },
  {
   "cell_type": "markdown",
   "metadata": {},
   "source": [
    "# TFIDF: "
   ]
  },
  {
   "cell_type": "markdown",
   "metadata": {},
   "source": [
    "TF-IDF stands for term frequency-inverse document frequency. TF-IDF weight is a statistical measure used to evaluate how important a word is to a document in a collection or corpus. The importance increases proportionally to the number of times a word appears in the document but is offset by the frequency of the word in the corpus.\n",
    "\n",
    "Term_frequency(TF) = (number of times word occur in document) / (Total number of words in the document).\n",
    "\n",
    "Inverse_Document_freqency(IDF) = log((total number of documents) / In which documents a word occurs))\n",
    "\n",
    "                   So, TF-IDF(word) = TF(word) * IDF(word)"
   ]
  },
  {
   "cell_type": "code",
   "execution_count": 306,
   "metadata": {},
   "outputs": [],
   "source": [
    "#Vectorizing the data\n",
    "tfidf_vect = TfidfVectorizer(ngram_range=(1,2))\n",
    "tfidf_tr = tfidf_vect.fit_transform(X_tr)"
   ]
  },
  {
   "cell_type": "code",
   "execution_count": 307,
   "metadata": {},
   "outputs": [],
   "source": [
    "#Vectorizing the test data\n",
    "tfidf_test = tfidf_vect.transform(X_test)"
   ]
  },
  {
   "cell_type": "markdown",
   "metadata": {},
   "source": [
    "** 1. Brute Force Algorithm:**"
   ]
  },
  {
   "cell_type": "code",
   "execution_count": 308,
   "metadata": {},
   "outputs": [
    {
     "name": "stdout",
     "output_type": "stream",
     "text": [
      "Fitting 3 folds for each of 4 candidates, totalling 12 fits\n",
      "Optimal k_value: {'n_neighbors': 9}\n",
      "Best Accuracy: 89.77142857142857\n",
      "Wall time: 2min 11s\n"
     ]
    },
    {
     "name": "stderr",
     "output_type": "stream",
     "text": [
      "[Parallel(n_jobs=3)]: Done  12 out of  12 | elapsed:  2.2min finished\n"
     ]
    }
   ],
   "source": [
    "\n",
    "%%time\n",
    "\n",
    "#Calling the function for KNN using grid search cross validation with the train data\n",
    "algorithm = 'brute'\n",
    "best_scores, best_estimator = knn_gsv_tbs(algorithm, tfidf_tr, y_tr)"
   ]
  },
  {
   "cell_type": "code",
   "execution_count": 309,
   "metadata": {},
   "outputs": [
    {
     "data": {
      "text/plain": [
       "[mean: 0.89615, std: 0.00279, params: {'n_neighbors': 5},\n",
       " mean: 0.89730, std: 0.00173, params: {'n_neighbors': 7}]"
      ]
     },
     "execution_count": 309,
     "metadata": {},
     "output_type": "execute_result"
    }
   ],
   "source": [
    "#grid_scores_ will return paramters, mean validation scores and cross validation scores\n",
    "best_scores[:2] "
   ]
  },
  {
   "cell_type": "code",
   "execution_count": 310,
   "metadata": {},
   "outputs": [
    {
     "data": {
      "image/png": "[encoded data removed]",
      "text/plain": [
       "<Figure size 432x288 with 1 Axes>"
      ]
     },
     "metadata": {},
     "output_type": "display_data"
    }
   ],
   "source": [
    "#Storing neighbors in to neigh variable\n",
    "neigh = [val[0]['n_neighbors'] for val in best_scores]\n",
    "\n",
    "#Storing all cv_errors in cv_error\n",
    "cv_error = [1-val[1] for val in best_scores]\n",
    "\n",
    "#Calling function for plot between cv_errors and corresponding neighbors\n",
    "neigh_cv_error(neigh, cv_error)"
   ]
  },
  {
   "cell_type": "markdown",
   "metadata": {},
   "source": [
    "** Testing the model using best_estimator_ which can find from grid search cross validation:**"
   ]
  },
  {
   "cell_type": "code",
   "execution_count": 311,
   "metadata": {},
   "outputs": [
    {
     "data": {
      "text/plain": [
       "KNeighborsClassifier(algorithm='brute', leaf_size=30, metric='minkowski',\n",
       "           metric_params=None, n_jobs=1, n_neighbors=9, p=2,\n",
       "           weights='uniform')"
      ]
     },
     "execution_count": 311,
     "metadata": {},
     "output_type": "execute_result"
    }
   ],
   "source": [
    "#Result showing the best classifier consisting of parameters\n",
    "best_estimator"
   ]
  },
  {
   "cell_type": "code",
   "execution_count": 312,
   "metadata": {},
   "outputs": [],
   "source": [
    "#Finding the predicted values for test labels using the test data\n",
    "y_pred = best_estimator.predict(tfidf_test)"
   ]
  },
  {
   "cell_type": "code",
   "execution_count": 313,
   "metadata": {},
   "outputs": [
    {
     "name": "stdout",
     "output_type": "stream",
     "text": [
      "Accuracy on test data: 89.02\n",
      "Precision on test data: 89.2\n",
      "Recall on test data: 99.6\n",
      "F1_score on test data: 94.11\n"
     ]
    },
    {
     "data": {
      "image/png": "[encoded data removed]",
      "text/plain": [
       "<Figure size 432x288 with 2 Axes>"
      ]
     },
     "metadata": {},
     "output_type": "display_data"
    }
   ],
   "source": [
    "#Calling the function for test metrics\n",
    "test_metrics(y_test, y_pred)"
   ]
  },
  {
   "cell_type": "markdown",
   "metadata": {},
   "source": [
    "** 2. kd_tree Algorithm:**"
   ]
  },
  {
   "cell_type": "code",
   "execution_count": 314,
   "metadata": {},
   "outputs": [],
   "source": [
    "#Converting the sparse matrix into dense matrix\n",
    "svd = TruncatedSVD(n_components=500, algorithm='randomized', random_state=15)\n",
    "tfidf_tr_svd = svd.fit_transform(tfidf_tr)"
   ]
  },
  {
   "cell_type": "code",
   "execution_count": 315,
   "metadata": {},
   "outputs": [],
   "source": [
    "#For test data\n",
    "tfidf_test_svd = svd.transform(tfidf_test)"
   ]
  },
  {
   "cell_type": "code",
   "execution_count": 316,
   "metadata": {},
   "outputs": [
    {
     "name": "stdout",
     "output_type": "stream",
     "text": [
      "Fitting 3 folds for each of 4 candidates, totalling 12 fits\n"
     ]
    },
    {
     "name": "stderr",
     "output_type": "stream",
     "text": [
      "[Parallel(n_jobs=3)]: Done  12 out of  12 | elapsed:  1.7min finished\n"
     ]
    },
    {
     "name": "stdout",
     "output_type": "stream",
     "text": [
      "Optimal k_value: {'n_neighbors': 11}\n",
      "Best Accuracy: 89.20380952380953\n",
      "Wall time: 1min 41s\n"
     ]
    }
   ],
   "source": [
    "\n",
    "%%time\n",
    "\n",
    "#Calling the function for KNN using grid search cross validation with the train data\n",
    "algorithm = 'brute'\n",
    "best_scores, best_estimator = knn_gsv_tbs(algorithm, tfidf_tr_svd, y_tr)"
   ]
  },
  {
   "cell_type": "code",
   "execution_count": 317,
   "metadata": {},
   "outputs": [
    {
     "data": {
      "text/plain": [
       "[mean: 0.88278, std: 0.00517, params: {'n_neighbors': 5},\n",
       " mean: 0.88819, std: 0.00360, params: {'n_neighbors': 7}]"
      ]
     },
     "execution_count": 317,
     "metadata": {},
     "output_type": "execute_result"
    }
   ],
   "source": [
    "#grid_scores_ will return paramters, mean validation scores and cross validation scores\n",
    "best_scores[:2] "
   ]
  },
  {
   "cell_type": "code",
   "execution_count": 318,
   "metadata": {},
   "outputs": [
    {
     "data": {
      "image/png": "[encoded data removed]",
      "text/plain": [
       "<Figure size 432x288 with 1 Axes>"
      ]
     },
     "metadata": {},
     "output_type": "display_data"
    }
   ],
   "source": [
    "#Storing neighbors in to neigh variable\n",
    "neigh = [val[0]['n_neighbors'] for val in best_scores]\n",
    "\n",
    "#Storing all cv_errors in cv_error\n",
    "cv_error = [1-val[1] for val in best_scores]\n",
    "\n",
    "#Calling function for plot between cv_errors and corresponding neighbors\n",
    "neigh_cv_error(neigh, cv_error)"
   ]
  },
  {
   "cell_type": "markdown",
   "metadata": {},
   "source": [
    "** Testing the model using best_estimator_ which can find from grid search cross validation:**"
   ]
  },
  {
   "cell_type": "code",
   "execution_count": 319,
   "metadata": {},
   "outputs": [
    {
     "data": {
      "text/plain": [
       "KNeighborsClassifier(algorithm='brute', leaf_size=30, metric='minkowski',\n",
       "           metric_params=None, n_jobs=1, n_neighbors=11, p=2,\n",
       "           weights='uniform')"
      ]
     },
     "execution_count": 319,
     "metadata": {},
     "output_type": "execute_result"
    }
   ],
   "source": [
    "#Result showing the best classifier consisting of parameters\n",
    "best_estimator"
   ]
  },
  {
   "cell_type": "code",
   "execution_count": 320,
   "metadata": {},
   "outputs": [],
   "source": [
    "#Finding the predicted values for test labels using the test data\n",
    "y_pred = best_estimator.predict(tfidf_test_svd)"
   ]
  },
  {
   "cell_type": "code",
   "execution_count": 321,
   "metadata": {},
   "outputs": [
    {
     "name": "stdout",
     "output_type": "stream",
     "text": [
      "Accuracy on test data: 88.27\n",
      "Precision on test data: 89.01\n",
      "Recall on test data: 98.9\n",
      "F1_score on test data: 93.7\n"
     ]
    },
    {
     "data": {
      "image/png": "[encoded data removed]",
      "text/plain": [
       "<Figure size 432x288 with 2 Axes>"
      ]
     },
     "metadata": {},
     "output_type": "display_data"
    }
   ],
   "source": [
    "#Calling the function for test metrics\n",
    "test_metrics(y_test, y_pred)"
   ]
  },
  {
   "cell_type": "markdown",
   "metadata": {},
   "source": [
    " "
   ]
  },
  {
   "cell_type": "markdown",
   "metadata": {},
   "source": [
    "# Avg_W2V: \n",
    "\n",
    "          1. W2V can take the semantic meaning of the words.\n",
    "          2. W2V can convert each word into an vector.\n",
    "          3. Avg_W2V means for each review vector should be (W2V(word1) + W2V(word2)--------+ W2V(wordn)/(total no.of words)."
   ]
  },
  {
   "cell_type": "code",
   "execution_count": 200,
   "metadata": {},
   "outputs": [],
   "source": [
    "#Forming the list_of_words for 50k reviews\n",
    "sent_words = []\n",
    "for sent in X:\n",
    "    sent_words.append(sent.split())"
   ]
  },
  {
   "cell_type": "code",
   "execution_count": 201,
   "metadata": {},
   "outputs": [],
   "source": [
    "#Splitting the into train and test data\n",
    "X_tr_w2v, X_test_w2v, y_tr_w2v, y_test_w2v = train_test_split(sent_words, y, test_size=0.3, shuffle=False)"
   ]
  },
  {
   "cell_type": "code",
   "execution_count": 202,
   "metadata": {},
   "outputs": [],
   "source": [
    "#Word to vectors for train data\n",
    "w2v = gensim.models.Word2Vec(X_tr_w2v,min_count=5,size=50)"
   ]
  },
  {
   "cell_type": "code",
   "execution_count": 203,
   "metadata": {},
   "outputs": [
    {
     "name": "stdout",
     "output_type": "stream",
     "text": [
      "total words in w2v 7931\n",
      "['witti', 'littl', 'book', 'make', 'son', 'laugh', 'loud', 'car', 'drive', 'along']\n"
     ]
    }
   ],
   "source": [
    "#storing w2v_words which can be return by w2v vocabilary\n",
    "w2v_words = list(w2v.wv.vocab)\n",
    "print(\"total words in w2v\",len(w2v_words))\n",
    "print(w2v_words[0:10])"
   ]
  },
  {
   "cell_type": "code",
   "execution_count": 204,
   "metadata": {},
   "outputs": [],
   "source": [
    "#Function for Avg_w2v\n",
    "def avg_w2v(data, w2v, w2v_words):\n",
    "    #creating an empty list\n",
    "    avg_vectors = []\n",
    "    row = 0\n",
    "    for sent in data:\n",
    "        #creating an vector which size should be 50 and all cells have zero's\n",
    "        sent_vec = np.zeros(50)\n",
    "        cnt_words = 0\n",
    "        for word in sent:\n",
    "            if word in w2v_words:\n",
    "                vec = w2v.wv[word]\n",
    "                sent_vec += vec\n",
    "                cnt_words += 1\n",
    "        if cnt_words != 0:\n",
    "            sent_vec /= cnt_words\n",
    "            avg_vectors.append(sent_vec)\n",
    "        row += 1 \n",
    "        if cnt_words == 0:\n",
    "            print(row)\n",
    "    return avg_vectors"
   ]
  },
  {
   "cell_type": "code",
   "execution_count": 205,
   "metadata": {},
   "outputs": [],
   "source": [
    "#Avg w2v for train data\n",
    "X_tr_avg_w2v = avg_w2v(X_tr_w2v, w2v, w2v_words)\n",
    "\n",
    "#Avg w2v for test data\n",
    "X_test_avg_w2v = avg_w2v(X_test_w2v, w2v, w2v_words)"
   ]
  },
  {
   "cell_type": "markdown",
   "metadata": {},
   "source": [
    "** 1. Brute Force Algorithm:**"
   ]
  },
  {
   "cell_type": "code",
   "execution_count": 206,
   "metadata": {},
   "outputs": [
    {
     "name": "stdout",
     "output_type": "stream",
     "text": [
      "Fitting 3 folds for each of 4 candidates, totalling 12 fits\n",
      "Optimal k_value: {'n_neighbors': 11}\n",
      "Best Accuracy: 89.80952380952381\n",
      "Wall time: 1min 23s\n"
     ]
    },
    {
     "name": "stderr",
     "output_type": "stream",
     "text": [
      "[Parallel(n_jobs=3)]: Done  12 out of  12 | elapsed:  1.4min finished\n"
     ]
    }
   ],
   "source": [
    "\n",
    "%%time\n",
    "\n",
    "#Calling the function for KNN using grid search cross validation with the train data\n",
    "algorithm = 'brute'\n",
    "best_scores, best_estimator = knn_gsv_tbs(algorithm, X_tr_avg_w2v, y_tr_w2v)"
   ]
  },
  {
   "cell_type": "code",
   "execution_count": 207,
   "metadata": {},
   "outputs": [
    {
     "data": {
      "text/plain": [
       "[mean: 0.89341, std: 0.00225, params: {'n_neighbors': 5},\n",
       " mean: 0.89486, std: 0.00247, params: {'n_neighbors': 7}]"
      ]
     },
     "execution_count": 207,
     "metadata": {},
     "output_type": "execute_result"
    }
   ],
   "source": [
    "#grid_scores_ will return paramters, mean validation scores and cross validation scores\n",
    "best_scores[:2] "
   ]
  },
  {
   "cell_type": "code",
   "execution_count": 208,
   "metadata": {},
   "outputs": [
    {
     "data": {
      "image/png": "[encoded data removed]",
      "text/plain": [
       "<Figure size 432x288 with 1 Axes>"
      ]
     },
     "metadata": {},
     "output_type": "display_data"
    }
   ],
   "source": [
    "#Storing neighbors in to neigh variable\n",
    "neigh = [val[0]['n_neighbors'] for val in best_scores]\n",
    "\n",
    "#Storing all cv_errors in cv_error\n",
    "cv_error = [1-val[1] for val in best_scores]\n",
    "\n",
    "#Calling function for plot between cv_errors and corresponding neighbors\n",
    "neigh_cv_error(neigh, cv_error)"
   ]
  },
  {
   "cell_type": "markdown",
   "metadata": {},
   "source": [
    "** Testing the model using best_estimator_ which can find from grid search cross validation:**"
   ]
  },
  {
   "cell_type": "code",
   "execution_count": 209,
   "metadata": {},
   "outputs": [
    {
     "data": {
      "text/plain": [
       "KNeighborsClassifier(algorithm='brute', leaf_size=30, metric='minkowski',\n",
       "           metric_params=None, n_jobs=1, n_neighbors=11, p=2,\n",
       "           weights='uniform')"
      ]
     },
     "execution_count": 209,
     "metadata": {},
     "output_type": "execute_result"
    }
   ],
   "source": [
    "#Result showing the best classifier consisting of parameters\n",
    "best_estimator"
   ]
  },
  {
   "cell_type": "code",
   "execution_count": 210,
   "metadata": {},
   "outputs": [],
   "source": [
    "#Finding the predicted values for test labels using the test data\n",
    "y_pred = best_estimator.predict(X_test_avg_w2v)"
   ]
  },
  {
   "cell_type": "code",
   "execution_count": 211,
   "metadata": {},
   "outputs": [
    {
     "name": "stdout",
     "output_type": "stream",
     "text": [
      "Accuracy on test data: 89.34\n",
      "Precision on test data: 89.9\n",
      "Recall on test data: 99.02\n",
      "F1_score on test data: 94.24\n"
     ]
    },
    {
     "data": {
      "image/png": "[encoded data removed]",
      "text/plain": [
       "<Figure size 432x288 with 2 Axes>"
      ]
     },
     "metadata": {},
     "output_type": "display_data"
    }
   ],
   "source": [
    "#Calling the function for test metrics\n",
    "test_metrics(y_test_w2v, y_pred)"
   ]
  },
  {
   "cell_type": "markdown",
   "metadata": {},
   "source": [
    "** 2. kd_tree Algorithm:**"
   ]
  },
  {
   "cell_type": "code",
   "execution_count": 212,
   "metadata": {},
   "outputs": [
    {
     "name": "stdout",
     "output_type": "stream",
     "text": [
      "Fitting 3 folds for each of 4 candidates, totalling 12 fits\n"
     ]
    },
    {
     "name": "stderr",
     "output_type": "stream",
     "text": [
      "[Parallel(n_jobs=3)]: Done  12 out of  12 | elapsed:  5.7min finished\n"
     ]
    },
    {
     "name": "stdout",
     "output_type": "stream",
     "text": [
      "Optimal k_value: {'n_neighbors': 11}\n",
      "Best Accuracy: 89.80952380952381\n",
      "Wall time: 5min 41s\n"
     ]
    }
   ],
   "source": [
    "\n",
    "%%time\n",
    "\n",
    "#Calling the function for KNN using grid search cross validation with the train data\n",
    "algorithm = 'kd_tree'\n",
    "best_scores, best_estimator = knn_gsv_tbs(algorithm, X_tr_avg_w2v, y_tr_w2v)"
   ]
  },
  {
   "cell_type": "code",
   "execution_count": 213,
   "metadata": {},
   "outputs": [
    {
     "data": {
      "text/plain": [
       "[mean: 0.89341, std: 0.00225, params: {'n_neighbors': 5},\n",
       " mean: 0.89486, std: 0.00247, params: {'n_neighbors': 7}]"
      ]
     },
     "execution_count": 213,
     "metadata": {},
     "output_type": "execute_result"
    }
   ],
   "source": [
    "#grid_scores_ will return paramters, mean validation scores and cross validation scores\n",
    "best_scores[:2] "
   ]
  },
  {
   "cell_type": "code",
   "execution_count": 214,
   "metadata": {},
   "outputs": [
    {
     "data": {
      "image/png": "[encoded data removed]",
      "text/plain": [
       "<Figure size 432x288 with 1 Axes>"
      ]
     },
     "metadata": {},
     "output_type": "display_data"
    }
   ],
   "source": [
    "#Storing neighbors in to neigh variable\n",
    "neigh = [val[0]['n_neighbors'] for val in best_scores]\n",
    "\n",
    "#Storing all cv_errors in cv_error\n",
    "cv_error = [1-val[1] for val in best_scores]\n",
    "\n",
    "#Calling function for plot between cv_errors and corresponding neighbors\n",
    "neigh_cv_error(neigh, cv_error)"
   ]
  },
  {
   "cell_type": "markdown",
   "metadata": {},
   "source": [
    "** Testing the model using best_estimator_ which can find from grid search cross validation:**"
   ]
  },
  {
   "cell_type": "code",
   "execution_count": 215,
   "metadata": {},
   "outputs": [
    {
     "data": {
      "text/plain": [
       "KNeighborsClassifier(algorithm='kd_tree', leaf_size=30, metric='minkowski',\n",
       "           metric_params=None, n_jobs=1, n_neighbors=11, p=2,\n",
       "           weights='uniform')"
      ]
     },
     "execution_count": 215,
     "metadata": {},
     "output_type": "execute_result"
    }
   ],
   "source": [
    "#Result showing the best classifier consisting of parameters\n",
    "best_estimator"
   ]
  },
  {
   "cell_type": "code",
   "execution_count": 216,
   "metadata": {},
   "outputs": [],
   "source": [
    "#Finding the predicted values for test labels using the test data\n",
    "y_pred = best_estimator.predict(X_test_avg_w2v)"
   ]
  },
  {
   "cell_type": "code",
   "execution_count": 217,
   "metadata": {},
   "outputs": [
    {
     "name": "stdout",
     "output_type": "stream",
     "text": [
      "Accuracy on test data: 89.34\n",
      "Precision on test data: 89.9\n",
      "Recall on test data: 99.02\n",
      "F1_score on test data: 94.24\n"
     ]
    },
    {
     "data": {
      "image/png": "[encoded data removed]",
      "text/plain": [
       "<Figure size 432x288 with 2 Axes>"
      ]
     },
     "metadata": {},
     "output_type": "display_data"
    }
   ],
   "source": [
    "#Calling the function for test metrics\n",
    "test_metrics(y_test_w2v, y_pred)"
   ]
  },
  {
   "cell_type": "markdown",
   "metadata": {},
   "source": [
    " "
   ]
  },
  {
   "cell_type": "markdown",
   "metadata": {},
   "source": [
    "# TFIDF_W2V: "
   ]
  },
  {
   "cell_type": "code",
   "execution_count": 218,
   "metadata": {},
   "outputs": [],
   "source": [
    "#Function for tfidf_w2v\n",
    "def tfidf_w2v(tfidf_vect, X, w2v, w2v_words, tfidf):\n",
    "    features = tfidf_vect.get_feature_names()\n",
    "    tfidf_w2vs = []\n",
    "    row = 0\n",
    "    #Assigning empty list for no_words_matched with the train w2v vocabillory\n",
    "    no_words_matched = []\n",
    "    \n",
    "    for sent in X:\n",
    "        sent_vec = np.zeros(50)\n",
    "        tfidf_sum = 0\n",
    "        for word in sent:\n",
    "            if(word in w2v_words):\n",
    "                vec = w2v.wv[word]\n",
    "                tfidf_value = tfidf[row, features.index(word)]\n",
    "                sent_vec += (vec * tfidf_value)\n",
    "                tfidf_sum += tfidf_value\n",
    "        if(tfidf_sum != 0):\n",
    "            sent_vec /= tfidf_sum\n",
    "            tfidf_w2vs.append(sent_vec)\n",
    "        \n",
    "        \n",
    "        if(tfidf_sum == 0):\n",
    "            if(row==1):\n",
    "                print(\"In some of the text reviews of all words not present in train vocabilary, those rows are:\")\n",
    "            print(row)\n",
    "            no_words_matched.append(row)\n",
    "        row += 1\n",
    "    return tfidf_w2vs, no_words_matched"
   ]
  },
  {
   "cell_type": "code",
   "execution_count": 219,
   "metadata": {},
   "outputs": [
    {
     "name": "stdout",
     "output_type": "stream",
     "text": [
      "Wall time: 7h 9min 56s\n"
     ]
    }
   ],
   "source": [
    "\n",
    "%%time\n",
    "\n",
    "#tfidf w2v for training data\n",
    "tfidf_w2v_tr, no_words_matched_tr = tfidf_w2v(tfidf_vect, X_tr_w2v, w2v, w2v_words, tfidf_tr)"
   ]
  },
  {
   "cell_type": "code",
   "execution_count": 232,
   "metadata": {},
   "outputs": [
    {
     "name": "stdout",
     "output_type": "stream",
     "text": [
      "[['mani', 'famili', 'member', 'toler', 'gluten', 'visit', 'one', 'tri', 'cracker', 'realli', 'like', 'dont', 'tast', 'like', 'ritz', 'flavor', 'anyway', 'read', 'label', 'know', 'ingredi', 'herb', 'flavor', 'strong', 'even', 'packag', 'open', 'week', 'still', 'tast', 'fresh', 'made', 'cracker', 'would', 'tast', 'like']]\n"
     ]
    }
   ],
   "source": [
    "print(X_test_w2v[:1])"
   ]
  },
  {
   "cell_type": "code",
   "execution_count": 238,
   "metadata": {},
   "outputs": [
    {
     "name": "stdout",
     "output_type": "stream",
     "text": [
      " \n"
     ]
    }
   ],
   "source": [
    "#tfidf w2v for training data\n",
    "tfidf_w2v_test, no_words_matched_test= tfidf_w2v(tfidf_vect, X_test_w2v, w2v, w2v_words, tfidf_tr)"
   ]
  },
  {
   "cell_type": "code",
   "execution_count": 240,
   "metadata": {},
   "outputs": [
    {
     "name": "stdout",
     "output_type": "stream",
     "text": [
      "\n"
     ]
    }
   ],
   "source": [
    "#index of the test labels start with 35000\n",
    "no_words_matched_test = [34999+val for val in no_words_matched_test]\n",
    "\n",
    "\n",
    "\n",
    "#Droping the labels of corresponding test reviews whose words not match with train vocabilory\n",
    "y_test_w2v.drop(labels=no_words_matched_test, inplace=True)   \n"
   ]
  },
  {
   "cell_type": "code",
   "execution_count": 241,
   "metadata": {},
   "outputs": [
    {
     "name": "stdout",
     "output_type": "stream",
     "text": [
      "10164\n"
     ]
    }
   ],
   "source": [
    "print(len(y_test_w2v))"
   ]
  },
  {
   "cell_type": "code",
   "execution_count": 222,
   "metadata": {},
   "outputs": [],
   "source": [
    "#saving the training data of tfidf_w2v\n",
    "savetofile(tfidf_w2v_tr,\"tfidf_w2v_train_of_50k_pts\")\n",
    "#saving labels of train data\n",
    "savetofile(y_tr_w2v, \"tfidf_y_tr_w2v_of_50k_pts\")"
   ]
  },
  {
   "cell_type": "code",
   "execution_count": 223,
   "metadata": {},
   "outputs": [],
   "source": [
    "#saving the test data of tfidf_w2v\n",
    "savetofile(tfidf_w2v_test,\"tfidf_w2v_test_of_50k_pts\")\n",
    "#saving labels of test data\n",
    "savetofile(y_test_w2v, \"tfidf_y_test_w2v_of_50k_pts\")"
   ]
  },
  {
   "cell_type": "markdown",
   "metadata": {},
   "source": [
    "** 1. Brute Force Algorithm:**"
   ]
  },
  {
   "cell_type": "code",
   "execution_count": 224,
   "metadata": {},
   "outputs": [
    {
     "name": "stdout",
     "output_type": "stream",
     "text": [
      "Fitting 3 folds for each of 4 candidates, totalling 12 fits\n",
      "Optimal k_value: {'n_neighbors': 11}\n",
      "Best Accuracy: 89.62666666666667\n",
      "Wall time: 1min 27s\n"
     ]
    },
    {
     "name": "stderr",
     "output_type": "stream",
     "text": [
      "[Parallel(n_jobs=3)]: Done  12 out of  12 | elapsed:  1.4min finished\n"
     ]
    }
   ],
   "source": [
    "\n",
    "%%time\n",
    "\n",
    "#Calling the function for KNN using grid search cross validation with the train data\n",
    "algorithm = 'brute'\n",
    "best_scores, best_estimator = knn_gsv_tbs(algorithm, tfidf_w2v_tr, y_tr_w2v)"
   ]
  },
  {
   "cell_type": "code",
   "execution_count": 225,
   "metadata": {},
   "outputs": [
    {
     "data": {
      "text/plain": [
       "[mean: 0.89211, std: 0.00232, params: {'n_neighbors': 5},\n",
       " mean: 0.89531, std: 0.00323, params: {'n_neighbors': 7}]"
      ]
     },
     "execution_count": 225,
     "metadata": {},
     "output_type": "execute_result"
    }
   ],
   "source": [
    "#grid_scores_ will return paramters, mean validation scores and cross validation scores\n",
    "best_scores[:2] "
   ]
  },
  {
   "cell_type": "code",
   "execution_count": 226,
   "metadata": {},
   "outputs": [
    {
     "data": {
      "image/png": "[encoded data removed]",
      "text/plain": [
       "<Figure size 432x288 with 1 Axes>"
      ]
     },
     "metadata": {},
     "output_type": "display_data"
    }
   ],
   "source": [
    "#Storing neighbors in to neigh variable\n",
    "neigh = [val[0]['n_neighbors'] for val in best_scores]\n",
    "\n",
    "#Storing all cv_errors in cv_error\n",
    "cv_error = [1-val[1] for val in best_scores]\n",
    "\n",
    "#Calling function for plot between cv_errors and corresponding neighbors\n",
    "neigh_cv_error(neigh, cv_error)"
   ]
  },
  {
   "cell_type": "markdown",
   "metadata": {},
   "source": [
    "** Testing the model using best_estimator_ which can find from grid search cross validation:**"
   ]
  },
  {
   "cell_type": "code",
   "execution_count": 227,
   "metadata": {},
   "outputs": [
    {
     "data": {
      "text/plain": [
       "KNeighborsClassifier(algorithm='brute', leaf_size=30, metric='minkowski',\n",
       "           metric_params=None, n_jobs=1, n_neighbors=11, p=2,\n",
       "           weights='uniform')"
      ]
     },
     "execution_count": 227,
     "metadata": {},
     "output_type": "execute_result"
    }
   ],
   "source": [
    "#Result showing the best classifier consisting of parameters\n",
    "best_estimator"
   ]
  },
  {
   "cell_type": "code",
   "execution_count": 228,
   "metadata": {},
   "outputs": [],
   "source": [
    "#Finding the predicted values for test labels using the test data\n",
    "y_pred = best_estimator.predict(tfidf_w2v_test)"
   ]
  },
  {
   "cell_type": "code",
   "execution_count": 244,
   "metadata": {},
   "outputs": [
    {
     "data": {
      "text/plain": [
       "(10164, 10164)"
      ]
     },
     "execution_count": 244,
     "metadata": {},
     "output_type": "execute_result"
    }
   ],
   "source": [
    "len(y_pred), len(y_test_w2v)"
   ]
  },
  {
   "cell_type": "code",
   "execution_count": 258,
   "metadata": {},
   "outputs": [
    {
     "name": "stdout",
     "output_type": "stream",
     "text": [
      "Accuracy on test data: 87.12\n",
      "Precision on test data: 88.44\n",
      "Recall on test data: 98.25\n",
      "F1_score on test data: 93.09\n"
     ]
    },
    {
     "data": {
      "image/png": "[encoded data removed]",
      "text/plain": [
       "<Figure size 432x288 with 2 Axes>"
      ]
     },
     "metadata": {},
     "output_type": "display_data"
    }
   ],
   "source": [
    "#Calling the function for test metrics\n",
    "test_metrics(y_test_w2v, y_pred)"
   ]
  },
  {
   "cell_type": "markdown",
   "metadata": {},
   "source": [
    "** 2. kd_tree Algorithm:**"
   ]
  },
  {
   "cell_type": "code",
   "execution_count": 259,
   "metadata": {},
   "outputs": [
    {
     "name": "stdout",
     "output_type": "stream",
     "text": [
      "Fitting 3 folds for each of 4 candidates, totalling 12 fits\n"
     ]
    },
    {
     "name": "stderr",
     "output_type": "stream",
     "text": [
      "[Parallel(n_jobs=3)]: Done  12 out of  12 | elapsed:  4.9min finished\n"
     ]
    },
    {
     "name": "stdout",
     "output_type": "stream",
     "text": [
      "Optimal k_value: {'n_neighbors': 11}\n",
      "Best Accuracy: 89.62666666666667\n",
      "Wall time: 4min 55s\n"
     ]
    }
   ],
   "source": [
    "\n",
    "%%time\n",
    "\n",
    "#Calling the function for KNN using grid search cross validation with the train data\n",
    "algorithm = 'kd_tree'\n",
    "best_scores, best_estimator = knn_gsv_tbs(algorithm, tfidf_w2v_tr, y_tr_w2v)"
   ]
  },
  {
   "cell_type": "code",
   "execution_count": 261,
   "metadata": {},
   "outputs": [
    {
     "data": {
      "text/plain": [
       "[mean: 0.89211, std: 0.00232, params: {'n_neighbors': 5},\n",
       " mean: 0.89531, std: 0.00323, params: {'n_neighbors': 7}]"
      ]
     },
     "execution_count": 261,
     "metadata": {},
     "output_type": "execute_result"
    }
   ],
   "source": [
    "#grid_scores_ will return paramters, mean validation scores and cross validation scores\n",
    "best_scores[:2] "
   ]
  },
  {
   "cell_type": "code",
   "execution_count": 262,
   "metadata": {},
   "outputs": [
    {
     "data": {
      "image/png": "[encoded data removed]",
      "text/plain": [
       "<Figure size 432x288 with 1 Axes>"
      ]
     },
     "metadata": {},
     "output_type": "display_data"
    }
   ],
   "source": [
    "#Storing neighbors in to neigh variable\n",
    "neigh = [val[0]['n_neighbors'] for val in best_scores]\n",
    "\n",
    "#Storing all cv_errors in cv_error\n",
    "cv_error = [1-val[1] for val in best_scores]\n",
    "\n",
    "#Calling function for plot between cv_errors and corresponding neighbors\n",
    "neigh_cv_error(neigh, cv_error)"
   ]
  },
  {
   "cell_type": "markdown",
   "metadata": {},
   "source": [
    "** Testing the model using best_estimator_ which can find from grid search cross validation:**"
   ]
  },
  {
   "cell_type": "code",
   "execution_count": 263,
   "metadata": {},
   "outputs": [
    {
     "data": {
      "text/plain": [
       "KNeighborsClassifier(algorithm='kd_tree', leaf_size=30, metric='minkowski',\n",
       "           metric_params=None, n_jobs=1, n_neighbors=11, p=2,\n",
       "           weights='uniform')"
      ]
     },
     "execution_count": 263,
     "metadata": {},
     "output_type": "execute_result"
    }
   ],
   "source": [
    "#Result showing the best classifier consisting of parameters\n",
    "best_estimator"
   ]
  },
  {
   "cell_type": "code",
   "execution_count": 264,
   "metadata": {},
   "outputs": [],
   "source": [
    "#Finding the predicted values for test labels using the test data\n",
    "y_pred = best_estimator.predict(tfidf_w2v_test)"
   ]
  },
  {
   "cell_type": "code",
   "execution_count": 265,
   "metadata": {},
   "outputs": [
    {
     "name": "stdout",
     "output_type": "stream",
     "text": [
      "Accuracy on test data: 87.12\n",
      "Precision on test data: 88.44\n",
      "Recall on test data: 98.25\n",
      "F1_score on test data: 93.09\n"
     ]
    },
    {
     "data": {
      "image/png": "[encoded data removed]",
      "text/plain": [
       "<Figure size 432x288 with 2 Axes>"
      ]
     },
     "metadata": {},
     "output_type": "display_data"
    }
   ],
   "source": [
    "#Calling the function for test metrics\n",
    "test_metrics(y_test_w2v, y_pred)"
   ]
  },
  {
   "cell_type": "markdown",
   "metadata": {},
   "source": [
    "# Summary: "
   ]
  },
  {
   "cell_type": "markdown",
   "metadata": {},
   "source": [
    "**K-nn with different text classification and different algorithms:**\n",
    "\n",
    "|          |sample size|Optimal_K|Brute Force   |              |optimal_k| k-d tree     |            |                     \n",
    "|----------|-----------|---------|--------------|--------------|---------|--------------|------------| \n",
    "|          |           |         |Train accuracy|Test accuracy |         |Tain accuracy |Test accuracy\n",
    "|BOW       | 50k       |   07    |   89.60%     |    88.79%    | 11      | 89.13%       |   88.01%   |\n",
    "|TF-IDF    | 50k       |   09    |   89.77%     |    89.02%    | 11      |89.20%        |   89.27%   |\n",
    "|Avg-W2V   | 50k       |   11    |   89.80%     |    89.34%    | 11      |89.80%        |   89.34%   |\n",
    "|TF-IDF W2V| 50k       |   11    |   89.62%     |    87.12%    | 11      |89.62%        |   87.12%   |\n",
    "\n",
    "\n",
    "**observation:**\n",
    "\n",
    "1. Given dataset is an imbalanced data so, majority is an +ve class and minority class is -ve class.\n",
    "2. kd_tree doesn't take input as sparse matrix and as compared to kd_tree brute force can take less time\n",
    "3. if diemnsion is large then kd_tree is good.\n",
    "4. In all text classification knn is predicting -ve label to be +ve label.\n",
    "5. Among all text classification Avg_w2v is working well for this problem."
   ]
  }
 ],
 "metadata": {
  "kernelspec": {
   "display_name": "Python 3",
   "language": "python",
   "name": "python3"
  },
  "language_info": {
   "codemirror_mode": {
    "name": "ipython",
    "version": 3
   },
   "file_extension": ".py",
   "mimetype": "text/x-python",
   "name": "python",
   "nbconvert_exporter": "python",
   "pygments_lexer": "ipython3",
   "version": "3.6.5"
  }
 },
 "nbformat": 4,
 "nbformat_minor": 2
}
