{
 "cells": [
  {
   "cell_type": "markdown",
   "metadata": {},
   "source": [
    "# Assignment 4 : Naive Bayes "
   ]
  },
  {
   "cell_type": "markdown",
   "metadata": {},
   "source": [
    "\n",
    "- Naive Bayes classification method is based on Bayes’ theorem. It is termed as ‘Naive’ because it assumes                independence between every pair of feature in the data. Let (x1, x2, …, xn) be a feature vector and y be the class        label corresponding to this feature vector.\n",
    "           \n",
    "           \n",
    "          p(c/x) = (p(x/c) * p(c)) / (p(x))\n",
    "           \n",
    "           where: p(c/x) = posterior probability\n",
    "                  p(x/c) = Likelihood\n",
    "                  p(c)   = class prior probability\n",
    "                  p(x)   = predictor prior probability\n",
    "             \n",
    "             \n",
    "            p(c/X) = p(x1/c)*p(x2/c)*p(x3/c)......p(c)\n",
    " \n",
    "\n",
    "- work well on numeric and text data\n",
    "- Easy to implement and computation is good with comparing to other algorithm\n",
    "- Assumes independence of features.\n",
    "- Perform very poorly when features are highly correlated.\n",
    "- Test time low so, better to use for low latency systems."
   ]
  },
  {
   "cell_type": "code",
   "execution_count": 137,
   "metadata": {},
   "outputs": [],
   "source": [
    "#Ignore warnings\n",
    "import warnings\n",
    "warnings.filterwarnings('ignore')"
   ]
  },
  {
   "cell_type": "code",
   "execution_count": 180,
   "metadata": {},
   "outputs": [],
   "source": [
    "#Loading the libraries\n",
    "import pandas as pd\n",
    "import numpy as np\n",
    "import matplotlib.pyplot as plt\n",
    "import seaborn as sns\n",
    "\n",
    "from sklearn.model_selection import train_test_split\n",
    "from sklearn.feature_extraction.text import CountVectorizer\n",
    "from sklearn.model_selection import TimeSeriesSplit\n",
    "from sklearn.model_selection import GridSearchCV\n",
    "from sklearn.model_selection import RandomizedSearchCV\n",
    "from sklearn.naive_bayes import BernoulliNB\n",
    "\n",
    "from sklearn.metrics import confusion_matrix\n",
    "from sklearn.metrics import accuracy_score\n",
    "from sklearn.metrics import recall_score\n",
    "from sklearn.metrics import precision_score\n",
    "from sklearn.metrics import f1_score\n",
    "\n",
    "from wordcloud import WordCloud\n",
    "from sklearn.model_selection import RandomizedSearchCV\n",
    "from sklearn.naive_bayes import MultinomialNB\n",
    "from sklearn.feature_extraction.text import TfidfVectorizer"
   ]
  },
  {
   "cell_type": "code",
   "execution_count": 139,
   "metadata": {},
   "outputs": [],
   "source": [
    "#Loading the dataset\n",
    "import pickle\n",
    "def openfromfile(filename):\n",
    "    temp = pickle.load(open(filename, \"rb\"))\n",
    "    return temp\n",
    "\n",
    "data_frame = openfromfile(\"New_Amazon_preprocess_data\")"
   ]
  },
  {
   "cell_type": "code",
   "execution_count": 140,
   "metadata": {},
   "outputs": [
    {
     "name": "stdout",
     "output_type": "stream",
     "text": [
      "Shape of the Data Frame (364171, 11)\n"
     ]
    },
    {
     "data": {
      "text/html": [
       "<div>\n",
       "<style scoped>\n",
       "    .dataframe tbody tr th:only-of-type {\n",
       "        vertical-align: middle;\n",
       "    }\n",
       "\n",
       "    .dataframe tbody tr th {\n",
       "        vertical-align: top;\n",
       "    }\n",
       "\n",
       "    .dataframe thead th {\n",
       "        text-align: right;\n",
       "    }\n",
       "</style>\n",
       "<table border=\"1\" class=\"dataframe\">\n",
       "  <thead>\n",
       "    <tr style=\"text-align: right;\">\n",
       "      <th></th>\n",
       "      <th>Id</th>\n",
       "      <th>ProductId</th>\n",
       "      <th>UserId</th>\n",
       "      <th>ProfileName</th>\n",
       "      <th>HelpfulnessNumerator</th>\n",
       "      <th>HelpfulnessDenominator</th>\n",
       "      <th>Score</th>\n",
       "      <th>Time</th>\n",
       "      <th>Summary</th>\n",
       "      <th>Text</th>\n",
       "      <th>CleanedText</th>\n",
       "    </tr>\n",
       "  </thead>\n",
       "  <tbody>\n",
       "    <tr>\n",
       "      <th>515425</th>\n",
       "      <td>515426</td>\n",
       "      <td>141278509X</td>\n",
       "      <td>AB1A5EGHHVA9M</td>\n",
       "      <td>CHelmic</td>\n",
       "      <td>1</td>\n",
       "      <td>1</td>\n",
       "      <td>positive</td>\n",
       "      <td>1332547200</td>\n",
       "      <td>The best drink mix</td>\n",
       "      <td>This product by Archer Farms is the best drink...</td>\n",
       "      <td>product archer farm best drink mix ever mix fl...</td>\n",
       "    </tr>\n",
       "    <tr>\n",
       "      <th>24750</th>\n",
       "      <td>24751</td>\n",
       "      <td>2734888454</td>\n",
       "      <td>A1C298ITT645B6</td>\n",
       "      <td>Hugh G. Pritchard</td>\n",
       "      <td>0</td>\n",
       "      <td>0</td>\n",
       "      <td>positive</td>\n",
       "      <td>1195948800</td>\n",
       "      <td>Dog Lover Delites</td>\n",
       "      <td>Our dogs just love them.  I saw them in a pet ...</td>\n",
       "      <td>dog love saw pet store tag attach regard made ...</td>\n",
       "    </tr>\n",
       "    <tr>\n",
       "      <th>24749</th>\n",
       "      <td>24750</td>\n",
       "      <td>2734888454</td>\n",
       "      <td>A13ISQV0U9GZIC</td>\n",
       "      <td>Sandikaye</td>\n",
       "      <td>1</td>\n",
       "      <td>1</td>\n",
       "      <td>negative</td>\n",
       "      <td>1192060800</td>\n",
       "      <td>made in china</td>\n",
       "      <td>My dogs loves this chicken but its a product f...</td>\n",
       "      <td>dog love chicken product china wont buy anymor...</td>\n",
       "    </tr>\n",
       "    <tr>\n",
       "      <th>308076</th>\n",
       "      <td>308077</td>\n",
       "      <td>2841233731</td>\n",
       "      <td>A3QD68O22M2XHQ</td>\n",
       "      <td>LABRNTH</td>\n",
       "      <td>0</td>\n",
       "      <td>0</td>\n",
       "      <td>positive</td>\n",
       "      <td>1345852800</td>\n",
       "      <td>Great recipe book for my babycook</td>\n",
       "      <td>This book is easy to read and the ingredients ...</td>\n",
       "      <td>book easi read ingredi avail store unlik recip...</td>\n",
       "    </tr>\n",
       "    <tr>\n",
       "      <th>150523</th>\n",
       "      <td>150524</td>\n",
       "      <td>6641040</td>\n",
       "      <td>ACITT7DI6IDDL</td>\n",
       "      <td>shari zychinski</td>\n",
       "      <td>0</td>\n",
       "      <td>0</td>\n",
       "      <td>positive</td>\n",
       "      <td>939340800</td>\n",
       "      <td>EVERY book is educational</td>\n",
       "      <td>this witty little book makes my son laugh at l...</td>\n",
       "      <td>witti littl book make son laugh loud recit car...</td>\n",
       "    </tr>\n",
       "  </tbody>\n",
       "</table>\n",
       "</div>"
      ],
      "text/plain": [
       "            Id   ProductId          UserId        ProfileName  \\\n",
       "515425  515426  141278509X   AB1A5EGHHVA9M            CHelmic   \n",
       "24750    24751  2734888454  A1C298ITT645B6  Hugh G. Pritchard   \n",
       "24749    24750  2734888454  A13ISQV0U9GZIC          Sandikaye   \n",
       "308076  308077  2841233731  A3QD68O22M2XHQ            LABRNTH   \n",
       "150523  150524     6641040   ACITT7DI6IDDL    shari zychinski   \n",
       "\n",
       "        HelpfulnessNumerator  HelpfulnessDenominator     Score        Time  \\\n",
       "515425                     1                       1  positive  1332547200   \n",
       "24750                      0                       0  positive  1195948800   \n",
       "24749                      1                       1  negative  1192060800   \n",
       "308076                     0                       0  positive  1345852800   \n",
       "150523                     0                       0  positive   939340800   \n",
       "\n",
       "                                  Summary  \\\n",
       "515425                 The best drink mix   \n",
       "24750                   Dog Lover Delites   \n",
       "24749                       made in china   \n",
       "308076  Great recipe book for my babycook   \n",
       "150523          EVERY book is educational   \n",
       "\n",
       "                                                     Text  \\\n",
       "515425  This product by Archer Farms is the best drink...   \n",
       "24750   Our dogs just love them.  I saw them in a pet ...   \n",
       "24749   My dogs loves this chicken but its a product f...   \n",
       "308076  This book is easy to read and the ingredients ...   \n",
       "150523  this witty little book makes my son laugh at l...   \n",
       "\n",
       "                                              CleanedText  \n",
       "515425  product archer farm best drink mix ever mix fl...  \n",
       "24750   dog love saw pet store tag attach regard made ...  \n",
       "24749   dog love chicken product china wont buy anymor...  \n",
       "308076  book easi read ingredi avail store unlik recip...  \n",
       "150523  witti littl book make son laugh loud recit car...  "
      ]
     },
     "execution_count": 140,
     "metadata": {},
     "output_type": "execute_result"
    }
   ],
   "source": [
    "#shape of the dataframe\n",
    "print(\"Shape of the Data Frame\", data_frame.shape)\n",
    "\n",
    "#first 5 rows of the dataframe\n",
    "data_frame.head()"
   ]
  },
  {
   "cell_type": "code",
   "execution_count": 141,
   "metadata": {},
   "outputs": [
    {
     "data": {
      "text/plain": [
       "Index(['Id', 'ProductId', 'UserId', 'ProfileName', 'HelpfulnessNumerator',\n",
       "       'HelpfulnessDenominator', 'Score', 'Time', 'Summary', 'Text',\n",
       "       'CleanedText'],\n",
       "      dtype='object')"
      ]
     },
     "execution_count": 141,
     "metadata": {},
     "output_type": "execute_result"
    }
   ],
   "source": [
    "#Columns of the data\n",
    "data_frame.columns"
   ]
  },
  {
   "cell_type": "code",
   "execution_count": 142,
   "metadata": {},
   "outputs": [
    {
     "data": {
      "image/png": "[encoded data removed]",
      "text/plain": [
       "<Figure size 432x288 with 1 Axes>"
      ]
     },
     "metadata": {},
     "output_type": "display_data"
    },
    {
     "data": {
      "text/plain": [
       "positive    307061\n",
       "negative     57110\n",
       "Name: Score, dtype: int64"
      ]
     },
     "execution_count": 142,
     "metadata": {},
     "output_type": "execute_result"
    }
   ],
   "source": [
    "sns.countplot(x=data_frame.Score, data=data_frame)\n",
    "plt.show()\n",
    "#Counts of positive and negative reviews\n",
    "data_frame.Score.value_counts()"
   ]
  },
  {
   "cell_type": "code",
   "execution_count": 143,
   "metadata": {},
   "outputs": [],
   "source": [
    "#Sorting the data based on the time attribute\n",
    "data_frame.sort_values(\"Time\", inplace=True)\n",
    "\n",
    "#Resting the index of the data\n",
    "data_frame = data_frame.reset_index(drop=True)"
   ]
  },
  {
   "cell_type": "code",
   "execution_count": 144,
   "metadata": {},
   "outputs": [],
   "source": [
    "#For Score consisting of two categories making them as positive for 1 and negative for 0\n",
    "data_frame.Score = [1 if (score == 'positive') else 0 for score in data_frame.Score]"
   ]
  },
  {
   "cell_type": "code",
   "execution_count": 145,
   "metadata": {},
   "outputs": [],
   "source": [
    "#Storing CleanedText into X and Score into Y\n",
    "X = data_frame.CleanedText\n",
    "y = data_frame.Score"
   ]
  },
  {
   "cell_type": "code",
   "execution_count": 146,
   "metadata": {},
   "outputs": [],
   "source": [
    "#splitting the data into train and test \n",
    "X_tr, X_test, y_tr, y_test = train_test_split(X, y, test_size=0.3, shuffle=False)"
   ]
  },
  {
   "cell_type": "code",
   "execution_count": 147,
   "metadata": {},
   "outputs": [
    {
     "name": "stdout",
     "output_type": "stream",
     "text": [
      "Shape of train data: (254919,)\n",
      "Shape of test data: (109252,)\n"
     ]
    }
   ],
   "source": [
    "#Shape of train and test data\n",
    "print(\"Shape of train data:\", X_tr.shape)\n",
    "print(\"Shape of test data:\", X_test.shape)"
   ]
  },
  {
   "cell_type": "markdown",
   "metadata": {},
   "source": [
    "# 1.BOW:"
   ]
  },
  {
   "cell_type": "code",
   "execution_count": 148,
   "metadata": {},
   "outputs": [
    {
     "name": "stdout",
     "output_type": "stream",
     "text": [
      "Wall time: 8.94 s\n"
     ]
    }
   ],
   "source": [
    "\n",
    "%%time\n",
    "\n",
    "#Binary countvectorizer which means for non-zero counts make as 1, so vector contains values of 0's and 1's\n",
    "count_vec = CountVectorizer(binary=True)\n",
    "#Making the fit_transform for train data\n",
    "bow_tr = count_vec.fit_transform(X_tr)"
   ]
  },
  {
   "cell_type": "code",
   "execution_count": 149,
   "metadata": {},
   "outputs": [],
   "source": [
    "#Transform for test data\n",
    "bow_test = count_vec.transform(X_test)"
   ]
  },
  {
   "cell_type": "markdown",
   "metadata": {},
   "source": [
    "## BOW with Bernouli Naive Bayes: "
   ]
  },
  {
   "cell_type": "markdown",
   "metadata": {},
   "source": [
    "### Bernouli Naive Bayes: \n",
    "                             The binomial model is useful if your feature vectors are binary (i.e. zeros and ones). One application would be text classification with ‘bag of words’ model where the 1s & 0s are “word occurs in the document” and “word does not occur in the document” respectively."
   ]
  },
  {
   "cell_type": "markdown",
   "metadata": {},
   "source": [
    "**1.Grid Search cross validation** :\n",
    "    - working through multiple combinations of parameter tunes, cross validate each and determine which one gives the best         performance.      \n",
    "    \n",
    "    - Note: In grid search, if you choosen n paramters then we will have to check 2^n combinations."
   ]
  },
  {
   "cell_type": "markdown",
   "metadata": {},
   "source": [
    "![title](grid search cross validation.png)"
   ]
  },
  {
   "cell_type": "markdown",
   "metadata": {},
   "source": [
    "** Time based splitting:** Provides train/test indices to split time series data samplesthat are observed at fixed time                                intervals, in train/test sets.\n",
    "                           In each split, test indices must be higher than before, and thus shuffling in cross validator is                            inappropriate."
   ]
  },
  {
   "cell_type": "markdown",
   "metadata": {},
   "source": [
    "![title](time series split.png)"
   ]
  },
  {
   "cell_type": "code",
   "execution_count": 150,
   "metadata": {},
   "outputs": [
    {
     "name": "stdout",
     "output_type": "stream",
     "text": [
      "optimal Alpha: {'alpha': 0.01}\n",
      "Train accuracy: 88.3537585224821\n",
      "Wall time: 26.5 s\n"
     ]
    }
   ],
   "source": [
    "\n",
    "%%time\n",
    "\n",
    "#Bernouli Naive Bayes using grid Search Cross Validation for hyperparameter tuning.\n",
    "\n",
    "#Giving some set of parameters as input to grid search cross validation\n",
    "parameters = {'alpha':[10,5,1,0.5,0.1,0.05,0.01,0.005,0.001]}\n",
    "\n",
    "#splitting the data based on time of 10 folds\n",
    "tbs = TimeSeriesSplit(n_splits=10)\n",
    "\n",
    "BNB = BernoulliNB()\n",
    "gsv = GridSearchCV(BNB, parameters, scoring='accuracy', n_jobs=3, cv=tbs)\n",
    "\n",
    "#Training the model\n",
    "gsv.fit(bow_tr, y_tr)\n",
    "\n",
    "\n",
    "print(\"optimal Alpha:\",gsv.best_params_)\n",
    "print(\"Train accuracy:\",gsv.best_score_ * 100)"
   ]
  },
  {
   "cell_type": "code",
   "execution_count": 151,
   "metadata": {},
   "outputs": [
    {
     "data": {
      "text/plain": [
       "[mean: 0.84717, std: 0.01983, params: {'alpha': 10},\n",
       " mean: 0.85142, std: 0.01654, params: {'alpha': 5}]"
      ]
     },
     "execution_count": 151,
     "metadata": {},
     "output_type": "execute_result"
    }
   ],
   "source": [
    "#gsv.grid_scores_ will return paramters, mean validation scores and cross validation scores\n",
    "gsv.grid_scores_[:2]"
   ]
  },
  {
   "cell_type": "code",
   "execution_count": 152,
   "metadata": {},
   "outputs": [],
   "source": [
    "#Function for plot between alpha values and cv_errors\n",
    "def alpha_cv_error(alpha_values, cv_errors):\n",
    "    plt.plot(alpha_values, cv_errors)\n",
    "    plt.title(\"alpha_values vs cv_errors\")\n",
    "    plt.xlabel(\"alpha_values\")\n",
    "    plt.ylabel(\"cv_errors\")\n",
    "    plt.show()"
   ]
  },
  {
   "cell_type": "code",
   "execution_count": 153,
   "metadata": {},
   "outputs": [
    {
     "data": {
      "image/png": "[encoded data removed]",
      "text/plain": [
       "<Figure size 432x288 with 1 Axes>"
      ]
     },
     "metadata": {},
     "output_type": "display_data"
    }
   ],
   "source": [
    "#Storing alpha_values from the gsv.grid_scores_\n",
    "alpha = [val[0]['alpha'] for val in gsv.grid_scores_]\n",
    "#Storing cv_errors into an cv_error \n",
    "cv_error = [1-val[1] for val in gsv.grid_scores_]\n",
    "\n",
    "#Calling the function to plot between alpha_values and cv_errors\n",
    "alpha_cv_error(alpha, cv_error)"
   ]
  },
  {
   "cell_type": "markdown",
   "metadata": {},
   "source": [
    "** Testing the model using the best_estimator which can be return by grid_search_cv **"
   ]
  },
  {
   "cell_type": "code",
   "execution_count": 154,
   "metadata": {},
   "outputs": [
    {
     "data": {
      "text/plain": [
       "BernoulliNB(alpha=0.01, binarize=0.0, class_prior=None, fit_prior=True)"
      ]
     },
     "execution_count": 154,
     "metadata": {},
     "output_type": "execute_result"
    }
   ],
   "source": [
    "best_estimator = gsv.best_estimator_\n",
    "#Parameters of best_estimator\n",
    "best_estimator"
   ]
  },
  {
   "cell_type": "code",
   "execution_count": 155,
   "metadata": {},
   "outputs": [],
   "source": [
    "#predicting the y_labels from the test data\n",
    "y_pred = best_estimator.predict(bow_test)"
   ]
  },
  {
   "cell_type": "code",
   "execution_count": 156,
   "metadata": {},
   "outputs": [],
   "source": [
    "#Function for test metrics\n",
    "def test_metrics(y_test, y_pred):\n",
    "    cm = pd.DataFrame(confusion_matrix(y_test,y_pred),range(2),range(2))\n",
    "    sns.set(font_scale=1.5)\n",
    "    sns.heatmap(cm,annot=True,annot_kws={\"size\": 20}, fmt='g', vmin=0, vmax=109252)\n",
    "\n",
    "    print(\"Accuracy on test data:\", round(accuracy_score(y_test, y_pred) * 100 , 2))\n",
    "    print(\"Precision on test data:\", round(precision_score(y_test, y_pred) * 100 , 2))\n",
    "    print(\"Recall on test data:\", round(recall_score(y_test, y_pred) * 100 , 2))\n",
    "    print(\"F1_score on test data:\", round(f1_score(y_test, y_pred) * 100,2))\n",
    "\n",
    "    plt.show()"
   ]
  },
  {
   "cell_type": "code",
   "execution_count": 157,
   "metadata": {},
   "outputs": [
    {
     "name": "stdout",
     "output_type": "stream",
     "text": [
      "Accuracy on test data: 88.31\n",
      "Precision on test data: 92.64\n",
      "Recall on test data: 93.25\n",
      "F1_score on test data: 92.94\n"
     ]
    },
    {
     "data": {
      "image/png": "[encoded data removed]",
      "text/plain": [
       "<Figure size 432x288 with 2 Axes>"
      ]
     },
     "metadata": {},
     "output_type": "display_data"
    }
   ],
   "source": [
    "#Calling function for the test metrics\n",
    "test_metrics(y_test, y_pred)"
   ]
  },
  {
   "cell_type": "markdown",
   "metadata": {},
   "source": [
    "** As comparing to knn this classifier is predicting +ve review as +ve and -ve review as -ve, even though it is an imbalanced dataset.**"
   ]
  },
  {
   "cell_type": "markdown",
   "metadata": {},
   "source": [
    " "
   ]
  },
  {
   "cell_type": "markdown",
   "metadata": {},
   "source": [
    "**2.Random Search cross validation:** \n",
    "- implements a randomized search over parameters, where each setting is sampled from a distribution over possible parameter values. \n",
    "\n",
    "\n",
    "\n",
    "- This has two main benefits over an exhaustive search:\n",
    "    1. A budget can be chosen independent of the number of parameters and possible values\n",
    "    2. Adding parameters that do not influence the performance does not decrease efficiency.\n",
    "   \n",
    "\n",
    "\n",
    "\n",
    "- Note: In random search, if you choosen n paramters then we will have to check n combinations."
   ]
  },
  {
   "cell_type": "markdown",
   "metadata": {},
   "source": [
    "![title](random search cross validation.png)"
   ]
  },
  {
   "cell_type": "code",
   "execution_count": 158,
   "metadata": {},
   "outputs": [
    {
     "name": "stdout",
     "output_type": "stream",
     "text": [
      "Optimal Alpha: {'alpha': 0.58}\n",
      "Best accuracy: 87.66246655734875\n",
      "Wall time: 29.3 s\n"
     ]
    }
   ],
   "source": [
    "\n",
    "%%time\n",
    "\n",
    "#Assigning the parameters\n",
    "x = np.arange(0,10,0.01)\n",
    "parameters = {'alpha': x}\n",
    "#Time based Cross Validation with the 10 splits\n",
    "tbs = TimeSeriesSplit(n_splits=10)\n",
    "\n",
    "BNB = BernoulliNB()\n",
    "\n",
    "#Bernouli Naive Bayes with the random Search\n",
    "rsv = RandomizedSearchCV(BNB, parameters, scoring='accuracy', n_jobs=3, cv=tbs)\n",
    "rsv.fit(bow_tr, y_tr)\n",
    "\n",
    "print(\"Optimal Alpha:\", rsv.best_params_)\n",
    "print(\"Best accuracy:\",rsv.best_score_*100)"
   ]
  },
  {
   "cell_type": "code",
   "execution_count": 159,
   "metadata": {},
   "outputs": [
    {
     "data": {
      "text/plain": [
       "[mean: 0.85681, std: 0.01358, params: {'alpha': 3.3000000000000003},\n",
       " mean: 0.84823, std: 0.01879, params: {'alpha': 7.55}]"
      ]
     },
     "execution_count": 159,
     "metadata": {},
     "output_type": "execute_result"
    }
   ],
   "source": [
    "#rsv.grid_scores_ will return paramters, mean validation scores and cross validation scores\n",
    "rsv.grid_scores_[:2]"
   ]
  },
  {
   "cell_type": "code",
   "execution_count": 160,
   "metadata": {},
   "outputs": [
    {
     "data": {
      "text/plain": [
       "BernoulliNB(alpha=0.58, binarize=0.0, class_prior=None, fit_prior=True)"
      ]
     },
     "execution_count": 160,
     "metadata": {},
     "output_type": "execute_result"
    }
   ],
   "source": [
    "#Testing the using best_estimator\n",
    "best_estimator = rsv.best_estimator_\n",
    "\n",
    "#Parameters of best_estimator\n",
    "best_estimator"
   ]
  },
  {
   "cell_type": "code",
   "execution_count": 161,
   "metadata": {},
   "outputs": [],
   "source": [
    "#predicting the y_labels from the test data\n",
    "y_pred = best_estimator.predict(bow_test)"
   ]
  },
  {
   "cell_type": "code",
   "execution_count": 162,
   "metadata": {},
   "outputs": [
    {
     "name": "stdout",
     "output_type": "stream",
     "text": [
      "Accuracy on test data: 87.96\n",
      "Precision on test data: 92.07\n",
      "Recall on test data: 93.46\n",
      "F1_score on test data: 92.76\n"
     ]
    },
    {
     "data": {
      "image/png": "[encoded data removed]",
      "text/plain": [
       "<Figure size 432x288 with 2 Axes>"
      ]
     },
     "metadata": {},
     "output_type": "display_data"
    }
   ],
   "source": [
    "#Calling function for the test metrics\n",
    "test_metrics(y_test, y_pred)"
   ]
  },
  {
   "cell_type": "markdown",
   "metadata": {},
   "source": [
    "**Important features for positive class and negative class:**"
   ]
  },
  {
   "cell_type": "markdown",
   "metadata": {},
   "source": [
    "- __feature_log_prob_ __ will Returns the log-probability of the samples for each class in the model. The columns correspond to the classes in sorted order, as they appear in the attribute classes_."
   ]
  },
  {
   "cell_type": "code",
   "execution_count": 163,
   "metadata": {},
   "outputs": [],
   "source": [
    "#Storing the negative class probability values \n",
    "neg_class_prob_sorted = best_estimator.feature_log_prob_ [0, :].argsort() #note: argsort will return the indices\n",
    "\n",
    "#Storing the positive class probability values\n",
    "pos_class_prob_sorted = best_estimator.feature_log_prob_[1, :].argsort()"
   ]
  },
  {
   "cell_type": "code",
   "execution_count": 164,
   "metadata": {},
   "outputs": [
    {
     "name": "stdout",
     "output_type": "stream",
     "text": [
      "Top 10 important features for positive class:\n",
      "['product' 'tri' 'use' 'one' 'flavor' 'great' 'good' 'love' 'tast' 'like']\n",
      "**************************************************\n",
      "Top 10 important features for negative class:\n",
      "['get' 'buy' 'good' 'flavor' 'tri' 'would' 'one' 'product' 'like' 'tast']\n"
     ]
    }
   ],
   "source": [
    "print(\"Top 10 important features for positive class:\")\n",
    "#positve_important_words = np.take(count_vec.get_feature_names(), pos_class_prob_sorted)\n",
    "print(np.take(count_vec.get_feature_names(), pos_class_prob_sorted[-10:]))\n",
    "\n",
    "\n",
    "print(\"*\"*50)\n",
    "\n",
    "print(\"Top 10 important features for negative class:\")\n",
    "print(np.take(count_vec.get_feature_names(), neg_class_prob_sorted[-10:]))\n"
   ]
  },
  {
   "cell_type": "markdown",
   "metadata": {},
   "source": [
    "** Implementing Word Cloud:**"
   ]
  },
  {
   "cell_type": "code",
   "execution_count": 165,
   "metadata": {},
   "outputs": [],
   "source": [
    "# #Forming an Empty String\n",
    "\n",
    "# comment_words = ' '\n",
    "# for word in positve_important_words:\n",
    "#     comment_words = comment_words + word + ' '"
   ]
  },
  {
   "cell_type": "code",
   "execution_count": 166,
   "metadata": {},
   "outputs": [],
   "source": [
    "# plt.figure(figsize=(10,10))\n",
    "# wordcloud = WordCloud(background_color='white').generate(comment_words)\n",
    "# plt.imshow(wordcloud)\n",
    "# plt.axis('off')\n",
    "# plt.show()"
   ]
  },
  {
   "cell_type": "markdown",
   "metadata": {},
   "source": [
    "# BOW with Multinomial Naive Bayes:"
   ]
  },
  {
   "cell_type": "code",
   "execution_count": 167,
   "metadata": {},
   "outputs": [
    {
     "name": "stdout",
     "output_type": "stream",
     "text": [
      "Wall time: 8.93 s\n"
     ]
    }
   ],
   "source": [
    "\n",
    "%%time\n",
    "\n",
    "\n",
    "#BOW\n",
    "\n",
    "count_vect = CountVectorizer()\n",
    "bow_tr = count_vect.fit_transform(X_tr)"
   ]
  },
  {
   "cell_type": "code",
   "execution_count": 168,
   "metadata": {},
   "outputs": [
    {
     "name": "stdout",
     "output_type": "stream",
     "text": [
      "Wall time: 3.6 s\n"
     ]
    }
   ],
   "source": [
    "\n",
    "%%time\n",
    "\n",
    "#Vectorizing the test data\n",
    "bow_test = count_vect.transform(X_test)"
   ]
  },
  {
   "cell_type": "markdown",
   "metadata": {},
   "source": [
    "** 1. Grid Search Cross Validation:**"
   ]
  },
  {
   "cell_type": "code",
   "execution_count": 169,
   "metadata": {},
   "outputs": [
    {
     "name": "stdout",
     "output_type": "stream",
     "text": [
      "optimal Alpha: {'alpha': 0.5}\n",
      "Train accuracy: 89.4653490981272\n",
      "Wall time: 20.9 s\n"
     ]
    }
   ],
   "source": [
    "\n",
    "%%time\n",
    "\n",
    "#Multinomial Naive Bayes using grid Search Cross Validation for hyperparameter tuning.\n",
    "\n",
    "#Giving some set of parameters as input to grid search cross validation\n",
    "parameters = {'alpha':[10,5,1,0.5,0.1,0.05,0.01,0.005,0.001]}\n",
    "\n",
    "#splitting the data based on time of 10 folds\n",
    "tbs = TimeSeriesSplit(n_splits=10)\n",
    "\n",
    "MNB = MultinomialNB()\n",
    "gsv = GridSearchCV(MNB, parameters, scoring='accuracy', n_jobs=3, cv=tbs)\n",
    "\n",
    "#Training the model\n",
    "gsv.fit(bow_tr, y_tr)\n",
    "\n",
    "\n",
    "print(\"optimal Alpha:\",gsv.best_params_)\n",
    "print(\"Train accuracy:\",gsv.best_score_ * 100)"
   ]
  },
  {
   "cell_type": "code",
   "execution_count": 170,
   "metadata": {},
   "outputs": [
    {
     "data": {
      "text/plain": [
       "[mean: 0.85319, std: 0.01586, params: {'alpha': 10},\n",
       " mean: 0.86802, std: 0.01165, params: {'alpha': 5}]"
      ]
     },
     "execution_count": 170,
     "metadata": {},
     "output_type": "execute_result"
    }
   ],
   "source": [
    "#gsv.grid_scores_ will return paramters, mean validation scores and cross validation scores\n",
    "gsv.grid_scores_[:2]"
   ]
  },
  {
   "cell_type": "code",
   "execution_count": 171,
   "metadata": {},
   "outputs": [
    {
     "data": {
      "image/png": "[encoded data removed]",
      "text/plain": [
       "<Figure size 432x288 with 1 Axes>"
      ]
     },
     "metadata": {},
     "output_type": "display_data"
    }
   ],
   "source": [
    "#Storing alpha_values from the gsv.grid_scores_\n",
    "alpha = [val[0]['alpha'] for val in gsv.grid_scores_]\n",
    "#Storing cv_errors into an cv_error \n",
    "cv_error = [1-val[1] for val in gsv.grid_scores_]\n",
    "\n",
    "#Calling the function to plot between alpha_values and cv_errors\n",
    "alpha_cv_error(alpha, cv_error)"
   ]
  },
  {
   "cell_type": "markdown",
   "metadata": {},
   "source": [
    "** Testing the model using the best_estimator_ **"
   ]
  },
  {
   "cell_type": "code",
   "execution_count": 172,
   "metadata": {},
   "outputs": [
    {
     "data": {
      "text/plain": [
       "MultinomialNB(alpha=0.5, class_prior=None, fit_prior=True)"
      ]
     },
     "execution_count": 172,
     "metadata": {},
     "output_type": "execute_result"
    }
   ],
   "source": [
    "best_estimator = gsv.best_estimator_\n",
    "#Parameters of best_estimator\n",
    "best_estimator"
   ]
  },
  {
   "cell_type": "code",
   "execution_count": 173,
   "metadata": {},
   "outputs": [],
   "source": [
    "#predicting the y_labels from the test data\n",
    "y_pred = best_estimator.predict(bow_test)"
   ]
  },
  {
   "cell_type": "code",
   "execution_count": 174,
   "metadata": {},
   "outputs": [
    {
     "name": "stdout",
     "output_type": "stream",
     "text": [
      "Accuracy on test data: 89.5\n",
      "Precision on test data: 93.57\n",
      "Recall on test data: 93.71\n",
      "F1_score on test data: 93.64\n"
     ]
    },
    {
     "data": {
      "image/png": "[encoded data removed]",
      "text/plain": [
       "<Figure size 432x288 with 2 Axes>"
      ]
     },
     "metadata": {},
     "output_type": "display_data"
    }
   ],
   "source": [
    "#Calling function for the test metrics\n",
    "test_metrics(y_test, y_pred)"
   ]
  },
  {
   "cell_type": "markdown",
   "metadata": {},
   "source": [
    "** 2. Random Search Cross Validation:**"
   ]
  },
  {
   "cell_type": "code",
   "execution_count": 175,
   "metadata": {},
   "outputs": [
    {
     "name": "stdout",
     "output_type": "stream",
     "text": [
      "Optimal Alpha: {'alpha': 0.32}\n",
      "Best accuracy: 89.36653145766807\n",
      "Wall time: 22.2 s\n"
     ]
    }
   ],
   "source": [
    "\n",
    "%%time\n",
    "\n",
    "#Assigning the parameters\n",
    "x = np.arange(0,10,0.01)\n",
    "parameters = {'alpha': x}\n",
    "#Time based Cross Validation with the 10 splits\n",
    "tbs = TimeSeriesSplit(n_splits=10)\n",
    "\n",
    "MNB = MultinomialNB()\n",
    "\n",
    "#Bernouli Naive Bayes with the random Search\n",
    "rsv = RandomizedSearchCV(MNB, parameters, scoring='accuracy', n_jobs=3, cv=tbs)\n",
    "rsv.fit(bow_tr, y_tr)\n",
    "\n",
    "print(\"Optimal Alpha:\", rsv.best_params_)\n",
    "print(\"Best accuracy:\",rsv.best_score_*100)"
   ]
  },
  {
   "cell_type": "code",
   "execution_count": 176,
   "metadata": {},
   "outputs": [
    {
     "data": {
      "text/plain": [
       "[mean: 0.89367, std: 0.00696, params: {'alpha': 0.32},\n",
       " mean: 0.86012, std: 0.01321, params: {'alpha': 6.95}]"
      ]
     },
     "execution_count": 176,
     "metadata": {},
     "output_type": "execute_result"
    }
   ],
   "source": [
    "#rsv.grid_scores_ will return paramters, mean validation scores and cross validation scores\n",
    "rsv.grid_scores_[:2]"
   ]
  },
  {
   "cell_type": "code",
   "execution_count": 177,
   "metadata": {},
   "outputs": [
    {
     "data": {
      "text/plain": [
       "MultinomialNB(alpha=0.32, class_prior=None, fit_prior=True)"
      ]
     },
     "execution_count": 177,
     "metadata": {},
     "output_type": "execute_result"
    }
   ],
   "source": [
    "#Testing the using best_estimator\n",
    "best_estimator = rsv.best_estimator_\n",
    "\n",
    "#Parameters of best_estimator\n",
    "best_estimator"
   ]
  },
  {
   "cell_type": "code",
   "execution_count": 178,
   "metadata": {},
   "outputs": [],
   "source": [
    "#predicting the y_labels from the test data\n",
    "y_pred = best_estimator.predict(bow_test)"
   ]
  },
  {
   "cell_type": "code",
   "execution_count": 179,
   "metadata": {},
   "outputs": [
    {
     "name": "stdout",
     "output_type": "stream",
     "text": [
      "Accuracy on test data: 89.4\n",
      "Precision on test data: 93.73\n",
      "Recall on test data: 93.41\n",
      "F1_score on test data: 93.57\n"
     ]
    },
    {
     "data": {
      "image/png": "[encoded data removed]",
      "text/plain": [
       "<Figure size 432x288 with 2 Axes>"
      ]
     },
     "metadata": {},
     "output_type": "display_data"
    }
   ],
   "source": [
    "#Calling function for the test metrics\n",
    "test_metrics(y_test, y_pred)"
   ]
  },
  {
   "cell_type": "markdown",
   "metadata": {},
   "source": [
    "**Important features for positive class and negative class:**"
   ]
  },
  {
   "cell_type": "markdown",
   "metadata": {},
   "source": [
    "- __feature_log_prob_ __ will Returns the log-probability of the samples for each class in the model. The columns correspond to the classes in sorted order, as they appear in the attribute classes_."
   ]
  },
  {
   "cell_type": "code",
   "execution_count": 181,
   "metadata": {},
   "outputs": [],
   "source": [
    "#Storing the negative class probability values \n",
    "neg_class_prob_sorted = best_estimator.feature_log_prob_ [0, :].argsort() #note: argsort will return the indices\n",
    "\n",
    "#Storing the positive class probability values\n",
    "pos_class_prob_sorted = best_estimator.feature_log_prob_[1, :].argsort()"
   ]
  },
  {
   "cell_type": "code",
   "execution_count": 182,
   "metadata": {},
   "outputs": [
    {
     "name": "stdout",
     "output_type": "stream",
     "text": [
      "Top 10 important features for positive class:\n",
      "['tea' 'product' 'one' 'use' 'great' 'love' 'flavor' 'good' 'tast' 'like']\n",
      "**************************************************\n",
      "Top 10 important features for negative class:\n",
      "['use' 'coffe' 'good' 'tri' 'would' 'flavor' 'one' 'product' 'like' 'tast']\n"
     ]
    }
   ],
   "source": [
    "print(\"Top 10 important features for positive class:\")\n",
    "#positve_important_words = np.take(count_vec.get_feature_names(), pos_class_prob_sorted)\n",
    "print(np.take(count_vec.get_feature_names(), pos_class_prob_sorted[-10:]))\n",
    "\n",
    "\n",
    "print(\"*\"*50)\n",
    "\n",
    "print(\"Top 10 important features for negative class:\")\n",
    "print(np.take(count_vec.get_feature_names(), neg_class_prob_sorted[-10:]))\n"
   ]
  },
  {
   "cell_type": "markdown",
   "metadata": {},
   "source": [
    " "
   ]
  },
  {
   "cell_type": "markdown",
   "metadata": {},
   "source": [
    "# TFIDF: "
   ]
  },
  {
   "cell_type": "markdown",
   "metadata": {},
   "source": [
    "TF-IDF stands for term frequency-inverse document frequency. TF-IDF weight is a statistical measure used to evaluate how important a word is to a document in a collection or corpus. The importance increases proportionally to the number of times a word appears in the document but is offset by the frequency of the word in the corpus.\n",
    "\n",
    "Term_frequency(TF) = (number of times word occur in document) / (Total number of words in the document).\n",
    "\n",
    "Inverse_Document_freqency(IDF) = log((total number of documents) / In which documents a word occurs))\n",
    "\n",
    "                   So, TF-IDF(word) = TF(word) * IDF(word)"
   ]
  },
  {
   "cell_type": "code",
   "execution_count": 183,
   "metadata": {},
   "outputs": [],
   "source": [
    "#Vectorizing the data\n",
    "tfidf_vect = TfidfVectorizer(ngram_range=(1,2))\n",
    "tfidf_tr = tfidf_vect.fit_transform(X_tr)"
   ]
  },
  {
   "cell_type": "code",
   "execution_count": 184,
   "metadata": {},
   "outputs": [],
   "source": [
    "#Vectorizing the test data\n",
    "tfidf_test = tfidf_vect.transform(X_test)"
   ]
  },
  {
   "cell_type": "markdown",
   "metadata": {},
   "source": [
    "** 1. Grid Search Cross Validation:**"
   ]
  },
  {
   "cell_type": "code",
   "execution_count": 185,
   "metadata": {},
   "outputs": [
    {
     "name": "stdout",
     "output_type": "stream",
     "text": [
      "optimal Alpha: {'alpha': 0.01}\n",
      "Train accuracy: 88.46293259687582\n",
      "Wall time: 1min 1s\n"
     ]
    }
   ],
   "source": [
    "\n",
    "%%time\n",
    "\n",
    "#Multinomial Naive Bayes using grid Search Cross Validation for hyperparameter tuning.\n",
    "\n",
    "#Giving some set of parameters as input to grid search cross validation\n",
    "parameters = {'alpha':[10,5,1,0.5,0.1,0.05,0.01,0.005,0.001]}\n",
    "\n",
    "#splitting the data based on time of 10 folds\n",
    "tbs = TimeSeriesSplit(n_splits=10)\n",
    "\n",
    "MNB = MultinomialNB()\n",
    "gsv = GridSearchCV(MNB, parameters, scoring='accuracy', n_jobs=3, cv=tbs)\n",
    "\n",
    "#Training the model\n",
    "gsv.fit(tfidf_tr, y_tr)\n",
    "\n",
    "\n",
    "print(\"optimal Alpha:\",gsv.best_params_)\n",
    "print(\"Train accuracy:\",gsv.best_score_ * 100)"
   ]
  },
  {
   "cell_type": "code",
   "execution_count": 186,
   "metadata": {},
   "outputs": [
    {
     "data": {
      "text/plain": [
       "[mean: 0.84690, std: 0.02047, params: {'alpha': 10},\n",
       " mean: 0.84690, std: 0.02047, params: {'alpha': 5}]"
      ]
     },
     "execution_count": 186,
     "metadata": {},
     "output_type": "execute_result"
    }
   ],
   "source": [
    "#gsv.grid_scores_ will return paramters, mean validation scores and cross validation scores\n",
    "gsv.grid_scores_[:2]"
   ]
  },
  {
   "cell_type": "code",
   "execution_count": 187,
   "metadata": {},
   "outputs": [
    {
     "data": {
      "image/png": "[encoded data removed]",
      "text/plain": [
       "<Figure size 432x288 with 1 Axes>"
      ]
     },
     "metadata": {},
     "output_type": "display_data"
    }
   ],
   "source": [
    "#Storing alpha_values from the gsv.grid_scores_\n",
    "alpha = [val[0]['alpha'] for val in gsv.grid_scores_]\n",
    "#Storing cv_errors into an cv_error \n",
    "cv_error = [1-val[1] for val in gsv.grid_scores_]\n",
    "\n",
    "#Calling the function to plot between alpha_values and cv_errors\n",
    "alpha_cv_error(alpha, cv_error)"
   ]
  },
  {
   "cell_type": "markdown",
   "metadata": {},
   "source": [
    "** Testing the model using the best_estimator_ **"
   ]
  },
  {
   "cell_type": "code",
   "execution_count": 188,
   "metadata": {},
   "outputs": [
    {
     "data": {
      "text/plain": [
       "MultinomialNB(alpha=0.01, class_prior=None, fit_prior=True)"
      ]
     },
     "execution_count": 188,
     "metadata": {},
     "output_type": "execute_result"
    }
   ],
   "source": [
    "best_estimator = gsv.best_estimator_\n",
    "#Parameters of best_estimator\n",
    "best_estimator"
   ]
  },
  {
   "cell_type": "code",
   "execution_count": 189,
   "metadata": {},
   "outputs": [],
   "source": [
    "#predicting the y_labels from the test data\n",
    "y_pred = best_estimator.predict(tfidf_test)"
   ]
  },
  {
   "cell_type": "code",
   "execution_count": 190,
   "metadata": {},
   "outputs": [
    {
     "name": "stdout",
     "output_type": "stream",
     "text": [
      "Accuracy on test data: 89.15\n",
      "Precision on test data: 89.14\n",
      "Recall on test data: 98.91\n",
      "F1_score on test data: 93.77\n"
     ]
    },
    {
     "data": {
      "image/png": "[encoded data removed]",
      "text/plain": [
       "<Figure size 432x288 with 2 Axes>"
      ]
     },
     "metadata": {},
     "output_type": "display_data"
    }
   ],
   "source": [
    "#Calling function for the test metrics\n",
    "test_metrics(y_test, y_pred)"
   ]
  },
  {
   "cell_type": "markdown",
   "metadata": {},
   "source": [
    "** 2. Random Search Algorithm:**"
   ]
  },
  {
   "cell_type": "code",
   "execution_count": 191,
   "metadata": {},
   "outputs": [
    {
     "name": "stdout",
     "output_type": "stream",
     "text": [
      "Optimal Alpha: {'alpha': 0.17}\n",
      "Best accuracy: 85.61577630102701\n",
      "Wall time: 1min 7s\n"
     ]
    }
   ],
   "source": [
    "\n",
    "%%time\n",
    "\n",
    "#Assigning the parameters\n",
    "x = np.arange(0,10,0.01)\n",
    "parameters = {'alpha': x}\n",
    "#Time based Cross Validation with the 10 splits\n",
    "tbs = TimeSeriesSplit(n_splits=10)\n",
    "\n",
    "MNB = MultinomialNB()\n",
    "\n",
    "#Bernouli Naive Bayes with the random Search\n",
    "rsv = RandomizedSearchCV(MNB, parameters, scoring='accuracy', n_jobs=3, cv=tbs)\n",
    "rsv.fit(tfidf_tr, y_tr)\n",
    "\n",
    "print(\"Optimal Alpha:\", rsv.best_params_)\n",
    "print(\"Best accuracy:\",rsv.best_score_*100)"
   ]
  },
  {
   "cell_type": "code",
   "execution_count": 192,
   "metadata": {},
   "outputs": [
    {
     "data": {
      "text/plain": [
       "[mean: 0.84690, std: 0.02047, params: {'alpha': 2.42},\n",
       " mean: 0.84690, std: 0.02047, params: {'alpha': 7.54}]"
      ]
     },
     "execution_count": 192,
     "metadata": {},
     "output_type": "execute_result"
    }
   ],
   "source": [
    "#rsv.grid_scores_ will return paramters, mean validation scores and cross validation scores\n",
    "rsv.grid_scores_[:2]"
   ]
  },
  {
   "cell_type": "code",
   "execution_count": 193,
   "metadata": {},
   "outputs": [
    {
     "data": {
      "text/plain": [
       "MultinomialNB(alpha=0.17, class_prior=None, fit_prior=True)"
      ]
     },
     "execution_count": 193,
     "metadata": {},
     "output_type": "execute_result"
    }
   ],
   "source": [
    "#Testing the using best_estimator\n",
    "best_estimator = rsv.best_estimator_\n",
    "\n",
    "#Parameters of best_estimator\n",
    "best_estimator"
   ]
  },
  {
   "cell_type": "code",
   "execution_count": 194,
   "metadata": {},
   "outputs": [],
   "source": [
    "#predicting the y_labels from the test data\n",
    "y_pred = best_estimator.predict(tfidf_test)"
   ]
  },
  {
   "cell_type": "code",
   "execution_count": 195,
   "metadata": {},
   "outputs": [
    {
     "name": "stdout",
     "output_type": "stream",
     "text": [
      "Accuracy on test data: 84.28\n",
      "Precision on test data: 84.02\n",
      "Recall on test data: 99.96\n",
      "F1_score on test data: 91.3\n"
     ]
    },
    {
     "data": {
      "image/png": "[encoded data removed]",
      "text/plain": [
       "<Figure size 432x288 with 2 Axes>"
      ]
     },
     "metadata": {},
     "output_type": "display_data"
    }
   ],
   "source": [
    "#Calling function for the test metrics\n",
    "test_metrics(y_test, y_pred)"
   ]
  },
  {
   "cell_type": "markdown",
   "metadata": {},
   "source": [
    "**Important features for positive class and negative class:**"
   ]
  },
  {
   "cell_type": "markdown",
   "metadata": {},
   "source": [
    "- __feature_log_prob_ __ will Returns the log-probability of the samples for each class in the model. The columns correspond to the classes in sorted order, as they appear in the attribute classes_."
   ]
  },
  {
   "cell_type": "code",
   "execution_count": 196,
   "metadata": {},
   "outputs": [],
   "source": [
    "#Storing the negative class probability values \n",
    "neg_class_prob_sorted = best_estimator.feature_log_prob_ [0, :].argsort() #note: argsort will return the indices\n",
    "\n",
    "#Storing the positive class probability values\n",
    "pos_class_prob_sorted = best_estimator.feature_log_prob_[1, :].argsort()"
   ]
  },
  {
   "cell_type": "code",
   "execution_count": 198,
   "metadata": {},
   "outputs": [
    {
     "name": "stdout",
     "output_type": "stream",
     "text": [
      "Top 10 important features for positive class:\n",
      "['product' 'use' 'coffe' 'flavor' 'good' 'like' 'tea' 'tast' 'love'\n",
      " 'great']\n",
      "**************************************************\n",
      "Top 10 important features for negative class:\n",
      "['order' 'buy' 'tri' 'one' 'coffe' 'flavor' 'would' 'product' 'like'\n",
      " 'tast']\n"
     ]
    }
   ],
   "source": [
    "print(\"Top 10 important features for positive class:\")\n",
    "#positve_important_words = np.take(count_vec.get_feature_names(), pos_class_prob_sorted)\n",
    "print(np.take(tfidf_vect.get_feature_names(), pos_class_prob_sorted[-10:]))\n",
    "\n",
    "\n",
    "print(\"*\"*50)\n",
    "\n",
    "print(\"Top 10 important features for negative class:\")\n",
    "print(np.take(tfidf_vect.get_feature_names(), neg_class_prob_sorted[-10:]))\n"
   ]
  },
  {
   "cell_type": "markdown",
   "metadata": {},
   "source": [
    "# Summary: "
   ]
  },
  {
   "cell_type": "markdown",
   "metadata": {},
   "source": [
    "**Naive Bayes Algorithm with different Cross Validation techniques:**\n",
    "\n",
    "\n",
    "|               |sample size|Optimal_alpha|Grid Search CV  |             |op_alpha|    Random Search CV | \n",
    "|---------------|-----------|-------------|----------------|-------------|--------|---------------------|\n",
    "|               |           |             |Train accuracy  |Test accuracy|        |Tain accuracy  |Test accuracy\n",
    "|Binary BOW     |364k       |0.01         |88.35%          |88.31%       |0.58    |87.66%         |87.96%       \n",
    "|Multinomail BOW|364k       |0.5          |89.46%          |89.50%       |0.32    |89.36%         |89.40%      \n",
    "|TF-IDF         |364k       |0.01         |88.46%          |89.15%       |0.17    |85.61%         |84.28%\n",
    "\n",
    "**Observation:**\n",
    "               By comparing with above table, we can conclude that Muntinomail Naive Bayes with BOW is working                  good as compared to other algorithm."
   ]
  }
 ],
 "metadata": {
  "kernelspec": {
   "display_name": "Python 3",
   "language": "python",
   "name": "python3"
  },
  "language_info": {
   "codemirror_mode": {
    "name": "ipython",
    "version": 3
   },
   "file_extension": ".py",
   "mimetype": "text/x-python",
   "name": "python",
   "nbconvert_exporter": "python",
   "pygments_lexer": "ipython3",
   "version": "3.6.5"
  }
 },
 "nbformat": 4,
 "nbformat_minor": 2
}
