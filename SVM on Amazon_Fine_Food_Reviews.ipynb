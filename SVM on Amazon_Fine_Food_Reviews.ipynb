{
 "cells": [
  {
   "cell_type": "markdown",
   "metadata": {},
   "source": [
    "# Assignment 7 : SVM"
   ]
  },
  {
   "cell_type": "markdown",
   "metadata": {},
   "source": [
    "- SVM means support vector machines are supervised machine learning models with asssociated learning algorithms that  \n",
    "  analyze data used for classification and regression analysis. \n",
    "- An SVM constrcts a hyperplane or set of hyperplanes in high dimensional space.\n",
    "- Intuitively a good separatoin achieved by the hyperplane that ahs the largest distance to the nearest training point of  \n",
    "  of any class.\n",
    "- SVM is an maximizing the marrgin, which means they find the hyperplane that has the largest perpendicular distance between the hyperplane and the closest samples on either side.  The closest samples on either side are the support vectors.\n",
    "- Hard margin svm does not allow errors, but soft margin svm will errors.\n",
    "- In svm regularization term is maximizing the margin and loss term is an Average distance of misclassified points from the correct hyperplane.\n",
    "- Loss in svm is hinge_loss which means 0-1 loss.\n",
    "- Linear svm and logistic regression should find the hyperplane in the space of xi's.\n",
    "- Logistic regression along with feature transformation will also find the hyperplane in an transformed way.\n",
    "- In logistic regression we did feature transform explicitly but in kernel SVM using kernel trick did feature transform \n",
    "  eplicitly.\n",
    "- RBF(Radial Basis Function) kernel is an general purpose kernel,RBF kernel consisting of two hyperparameters.\n",
    "- Cases:\n",
    "\n",
    "          1. Feature transfrom and feature engineering can be done by kernel design, which means this can be internally.\n",
    "          2. Decision Surface: In linear svm decision surface is hyperplane and kernel svm can converts non linear surface \n",
    "             to linear surface using kernel design and finds the hyperplane in linear surface, here dimensions are high.\n",
    "          3. outliers are not very much impacted by svm.\n",
    "          4. In RBF SVM consisting of two hyperparameters are C and alpha, if C is large then leads to overfit and if C is \n",
    "             small then leads to underfit.\n",
    "          5. If large dimension then SVM will work good.\n",
    "          6. training time is very large, if number of datapoints are large."
   ]
  },
  {
   "cell_type": "code",
   "execution_count": 4,
   "metadata": {},
   "outputs": [],
   "source": [
    "#To ignore the warnings\n",
    "import warnings\n",
    "warnings.filterwarnings('ignore')"
   ]
  },
  {
   "cell_type": "code",
   "execution_count": 2,
   "metadata": {},
   "outputs": [],
   "source": [
    "import pickle \n",
    "def savetofile(obj,filename):\n",
    "    pickle.dump(obj,open(filename,\"wb\"))\n",
    "    \n",
    "def openfromfile(filename):\n",
    "    temp=pickle.load(open(filename,\"rb\"))\n",
    "    return temp"
   ]
  },
  {
   "cell_type": "code",
   "execution_count": 5,
   "metadata": {},
   "outputs": [],
   "source": [
    "#Loading the libraries\n",
    "import pandas as pd\n",
    "import numpy as np\n",
    "import matplotlib.pyplot as plt\n",
    "import seaborn as sns\n",
    "\n",
    "from sklearn.model_selection import train_test_split\n",
    "from sklearn.feature_extraction.text import CountVectorizer\n",
    "from sklearn import preprocessing\n",
    "\n",
    "\n",
    "from sklearn.model_selection import TimeSeriesSplit\n",
    "from sklearn.model_selection import GridSearchCV\n",
    "from sklearn.svm import SVC\n",
    "\n",
    "from sklearn.metrics import confusion_matrix\n",
    "from sklearn.metrics import accuracy_score\n",
    "from sklearn.metrics import recall_score\n",
    "from sklearn.metrics import precision_score\n",
    "from sklearn.metrics import f1_score\n",
    "\n",
    "from sklearn.svm import LinearSVC\n",
    "from sklearn.model_selection import RandomizedSearchCV\n",
    "from sklearn.feature_extraction.text import TfidfVectorizer\n",
    "import gensim"
   ]
  },
  {
   "cell_type": "code",
   "execution_count": 6,
   "metadata": {},
   "outputs": [],
   "source": [
    "#Loading the dataset which is an preprocessed data can be done.\n",
    "data_frame = openfromfile(\"New_Amazon_preprocess_data\")"
   ]
  },
  {
   "cell_type": "code",
   "execution_count": 7,
   "metadata": {},
   "outputs": [
    {
     "name": "stdout",
     "output_type": "stream",
     "text": [
      "Shape of data_frame: (364171, 11)\n"
     ]
    },
    {
     "data": {
      "text/html": [
       "<div>\n",
       "<style scoped>\n",
       "    .dataframe tbody tr th:only-of-type {\n",
       "        vertical-align: middle;\n",
       "    }\n",
       "\n",
       "    .dataframe tbody tr th {\n",
       "        vertical-align: top;\n",
       "    }\n",
       "\n",
       "    .dataframe thead th {\n",
       "        text-align: right;\n",
       "    }\n",
       "</style>\n",
       "<table border=\"1\" class=\"dataframe\">\n",
       "  <thead>\n",
       "    <tr style=\"text-align: right;\">\n",
       "      <th></th>\n",
       "      <th>Id</th>\n",
       "      <th>ProductId</th>\n",
       "      <th>UserId</th>\n",
       "      <th>ProfileName</th>\n",
       "      <th>HelpfulnessNumerator</th>\n",
       "      <th>HelpfulnessDenominator</th>\n",
       "      <th>Score</th>\n",
       "      <th>Time</th>\n",
       "      <th>Summary</th>\n",
       "      <th>Text</th>\n",
       "      <th>CleanedText</th>\n",
       "    </tr>\n",
       "  </thead>\n",
       "  <tbody>\n",
       "    <tr>\n",
       "      <th>515425</th>\n",
       "      <td>515426</td>\n",
       "      <td>141278509X</td>\n",
       "      <td>AB1A5EGHHVA9M</td>\n",
       "      <td>CHelmic</td>\n",
       "      <td>1</td>\n",
       "      <td>1</td>\n",
       "      <td>positive</td>\n",
       "      <td>1332547200</td>\n",
       "      <td>The best drink mix</td>\n",
       "      <td>This product by Archer Farms is the best drink...</td>\n",
       "      <td>product archer farm best drink mix ever mix fl...</td>\n",
       "    </tr>\n",
       "    <tr>\n",
       "      <th>24750</th>\n",
       "      <td>24751</td>\n",
       "      <td>2734888454</td>\n",
       "      <td>A1C298ITT645B6</td>\n",
       "      <td>Hugh G. Pritchard</td>\n",
       "      <td>0</td>\n",
       "      <td>0</td>\n",
       "      <td>positive</td>\n",
       "      <td>1195948800</td>\n",
       "      <td>Dog Lover Delites</td>\n",
       "      <td>Our dogs just love them.  I saw them in a pet ...</td>\n",
       "      <td>dog love saw pet store tag attach regard made ...</td>\n",
       "    </tr>\n",
       "    <tr>\n",
       "      <th>24749</th>\n",
       "      <td>24750</td>\n",
       "      <td>2734888454</td>\n",
       "      <td>A13ISQV0U9GZIC</td>\n",
       "      <td>Sandikaye</td>\n",
       "      <td>1</td>\n",
       "      <td>1</td>\n",
       "      <td>negative</td>\n",
       "      <td>1192060800</td>\n",
       "      <td>made in china</td>\n",
       "      <td>My dogs loves this chicken but its a product f...</td>\n",
       "      <td>dog love chicken product china wont buy anymor...</td>\n",
       "    </tr>\n",
       "    <tr>\n",
       "      <th>308076</th>\n",
       "      <td>308077</td>\n",
       "      <td>2841233731</td>\n",
       "      <td>A3QD68O22M2XHQ</td>\n",
       "      <td>LABRNTH</td>\n",
       "      <td>0</td>\n",
       "      <td>0</td>\n",
       "      <td>positive</td>\n",
       "      <td>1345852800</td>\n",
       "      <td>Great recipe book for my babycook</td>\n",
       "      <td>This book is easy to read and the ingredients ...</td>\n",
       "      <td>book easi read ingredi avail store unlik recip...</td>\n",
       "    </tr>\n",
       "    <tr>\n",
       "      <th>150523</th>\n",
       "      <td>150524</td>\n",
       "      <td>6641040</td>\n",
       "      <td>ACITT7DI6IDDL</td>\n",
       "      <td>shari zychinski</td>\n",
       "      <td>0</td>\n",
       "      <td>0</td>\n",
       "      <td>positive</td>\n",
       "      <td>939340800</td>\n",
       "      <td>EVERY book is educational</td>\n",
       "      <td>this witty little book makes my son laugh at l...</td>\n",
       "      <td>witti littl book make son laugh loud recit car...</td>\n",
       "    </tr>\n",
       "  </tbody>\n",
       "</table>\n",
       "</div>"
      ],
      "text/plain": [
       "            Id   ProductId          UserId        ProfileName  \\\n",
       "515425  515426  141278509X   AB1A5EGHHVA9M            CHelmic   \n",
       "24750    24751  2734888454  A1C298ITT645B6  Hugh G. Pritchard   \n",
       "24749    24750  2734888454  A13ISQV0U9GZIC          Sandikaye   \n",
       "308076  308077  2841233731  A3QD68O22M2XHQ            LABRNTH   \n",
       "150523  150524     6641040   ACITT7DI6IDDL    shari zychinski   \n",
       "\n",
       "        HelpfulnessNumerator  HelpfulnessDenominator     Score        Time  \\\n",
       "515425                     1                       1  positive  1332547200   \n",
       "24750                      0                       0  positive  1195948800   \n",
       "24749                      1                       1  negative  1192060800   \n",
       "308076                     0                       0  positive  1345852800   \n",
       "150523                     0                       0  positive   939340800   \n",
       "\n",
       "                                  Summary  \\\n",
       "515425                 The best drink mix   \n",
       "24750                   Dog Lover Delites   \n",
       "24749                       made in china   \n",
       "308076  Great recipe book for my babycook   \n",
       "150523          EVERY book is educational   \n",
       "\n",
       "                                                     Text  \\\n",
       "515425  This product by Archer Farms is the best drink...   \n",
       "24750   Our dogs just love them.  I saw them in a pet ...   \n",
       "24749   My dogs loves this chicken but its a product f...   \n",
       "308076  This book is easy to read and the ingredients ...   \n",
       "150523  this witty little book makes my son laugh at l...   \n",
       "\n",
       "                                              CleanedText  \n",
       "515425  product archer farm best drink mix ever mix fl...  \n",
       "24750   dog love saw pet store tag attach regard made ...  \n",
       "24749   dog love chicken product china wont buy anymor...  \n",
       "308076  book easi read ingredi avail store unlik recip...  \n",
       "150523  witti littl book make son laugh loud recit car...  "
      ]
     },
     "execution_count": 7,
     "metadata": {},
     "output_type": "execute_result"
    }
   ],
   "source": [
    "#Shape of data\n",
    "print(\"Shape of data_frame:\", data_frame.shape)\n",
    "\n",
    "#First five rows of the data_frame\n",
    "data_frame.head()"
   ]
  },
  {
   "cell_type": "code",
   "execution_count": 8,
   "metadata": {},
   "outputs": [],
   "source": [
    "#Storing the data_frame based on the time attribute\n",
    "data_frame.sort_values('Time', inplace=True)\n",
    "\n",
    "#Reseting the data_frame\n",
    "data_frame.reset_index(drop=False, inplace=True)"
   ]
  },
  {
   "cell_type": "code",
   "execution_count": 9,
   "metadata": {},
   "outputs": [],
   "source": [
    "#In the Score attribute consisting of two categories changing positive to 1 and negative to 0\n",
    "data_frame.Score = [1 if(score == 'positive') else 0 for score in data_frame.Score]"
   ]
  },
  {
   "cell_type": "code",
   "execution_count": 10,
   "metadata": {},
   "outputs": [
    {
     "data": {
      "image/png": "[encoded data removed]",
      "text/plain": [
       "<Figure size 432x288 with 1 Axes>"
      ]
     },
     "metadata": {},
     "output_type": "display_data"
    },
    {
     "data": {
      "text/plain": [
       "1    307061\n",
       "0     57110\n",
       "Name: Score, dtype: int64"
      ]
     },
     "execution_count": 10,
     "metadata": {},
     "output_type": "execute_result"
    }
   ],
   "source": [
    "#Count plot for score attribute \n",
    "sns.countplot(x=data_frame.Score, data=data_frame)\n",
    "plt.show()\n",
    "data_frame.Score.value_counts()"
   ]
  },
  {
   "cell_type": "code",
   "execution_count": 13,
   "metadata": {},
   "outputs": [],
   "source": [
    "#Taking the top 50k datapoints from the dataset\n",
    "df_50k = data_frame[0:50000]"
   ]
  },
  {
   "cell_type": "code",
   "execution_count": 14,
   "metadata": {},
   "outputs": [],
   "source": [
    "#Storing the cleanedtext attribute into X and Score attribute into the y\n",
    "X = df_50k.CleanedText\n",
    "\n",
    "y = df_50k.Score"
   ]
  },
  {
   "cell_type": "code",
   "execution_count": 15,
   "metadata": {},
   "outputs": [],
   "source": [
    "#Splitting the data into train as 70% and test as 30%\n",
    "X_tr, X_test, y_tr, y_test = train_test_split(X, y, test_size=0.3, shuffle=False)"
   ]
  },
  {
   "cell_type": "code",
   "execution_count": 16,
   "metadata": {},
   "outputs": [
    {
     "name": "stdout",
     "output_type": "stream",
     "text": [
      "Shape of the train data: (35000,)\n",
      "Shape of the test data: (15000,)\n"
     ]
    }
   ],
   "source": [
    "#shape of train and test data\n",
    "print(\"Shape of the train data:\", X_tr.shape)\n",
    "\n",
    "print(\"Shape of the test data:\", X_test.shape)"
   ]
  },
  {
   "cell_type": "markdown",
   "metadata": {},
   "source": [
    "# BOW:"
   ]
  },
  {
   "cell_type": "markdown",
   "metadata": {},
   "source": [
    " which means makes a vector for each review of length unique words from the whole dataset and makes frequency count of word.\n",
    " \n",
    "- Bow or Bag of Words which means way of extracting features from text for use in modeling.\n",
    "- A bag-of-words is a representation of text that describes the occurrence of words within a document. \n",
    "   \n",
    "   It involves two things:\n",
    "                1.vocabulary of known words.\n",
    "                2.Measure of the presence of known words.\n",
    "-  It is called a “bag” of words, because any information about the order or structure of words in the document is              discarded. The model is only concerned with whether known words occur in the document, not where in the document."
   ]
  },
  {
   "cell_type": "code",
   "execution_count": 17,
   "metadata": {},
   "outputs": [
    {
     "name": "stdout",
     "output_type": "stream",
     "text": [
      "Wall time: 1.22 s\n"
     ]
    }
   ],
   "source": [
    "\n",
    "%%time\n",
    "\n",
    "count_vec = CountVectorizer()\n",
    "#Making the fit_transform for train data\n",
    "bow_tr = count_vec.fit_transform(X_tr)"
   ]
  },
  {
   "cell_type": "code",
   "execution_count": 18,
   "metadata": {},
   "outputs": [],
   "source": [
    "#Transform for test data\n",
    "bow_test = count_vec.transform(X_test)"
   ]
  },
  {
   "cell_type": "code",
   "execution_count": 19,
   "metadata": {},
   "outputs": [],
   "source": [
    "#Nomalizing the train and test data\n",
    "bow_tr = preprocessing.normalize(bow_tr)\n",
    "bow_test = preprocessing.normalize(bow_test)"
   ]
  },
  {
   "cell_type": "code",
   "execution_count": 20,
   "metadata": {},
   "outputs": [
    {
     "name": "stdout",
     "output_type": "stream",
     "text": [
      "shape of train data: (35000, 26059)\n",
      "shape of test data: (15000, 26059)\n"
     ]
    }
   ],
   "source": [
    "#Shape of train and test data after the bag of words\n",
    "print(\"shape of train data:\", bow_tr.shape)\n",
    "print(\"shape of test data:\", bow_test.shape)"
   ]
  },
  {
   "cell_type": "markdown",
   "metadata": {},
   "source": [
    "### 1. Hyperparameter tuning using grid seach and random search cross validation:"
   ]
  },
  {
   "cell_type": "markdown",
   "metadata": {},
   "source": [
    "**  Grid Search Cross Validation:**\n",
    "\n",
    "- working through multiple combinations of parameter tunes, cross validate each and determine                                  which one gives the best performance.      \n",
    "    \n",
    "- Note: In grid search, if you choosen n paramters then we will have to check 2^n combinations."
   ]
  },
  {
   "cell_type": "markdown",
   "metadata": {},
   "source": [
    "![title](grid search cross validation.png)"
   ]
  },
  {
   "cell_type": "markdown",
   "metadata": {},
   "source": [
    "** Time based splitting:** \n",
    "\n",
    "- Provides train/test indices to split time series data samples that are observed at fixed time                                 intervals, in train/test sets.In each split, test indices must be higher than before, and thus shuffling in cross\n",
    "  validator is inappropriate."
   ]
  },
  {
   "cell_type": "markdown",
   "metadata": {},
   "source": [
    "![title](time series split.png)"
   ]
  },
  {
   "cell_type": "markdown",
   "metadata": {},
   "source": [
    "** Grid Search Cross Validation:**"
   ]
  },
  {
   "cell_type": "markdown",
   "metadata": {},
   "source": [
    "** Linear SVM with hinge loss:** The hinge loss term ∑max(0,1−yi(w⊺xi+b)) in soft margin SVM penalizes misclassifications. \n",
    "\n",
    "- Linear svm will work well if the dataset is linearly separable, if data isn't linearly separable then not work well.\n",
    "- It consist of only one hyperparameter, training is less as compared to the RBF kernel."
   ]
  },
  {
   "cell_type": "code",
   "execution_count": 21,
   "metadata": {},
   "outputs": [],
   "source": [
    "def grid_search(X_train, y_train):  \n",
    "    parameters = {'C':[0.03125, 0.125, 0.5, 1, 2, 8, 16]}\n",
    "\n",
    "    #splitting the data based on the time series\n",
    "    tbs = TimeSeriesSplit(n_splits=3)\n",
    "\n",
    "    clf = LinearSVC()\n",
    "\n",
    "    #Grid Search Cross Validation using logistic regression\n",
    "    gsv = GridSearchCV(clf, parameters,n_jobs=3, cv=tbs, verbose=3)\n",
    "    gsv.fit(X_train, y_train)\n",
    "\n",
    "    #Best hyperparameter value\n",
    "    print(\"optimal hyperparameter:\", gsv.best_params_)\n",
    "    print(\"Best Accuracy:\", gsv.best_score_ * 100)\n",
    "    \n",
    "    return gsv.grid_scores_, gsv.best_estimator_"
   ]
  },
  {
   "cell_type": "code",
   "execution_count": 22,
   "metadata": {},
   "outputs": [
    {
     "name": "stdout",
     "output_type": "stream",
     "text": [
      "Fitting 3 folds for each of 7 candidates, totalling 21 fits\n"
     ]
    },
    {
     "name": "stderr",
     "output_type": "stream",
     "text": [
      "[Parallel(n_jobs=3)]: Done  21 out of  21 | elapsed:    4.2s finished\n"
     ]
    },
    {
     "name": "stdout",
     "output_type": "stream",
     "text": [
      "optimal hyperparameter: {'C': 1}\n",
      "Best Accuracy: 92.66285714285715\n",
      "Wall time: 4.69 s\n"
     ]
    }
   ],
   "source": [
    "\n",
    "%%time\n",
    "\n",
    "#Calling the function for Grid Search Cross Validation\n",
    "grid_scores, best_estimator = grid_search(bow_tr, y_tr)"
   ]
  },
  {
   "cell_type": "code",
   "execution_count": 23,
   "metadata": {},
   "outputs": [
    {
     "data": {
      "text/plain": [
       "[mean: 0.90019, std: 0.00583, params: {'C': 0.03125},\n",
       " mean: 0.91768, std: 0.00504, params: {'C': 0.125}]"
      ]
     },
     "execution_count": 23,
     "metadata": {},
     "output_type": "execute_result"
    }
   ],
   "source": [
    "grid_scores[:2]"
   ]
  },
  {
   "cell_type": "code",
   "execution_count": 24,
   "metadata": {},
   "outputs": [
    {
     "data": {
      "text/plain": [
       "LinearSVC(C=1, class_weight=None, dual=True, fit_intercept=True,\n",
       "     intercept_scaling=1, loss='squared_hinge', max_iter=1000,\n",
       "     multi_class='ovr', penalty='l2', random_state=None, tol=0.0001,\n",
       "     verbose=0)"
      ]
     },
     "execution_count": 24,
     "metadata": {},
     "output_type": "execute_result"
    }
   ],
   "source": [
    "#Result showing the best classifier consisting of parameters\n",
    "best_estimator"
   ]
  },
  {
   "cell_type": "code",
   "execution_count": 25,
   "metadata": {},
   "outputs": [],
   "source": [
    "#Finding the predicted values for test labels using the test data\n",
    "y_pred = best_estimator.predict(bow_test)"
   ]
  },
  {
   "cell_type": "code",
   "execution_count": 29,
   "metadata": {},
   "outputs": [],
   "source": [
    "#Function for calculating the metrics\n",
    "def test_metrics(y_test, y_pred):\n",
    "    cm = pd.DataFrame(confusion_matrix(y_test,y_pred),range(2),range(2))\n",
    "    sns.set(font_scale=1.5)\n",
    "    sns.heatmap(cm,annot=True,annot_kws={\"size\": 20}, fmt='g', vmin=0, vmax=15000)\n",
    "\n",
    "    print(\"Accuracy on test data:\", round(accuracy_score(y_test, y_pred) * 100 , 2))\n",
    "    print(\"Precision on test data:\", round(precision_score(y_test, y_pred) * 100 , 2))\n",
    "    print(\"Recall on test data:\", round(recall_score(y_test, y_pred) * 100 , 2))\n",
    "    print(\"F1_score on test data:\", round(f1_score(y_test, y_pred) * 100,2))\n",
    "\n",
    "    plt.show()"
   ]
  },
  {
   "cell_type": "code",
   "execution_count": 30,
   "metadata": {},
   "outputs": [
    {
     "name": "stdout",
     "output_type": "stream",
     "text": [
      "Accuracy on test data: 92.52\n",
      "Precision on test data: 93.73\n",
      "Recall on test data: 98.08\n",
      "F1_score on test data: 95.85\n"
     ]
    },
    {
     "data": {
      "image/png": "[encoded data removed]",
      "text/plain": [
       "<Figure size 432x288 with 2 Axes>"
      ]
     },
     "metadata": {},
     "output_type": "display_data"
    }
   ],
   "source": [
    "#Calling the function for test metrics\n",
    "test_metrics(y_test, y_pred)"
   ]
  },
  {
   "cell_type": "markdown",
   "metadata": {},
   "source": [
    "** Random Search cross validation:** \n",
    "- implements a randomized search over parameters, where each setting is sampled from a distribution over possible parameter values. \n",
    "\n",
    "\n",
    "\n",
    "- This has two main benefits over an exhaustive search:\n",
    "    1. A budget can be chosen independent of the number of parameters and possible values\n",
    "    2. Adding parameters that do not influence the performance does not decrease efficiency.\n",
    "   \n",
    "\n",
    "\n",
    "\n",
    "- Note: In random search, if you choosen n paramters then we will have to check n combinations."
   ]
  },
  {
   "cell_type": "markdown",
   "metadata": {},
   "source": [
    "![title](random search cross validation.png)"
   ]
  },
  {
   "cell_type": "code",
   "execution_count": 31,
   "metadata": {},
   "outputs": [],
   "source": [
    "#Function for random Search Cross Validation\n",
    "\n",
    "def random_search(X_train, y_train):\n",
    "    #Assigning the values for hyperperameter and regularization as l1 and l2\n",
    "    parameters = {'C':np.arange(1, 10, 0.1)}\n",
    "    \n",
    "    #splitting the data based on the time series\n",
    "    tbs = TimeSeriesSplit(n_splits=3)\n",
    "\n",
    "    clf = LinearSVC()\n",
    "    #Random search for hyperparameter tuning\n",
    "    rsv = RandomizedSearchCV(clf, parameters, scoring='accuracy', n_jobs=3, cv=tbs, verbose=3)\n",
    "\n",
    "    rsv.fit(X_train, y_train)\n",
    "\n",
    "    print(\"optimal hyperparameter:\",rsv.best_params_)\n",
    "    print(\"Best accuracy:\",rsv.best_score_*100)\n",
    "    return rsv.best_estimator_"
   ]
  },
  {
   "cell_type": "code",
   "execution_count": 32,
   "metadata": {},
   "outputs": [
    {
     "name": "stdout",
     "output_type": "stream",
     "text": [
      "Fitting 3 folds for each of 10 candidates, totalling 30 fits\n"
     ]
    },
    {
     "name": "stderr",
     "output_type": "stream",
     "text": [
      "[Parallel(n_jobs=3)]: Done  30 out of  30 | elapsed:    5.9s finished\n"
     ]
    },
    {
     "name": "stdout",
     "output_type": "stream",
     "text": [
      "optimal hyperparameter: {'C': 2.4000000000000012}\n",
      "Best accuracy: 92.47238095238095\n",
      "Wall time: 6.53 s\n"
     ]
    }
   ],
   "source": [
    "\n",
    "%%time\n",
    "\n",
    "#Calling the function for random search cross validation\n",
    "best_estimator = random_search(bow_tr, y_tr)"
   ]
  },
  {
   "cell_type": "markdown",
   "metadata": {},
   "source": [
    "** Testing the model from best_estimator which can be return by the random search cross validation.**"
   ]
  },
  {
   "cell_type": "code",
   "execution_count": 33,
   "metadata": {},
   "outputs": [
    {
     "data": {
      "text/plain": [
       "LinearSVC(C=2.4000000000000012, class_weight=None, dual=True,\n",
       "     fit_intercept=True, intercept_scaling=1, loss='squared_hinge',\n",
       "     max_iter=1000, multi_class='ovr', penalty='l2', random_state=None,\n",
       "     tol=0.0001, verbose=0)"
      ]
     },
     "execution_count": 33,
     "metadata": {},
     "output_type": "execute_result"
    }
   ],
   "source": [
    "#Result showing the best classifier consisting of parameters\n",
    "best_estimator"
   ]
  },
  {
   "cell_type": "code",
   "execution_count": 34,
   "metadata": {},
   "outputs": [],
   "source": [
    "#Finding the predicted values for test labels using the test data\n",
    "y_pred = best_estimator.predict(bow_test)"
   ]
  },
  {
   "cell_type": "code",
   "execution_count": 35,
   "metadata": {},
   "outputs": [
    {
     "name": "stdout",
     "output_type": "stream",
     "text": [
      "Accuracy on test data: 92.45\n",
      "Precision on test data: 94.03\n",
      "Recall on test data: 97.63\n",
      "F1_score on test data: 95.8\n"
     ]
    },
    {
     "data": {
      "image/png": "[encoded data removed]",
      "text/plain": [
       "<Figure size 432x288 with 2 Axes>"
      ]
     },
     "metadata": {},
     "output_type": "display_data"
    }
   ],
   "source": [
    "#Calling the function for test metrics\n",
    "test_metrics(y_test, y_pred)"
   ]
  },
  {
   "cell_type": "markdown",
   "metadata": {},
   "source": [
    "### Top 10 important Features for positive and negative classes:"
   ]
  },
  {
   "cell_type": "code",
   "execution_count": 36,
   "metadata": {},
   "outputs": [
    {
     "data": {
      "text/plain": [
       "LinearSVC(C=2.4, class_weight=None, dual=True, fit_intercept=True,\n",
       "     intercept_scaling=1, loss='squared_hinge', max_iter=1000,\n",
       "     multi_class='ovr', penalty='l2', random_state=None, tol=0.0001,\n",
       "     verbose=0)"
      ]
     },
     "execution_count": 36,
     "metadata": {},
     "output_type": "execute_result"
    }
   ],
   "source": [
    "#Training the model with the optimal parameters\n",
    "clf =  LinearSVC(C=2.4)\n",
    "clf.fit(bow_tr, y_tr)"
   ]
  },
  {
   "cell_type": "code",
   "execution_count": 37,
   "metadata": {},
   "outputs": [
    {
     "name": "stdout",
     "output_type": "stream",
     "text": [
      "Top 10 positive important features: ['awesom', 'delici', 'best', 'perfect', 'beat', 'solv', 'hook', 'amaz', 'skeptic', 'addict']\n",
      "****************************************************************************************************\n",
      "Top 10 negative important features: ['worst', 'wors', 'horribl', 'terribl', 'unpleas', 'aw', 'bland', 'gross', 'fallen', 'inferior']\n"
     ]
    }
   ],
   "source": [
    "#Getting the feature names from the count_vec\n",
    "features = count_vec.get_feature_names()\n",
    "\n",
    "#Combining coefficient values with the corresponding features\n",
    "coefs_with_fea = sorted(zip(clf.coef_[0], features))\n",
    "\n",
    "print(\"Top 10 positive important features:\", [a[1] for a in coefs_with_fea[-10:]])\n",
    "print(\"*\"*100)\n",
    "print(\"Top 10 negative important features:\", [a[1] for a in coefs_with_fea[:10]])"
   ]
  },
  {
   "cell_type": "markdown",
   "metadata": {},
   "source": [
    "# TFIDF:"
   ]
  },
  {
   "cell_type": "markdown",
   "metadata": {},
   "source": [
    "TF-IDF stands for term frequency-inverse document frequency. TF-IDF weight is a statistical measure used to evaluate how important a word is to a document in a collection or corpus. The importance increases proportionally to the number of times a word appears in the document but is offset by the frequency of the word in the corpus.\n",
    "\n",
    "Term_frequency(TF) = (number of times word occur in document) / (Total number of words in the document).\n",
    "\n",
    "Inverse_Document_freqency(IDF) = log((total number of documents) / In which documents a word occurs))\n",
    "\n",
    "                   So, TF-IDF(word) = TF(word) * IDF(word)"
   ]
  },
  {
   "cell_type": "code",
   "execution_count": 38,
   "metadata": {},
   "outputs": [],
   "source": [
    "#Vectorizing the data\n",
    "tfidf_vect = TfidfVectorizer(ngram_range=(1,2))\n",
    "tfidf_tr = tfidf_vect.fit_transform(X_tr)"
   ]
  },
  {
   "cell_type": "code",
   "execution_count": 39,
   "metadata": {},
   "outputs": [],
   "source": [
    "#Vectorizing the test data\n",
    "tfidf_test = tfidf_vect.transform(X_test)"
   ]
  },
  {
   "cell_type": "code",
   "execution_count": 40,
   "metadata": {},
   "outputs": [],
   "source": [
    "#Nomalizing the train and test data\n",
    "tfidf_tr = preprocessing.normalize(tfidf_tr)\n",
    "tfidf_test = preprocessing.normalize(tfidf_test)"
   ]
  },
  {
   "cell_type": "code",
   "execution_count": 41,
   "metadata": {},
   "outputs": [
    {
     "name": "stdout",
     "output_type": "stream",
     "text": [
      "Shape of train data: (35000, 557454)\n",
      "Shape of test data: (15000, 557454)\n"
     ]
    }
   ],
   "source": [
    "#Shape of the train and test data\n",
    "print(\"Shape of train data:\", tfidf_tr.shape)\n",
    "print(\"Shape of test data:\", tfidf_test.shape)"
   ]
  },
  {
   "cell_type": "markdown",
   "metadata": {},
   "source": [
    "### Hyperparameter tuning using grid seach and random search cross validation:"
   ]
  },
  {
   "cell_type": "markdown",
   "metadata": {},
   "source": [
    "** Grid Search Cross Validation:**"
   ]
  },
  {
   "cell_type": "code",
   "execution_count": 42,
   "metadata": {},
   "outputs": [
    {
     "name": "stdout",
     "output_type": "stream",
     "text": [
      "Fitting 3 folds for each of 7 candidates, totalling 21 fits\n"
     ]
    },
    {
     "name": "stderr",
     "output_type": "stream",
     "text": [
      "[Parallel(n_jobs=3)]: Done  21 out of  21 | elapsed:    9.2s finished\n"
     ]
    },
    {
     "name": "stdout",
     "output_type": "stream",
     "text": [
      "optimal hyperparameter: {'C': 16}\n",
      "Best Accuracy: 92.71619047619048\n"
     ]
    }
   ],
   "source": [
    "#Calling the Grid search function\n",
    "grid_scores, best_estimator = grid_search(tfidf_tr, y_tr)"
   ]
  },
  {
   "cell_type": "code",
   "execution_count": 43,
   "metadata": {},
   "outputs": [
    {
     "data": {
      "text/plain": [
       "[mean: 0.89135, std: 0.00398, params: {'C': 0.03125},\n",
       " mean: 0.89950, std: 0.00549, params: {'C': 0.125}]"
      ]
     },
     "execution_count": 43,
     "metadata": {},
     "output_type": "execute_result"
    }
   ],
   "source": [
    "grid_scores[:2]"
   ]
  },
  {
   "cell_type": "code",
   "execution_count": 44,
   "metadata": {},
   "outputs": [
    {
     "data": {
      "text/plain": [
       "LinearSVC(C=16, class_weight=None, dual=True, fit_intercept=True,\n",
       "     intercept_scaling=1, loss='squared_hinge', max_iter=1000,\n",
       "     multi_class='ovr', penalty='l2', random_state=None, tol=0.0001,\n",
       "     verbose=0)"
      ]
     },
     "execution_count": 44,
     "metadata": {},
     "output_type": "execute_result"
    }
   ],
   "source": [
    "#Result showing the best classifier consisting of parameters\n",
    "best_estimator"
   ]
  },
  {
   "cell_type": "code",
   "execution_count": 45,
   "metadata": {},
   "outputs": [],
   "source": [
    "#Finding the predicted values for test labels using the test data\n",
    "y_pred = best_estimator.predict(tfidf_test)"
   ]
  },
  {
   "cell_type": "code",
   "execution_count": 46,
   "metadata": {},
   "outputs": [
    {
     "name": "stdout",
     "output_type": "stream",
     "text": [
      "Accuracy on test data: 92.91\n",
      "Precision on test data: 93.88\n",
      "Recall on test data: 98.36\n",
      "F1_score on test data: 96.07\n"
     ]
    },
    {
     "data": {
      "image/png": "[encoded data removed]",
      "text/plain": [
       "<Figure size 432x288 with 2 Axes>"
      ]
     },
     "metadata": {},
     "output_type": "display_data"
    }
   ],
   "source": [
    "#Calling the function for test metrics\n",
    "test_metrics(y_test, y_pred)"
   ]
  },
  {
   "cell_type": "markdown",
   "metadata": {},
   "source": [
    "** Random Cross Validation:**"
   ]
  },
  {
   "cell_type": "code",
   "execution_count": 47,
   "metadata": {},
   "outputs": [
    {
     "name": "stdout",
     "output_type": "stream",
     "text": [
      "Fitting 3 folds for each of 10 candidates, totalling 30 fits\n"
     ]
    },
    {
     "name": "stderr",
     "output_type": "stream",
     "text": [
      "[Parallel(n_jobs=3)]: Done  30 out of  30 | elapsed:   13.7s finished\n"
     ]
    },
    {
     "name": "stdout",
     "output_type": "stream",
     "text": [
      "optimal hyperparameter: {'C': 7.400000000000006}\n",
      "Best accuracy: 92.70095238095239\n"
     ]
    }
   ],
   "source": [
    "#Calling the function for random search cross validation\n",
    "best_estimator = random_search(tfidf_tr, y_tr)"
   ]
  },
  {
   "cell_type": "code",
   "execution_count": 48,
   "metadata": {},
   "outputs": [
    {
     "data": {
      "text/plain": [
       "LinearSVC(C=7.400000000000006, class_weight=None, dual=True,\n",
       "     fit_intercept=True, intercept_scaling=1, loss='squared_hinge',\n",
       "     max_iter=1000, multi_class='ovr', penalty='l2', random_state=None,\n",
       "     tol=0.0001, verbose=0)"
      ]
     },
     "execution_count": 48,
     "metadata": {},
     "output_type": "execute_result"
    }
   ],
   "source": [
    "#Result showing the best classifier consisting of parameters\n",
    "best_estimator"
   ]
  },
  {
   "cell_type": "code",
   "execution_count": 49,
   "metadata": {},
   "outputs": [],
   "source": [
    "#Finding the predicted labels for test data\n",
    "y_pred = best_estimator.predict(tfidf_test)"
   ]
  },
  {
   "cell_type": "code",
   "execution_count": 50,
   "metadata": {},
   "outputs": [
    {
     "name": "stdout",
     "output_type": "stream",
     "text": [
      "Accuracy on test data: 92.91\n",
      "Precision on test data: 93.85\n",
      "Recall on test data: 98.4\n",
      "F1_score on test data: 96.07\n"
     ]
    },
    {
     "data": {
      "image/png": "[encoded data removed]",
      "text/plain": [
       "<Figure size 432x288 with 2 Axes>"
      ]
     },
     "metadata": {},
     "output_type": "display_data"
    }
   ],
   "source": [
    "#Calling the function for test metrics\n",
    "test_metrics(y_test, y_pred)"
   ]
  },
  {
   "cell_type": "markdown",
   "metadata": {},
   "source": [
    "### Top 10 important Features for positive and negative classes:"
   ]
  },
  {
   "cell_type": "code",
   "execution_count": 51,
   "metadata": {},
   "outputs": [
    {
     "data": {
      "text/plain": [
       "LinearSVC(C=7.4, class_weight=None, dual=True, fit_intercept=True,\n",
       "     intercept_scaling=1, loss='squared_hinge', max_iter=1000,\n",
       "     multi_class='ovr', penalty='l2', random_state=None, tol=0.0001,\n",
       "     verbose=0)"
      ]
     },
     "execution_count": 51,
     "metadata": {},
     "output_type": "execute_result"
    }
   ],
   "source": [
    "#Training the model with the optimal parameters\n",
    "clf =  LinearSVC(C=7.4)\n",
    "clf.fit(tfidf_tr, y_tr)"
   ]
  },
  {
   "cell_type": "code",
   "execution_count": 52,
   "metadata": {},
   "outputs": [
    {
     "name": "stdout",
     "output_type": "stream",
     "text": [
      "Top 10 positive important features: ['gratest', 'cataton', 'brightest', 'orangina', 'laxaton', 'dateto', 'infam', 'minsth', 'clash', 'namebrand']\n",
      "****************************************************************************************************\n",
      "Top 10 negative important features: ['osteoporosi', 'demandif', 'ecstaci', 'themsalt', 'themself', 'toforc', 'irresit', 'diana', 'forgotten', 'particularili']\n"
     ]
    }
   ],
   "source": [
    "#Getting the feature names from the count_vec\n",
    "features = count_vec.get_feature_names()\n",
    "\n",
    "#Combining coefficient values with the corresponding features\n",
    "coefs_with_fea = sorted(zip(clf.coef_[0], features))\n",
    "\n",
    "print(\"Top 10 positive important features:\", [a[1] for a in coefs_with_fea[-10:]])\n",
    "print(\"*\"*100)\n",
    "print(\"Top 10 negative important features:\", [a[1] for a in coefs_with_fea[:10]])"
   ]
  },
  {
   "cell_type": "markdown",
   "metadata": {},
   "source": [
    "# Avg_w2v: \n",
    "                    \n",
    "          1. W2V can take the semantic meaning of the words.\n",
    "          2. W2V can convert each word into an vector.\n",
    "          3. Avg_W2V means for each review vector should be (W2V(word1) + W2V(word2)--------+ W2V(wordn)/(total no.of words)."
   ]
  },
  {
   "cell_type": "code",
   "execution_count": 53,
   "metadata": {},
   "outputs": [],
   "source": [
    "#Forming the list_of_words for 50k reviews\n",
    "sent_words = []\n",
    "for sent in X:\n",
    "    sent_words.append(sent.split())"
   ]
  },
  {
   "cell_type": "code",
   "execution_count": 54,
   "metadata": {},
   "outputs": [],
   "source": [
    "#Splitting the into train and test data\n",
    "X_tr_w2v, X_test_w2v, y_tr_w2v, y_test_w2v = train_test_split(sent_words, y, test_size=0.3, shuffle=False)"
   ]
  },
  {
   "cell_type": "code",
   "execution_count": 55,
   "metadata": {},
   "outputs": [],
   "source": [
    "#Word to vectors for train data\n",
    "w2v = gensim.models.Word2Vec(X_tr_w2v,min_count=5,size=50)"
   ]
  },
  {
   "cell_type": "code",
   "execution_count": 56,
   "metadata": {},
   "outputs": [
    {
     "name": "stdout",
     "output_type": "stream",
     "text": [
      "total words in w2v 7931\n",
      "['witti', 'littl', 'book', 'make', 'son', 'laugh', 'loud', 'car', 'drive', 'along']\n"
     ]
    }
   ],
   "source": [
    "#storing w2v_words which can be return by w2v vocabilary\n",
    "w2v_words = list(w2v.wv.vocab)\n",
    "print(\"total words in w2v\",len(w2v_words))\n",
    "print(w2v_words[0:10])"
   ]
  },
  {
   "cell_type": "code",
   "execution_count": 57,
   "metadata": {},
   "outputs": [],
   "source": [
    "#Function for Avg_w2v\n",
    "def avg_w2v(data, w2v, w2v_words):\n",
    "    #creating an empty list\n",
    "    avg_vectors = []\n",
    "    row = 0\n",
    "    for sent in data:\n",
    "        #creating an vector which size should be 50 and all cells have zero's\n",
    "        sent_vec = np.zeros(50)\n",
    "        cnt_words = 0\n",
    "        for word in sent:\n",
    "            if word in w2v_words:\n",
    "                vec = w2v.wv[word]\n",
    "                sent_vec += vec\n",
    "                cnt_words += 1\n",
    "        if cnt_words != 0:\n",
    "            sent_vec /= cnt_words\n",
    "            avg_vectors.append(sent_vec)\n",
    "        row += 1 \n",
    "        if cnt_words == 0:\n",
    "            print(row)\n",
    "    return avg_vectors"
   ]
  },
  {
   "cell_type": "code",
   "execution_count": 58,
   "metadata": {},
   "outputs": [
    {
     "name": "stdout",
     "output_type": "stream",
     "text": [
      "Wall time: 29.5 s\n"
     ]
    }
   ],
   "source": [
    "\n",
    "%%time \n",
    "\n",
    "#Avg w2v for train data\n",
    "X_tr_avg_w2v = avg_w2v(X_tr_w2v, w2v, w2v_words)"
   ]
  },
  {
   "cell_type": "code",
   "execution_count": 59,
   "metadata": {},
   "outputs": [],
   "source": [
    "#Avg w2v for test data\n",
    "X_test_avg_w2v = avg_w2v(X_test_w2v, w2v, w2v_words)"
   ]
  },
  {
   "cell_type": "markdown",
   "metadata": {},
   "source": [
    "### Hyperparameter tuning using grid seach and random search cross validation:"
   ]
  },
  {
   "cell_type": "markdown",
   "metadata": {},
   "source": [
    "** Grid Search Cross Validation:**"
   ]
  },
  {
   "cell_type": "code",
   "execution_count": 60,
   "metadata": {},
   "outputs": [
    {
     "name": "stdout",
     "output_type": "stream",
     "text": [
      "Fitting 3 folds for each of 7 candidates, totalling 21 fits\n"
     ]
    },
    {
     "name": "stderr",
     "output_type": "stream",
     "text": [
      "[Parallel(n_jobs=3)]: Done  21 out of  21 | elapsed:   32.7s finished\n"
     ]
    },
    {
     "name": "stdout",
     "output_type": "stream",
     "text": [
      "optimal hyperparameter: {'C': 8}\n",
      "Best Accuracy: 90.35809523809523\n"
     ]
    }
   ],
   "source": [
    "#Calling the Grid search function\n",
    "grid_scores, best_estimator = grid_search(X_tr_avg_w2v, y_tr)"
   ]
  },
  {
   "cell_type": "code",
   "execution_count": 61,
   "metadata": {},
   "outputs": [
    {
     "data": {
      "text/plain": [
       "[mean: 0.90282, std: 0.00397, params: {'C': 0.03125},\n",
       " mean: 0.90350, std: 0.00373, params: {'C': 0.125}]"
      ]
     },
     "execution_count": 61,
     "metadata": {},
     "output_type": "execute_result"
    }
   ],
   "source": [
    "grid_scores[:2]"
   ]
  },
  {
   "cell_type": "code",
   "execution_count": 62,
   "metadata": {},
   "outputs": [
    {
     "data": {
      "text/plain": [
       "LinearSVC(C=8, class_weight=None, dual=True, fit_intercept=True,\n",
       "     intercept_scaling=1, loss='squared_hinge', max_iter=1000,\n",
       "     multi_class='ovr', penalty='l2', random_state=None, tol=0.0001,\n",
       "     verbose=0)"
      ]
     },
     "execution_count": 62,
     "metadata": {},
     "output_type": "execute_result"
    }
   ],
   "source": [
    "#Result showing the best classifier consisting of parameters\n",
    "best_estimator"
   ]
  },
  {
   "cell_type": "code",
   "execution_count": 65,
   "metadata": {},
   "outputs": [],
   "source": [
    "#Finding the predicted values for test labels using the test data\n",
    "y_pred = best_estimator.predict(X_test_avg_w2v)"
   ]
  },
  {
   "cell_type": "code",
   "execution_count": 66,
   "metadata": {},
   "outputs": [
    {
     "name": "stdout",
     "output_type": "stream",
     "text": [
      "Accuracy on test data: 89.5\n",
      "Precision on test data: 90.05\n",
      "Recall on test data: 99.03\n",
      "F1_score on test data: 94.33\n"
     ]
    },
    {
     "data": {
      "image/png": "[encoded data removed]",
      "text/plain": [
       "<Figure size 432x288 with 2 Axes>"
      ]
     },
     "metadata": {},
     "output_type": "display_data"
    }
   ],
   "source": [
    "#Calling the function for test metrics\n",
    "test_metrics(y_test, y_pred)"
   ]
  },
  {
   "cell_type": "markdown",
   "metadata": {},
   "source": [
    "** Random Cross Validation:**"
   ]
  },
  {
   "cell_type": "code",
   "execution_count": 67,
   "metadata": {},
   "outputs": [
    {
     "name": "stdout",
     "output_type": "stream",
     "text": [
      "Fitting 3 folds for each of 10 candidates, totalling 30 fits\n"
     ]
    },
    {
     "name": "stderr",
     "output_type": "stream",
     "text": [
      "[Parallel(n_jobs=3)]: Done  30 out of  30 | elapsed:   55.2s finished\n"
     ]
    },
    {
     "name": "stdout",
     "output_type": "stream",
     "text": [
      "optimal hyperparameter: {'C': 6.600000000000005}\n",
      "Best accuracy: 90.36952380952381\n"
     ]
    }
   ],
   "source": [
    "#Calling the function for random search cross validation\n",
    "best_estimator = random_search(X_tr_avg_w2v, y_tr)"
   ]
  },
  {
   "cell_type": "code",
   "execution_count": 70,
   "metadata": {},
   "outputs": [
    {
     "data": {
      "text/plain": [
       "LinearSVC(C=6.600000000000005, class_weight=None, dual=True,\n",
       "     fit_intercept=True, intercept_scaling=1, loss='squared_hinge',\n",
       "     max_iter=1000, multi_class='ovr', penalty='l2', random_state=None,\n",
       "     tol=0.0001, verbose=0)"
      ]
     },
     "execution_count": 70,
     "metadata": {},
     "output_type": "execute_result"
    }
   ],
   "source": [
    "#Result showing the best classifier consisting of parameters\n",
    "best_estimator"
   ]
  },
  {
   "cell_type": "code",
   "execution_count": 72,
   "metadata": {},
   "outputs": [],
   "source": [
    "#Finding the predicted labels for test data\n",
    "y_pred = best_estimator.predict(X_test_avg_w2v)"
   ]
  },
  {
   "cell_type": "code",
   "execution_count": 73,
   "metadata": {},
   "outputs": [
    {
     "name": "stdout",
     "output_type": "stream",
     "text": [
      "Accuracy on test data: 89.5\n",
      "Precision on test data: 90.02\n",
      "Recall on test data: 99.06\n",
      "F1_score on test data: 94.33\n"
     ]
    },
    {
     "data": {
      "image/png": "[encoded data removed]",
      "text/plain": [
       "<Figure size 432x288 with 2 Axes>"
      ]
     },
     "metadata": {},
     "output_type": "display_data"
    }
   ],
   "source": [
    "#Calling the function for test metrics\n",
    "test_metrics(y_test, y_pred)"
   ]
  },
  {
   "cell_type": "markdown",
   "metadata": {},
   "source": [
    "# TFIDF-W2V: "
   ]
  },
  {
   "cell_type": "code",
   "execution_count": 74,
   "metadata": {},
   "outputs": [],
   "source": [
    "#Previously done tfidf_w2v with the 50k points\n",
    "#Getting the train data\n",
    "tfidf_w2v_tr= openfromfile(\"tfidf_w2v_train_of_50k_pts\")\n",
    "y_tr_w2v = openfromfile(\"tfidf_y_tr_w2v_of_50k_pts\")"
   ]
  },
  {
   "cell_type": "code",
   "execution_count": 75,
   "metadata": {},
   "outputs": [],
   "source": [
    "#Getting the test data\n",
    "tfidf_w2v_test = openfromfile(\"tfidf_w2v_test_of_50k_pts\")\n",
    "y_test_w2v = openfromfile(\"tfidf_y_test_w2v_of_50k_pts\")"
   ]
  },
  {
   "cell_type": "code",
   "execution_count": 76,
   "metadata": {},
   "outputs": [
    {
     "name": "stdout",
     "output_type": "stream",
     "text": [
      "Length of the train data: 35000\n",
      "Length of the test data: 10164\n"
     ]
    }
   ],
   "source": [
    "#Shape of the train and test data\n",
    "print(\"Length of the train data:\", len(tfidf_w2v_tr))\n",
    "print(\"Length of the test data:\", len(tfidf_w2v_test))"
   ]
  },
  {
   "cell_type": "markdown",
   "metadata": {},
   "source": [
    "### Hyperparameter tuning using grid seach and random search cross validation:"
   ]
  },
  {
   "cell_type": "markdown",
   "metadata": {},
   "source": [
    "** Grid Search Cross Validation:**"
   ]
  },
  {
   "cell_type": "code",
   "execution_count": 77,
   "metadata": {},
   "outputs": [
    {
     "name": "stdout",
     "output_type": "stream",
     "text": [
      "Fitting 3 folds for each of 7 candidates, totalling 21 fits\n"
     ]
    },
    {
     "name": "stderr",
     "output_type": "stream",
     "text": [
      "[Parallel(n_jobs=3)]: Done  21 out of  21 | elapsed:   36.6s finished\n"
     ]
    },
    {
     "name": "stdout",
     "output_type": "stream",
     "text": [
      "optimal hyperparameter: {'C': 8}\n",
      "Best Accuracy: 89.75999999999999\n"
     ]
    }
   ],
   "source": [
    "#Calling the Grid search function\n",
    "grid_scores, best_estimator = grid_search(tfidf_w2v_tr, y_tr_w2v )"
   ]
  },
  {
   "cell_type": "code",
   "execution_count": 78,
   "metadata": {},
   "outputs": [
    {
     "data": {
      "text/plain": [
       "[mean: 0.89726, std: 0.00443, params: {'C': 0.03125},\n",
       " mean: 0.89737, std: 0.00446, params: {'C': 0.125}]"
      ]
     },
     "execution_count": 78,
     "metadata": {},
     "output_type": "execute_result"
    }
   ],
   "source": [
    "grid_scores[:2]"
   ]
  },
  {
   "cell_type": "code",
   "execution_count": 79,
   "metadata": {},
   "outputs": [
    {
     "data": {
      "text/plain": [
       "LinearSVC(C=8, class_weight=None, dual=True, fit_intercept=True,\n",
       "     intercept_scaling=1, loss='squared_hinge', max_iter=1000,\n",
       "     multi_class='ovr', penalty='l2', random_state=None, tol=0.0001,\n",
       "     verbose=0)"
      ]
     },
     "execution_count": 79,
     "metadata": {},
     "output_type": "execute_result"
    }
   ],
   "source": [
    "#Result showing the best classifier consisting of parameters\n",
    "best_estimator"
   ]
  },
  {
   "cell_type": "code",
   "execution_count": 80,
   "metadata": {},
   "outputs": [],
   "source": [
    "#Finding the predicted values for test labels using the test data\n",
    "y_pred = best_estimator.predict(tfidf_w2v_test)"
   ]
  },
  {
   "cell_type": "code",
   "execution_count": 82,
   "metadata": {},
   "outputs": [
    {
     "name": "stdout",
     "output_type": "stream",
     "text": [
      "Accuracy on test data: 74.25\n",
      "Precision on test data: 89.62\n",
      "Recall on test data: 80.1\n",
      "F1_score on test data: 84.59\n"
     ]
    },
    {
     "data": {
      "image/png": "[encoded data removed]",
      "text/plain": [
       "<Figure size 432x288 with 2 Axes>"
      ]
     },
     "metadata": {},
     "output_type": "display_data"
    }
   ],
   "source": [
    "#Calling the function for test metrics\n",
    "test_metrics(y_test_w2v, y_pred)"
   ]
  },
  {
   "cell_type": "markdown",
   "metadata": {},
   "source": [
    "** Random Cross Validation:**"
   ]
  },
  {
   "cell_type": "code",
   "execution_count": 83,
   "metadata": {},
   "outputs": [
    {
     "name": "stdout",
     "output_type": "stream",
     "text": [
      "Fitting 3 folds for each of 10 candidates, totalling 30 fits\n"
     ]
    },
    {
     "name": "stderr",
     "output_type": "stream",
     "text": [
      "[Parallel(n_jobs=3)]: Done  30 out of  30 | elapsed:  1.1min finished\n"
     ]
    },
    {
     "name": "stdout",
     "output_type": "stream",
     "text": [
      "optimal hyperparameter: {'C': 9.200000000000006}\n",
      "Best accuracy: 89.82857142857142\n"
     ]
    }
   ],
   "source": [
    "#Calling the function for random search cross validation\n",
    "best_estimator = random_search(tfidf_w2v_tr, y_tr_w2v)"
   ]
  },
  {
   "cell_type": "code",
   "execution_count": 84,
   "metadata": {},
   "outputs": [
    {
     "data": {
      "text/plain": [
       "LinearSVC(C=9.200000000000006, class_weight=None, dual=True,\n",
       "     fit_intercept=True, intercept_scaling=1, loss='squared_hinge',\n",
       "     max_iter=1000, multi_class='ovr', penalty='l2', random_state=None,\n",
       "     tol=0.0001, verbose=0)"
      ]
     },
     "execution_count": 84,
     "metadata": {},
     "output_type": "execute_result"
    }
   ],
   "source": [
    "#Result showing the best classifier consisting of parameters\n",
    "best_estimator"
   ]
  },
  {
   "cell_type": "code",
   "execution_count": 85,
   "metadata": {},
   "outputs": [],
   "source": [
    "#Finding the predicted labels for test data\n",
    "y_pred = best_estimator.predict(tfidf_w2v_test)"
   ]
  },
  {
   "cell_type": "code",
   "execution_count": 86,
   "metadata": {},
   "outputs": [
    {
     "name": "stdout",
     "output_type": "stream",
     "text": [
      "Accuracy on test data: 74.19\n",
      "Precision on test data: 89.6\n",
      "Recall on test data: 80.04\n",
      "F1_score on test data: 84.55\n"
     ]
    },
    {
     "data": {
      "image/png": "[encoded data removed]",
      "text/plain": [
       "<Figure size 432x288 with 2 Axes>"
      ]
     },
     "metadata": {},
     "output_type": "display_data"
    }
   ],
   "source": [
    "#Calling the function for test metrics\n",
    "test_metrics(y_test_w2v, y_pred)"
   ]
  },
  {
   "cell_type": "markdown",
   "metadata": {},
   "source": [
    "#  TFIDF with RBF SVM: \n",
    "\n",
    "** TFIDF with Linear svm is worked well for given data, now comparing tfidf with the RBF SVM.**"
   ]
  },
  {
   "cell_type": "markdown",
   "metadata": {},
   "source": [
    "** RBF SVM:**  RBF kernel is an radial basis function which is an general purpose kernel.\n",
    "              \n",
    "              Kernal_rbf(X1, X2) = exp(-(square(X1 - X2)) / 2 * square(sigma) )\n",
    "              \n",
    "              where, X1 and X2 are the datapoints.\n",
    "- As the sigma increases then range of the points will increase and similarity between the points will decease.\n",
    "- It consist of two parameters are C and gamma, where gammma means 1/sigma.\n",
    "- C can makes the trade off for misclassification training samples, as C is low then model leads to overfit and as the C is hidh then model leads to underfit.\n",
    "- It works well if data is in non linear then it can converts into linear by doing the transformations by that the dimensions will increase.\n",
    "- It can take more time for training the model because to keep track of kernel matrix."
   ]
  },
  {
   "cell_type": "markdown",
   "metadata": {},
   "source": [
    "** Grid Search Cross Validation:**"
   ]
  },
  {
   "cell_type": "code",
   "execution_count": 88,
   "metadata": {},
   "outputs": [],
   "source": [
    "def grid_search(X_train, y_train):  \n",
    "    parameters = {'C':[0.03125, 0.125, 0.5, 1, 2, 8], 'gamma': [0.03125, 0.125, 0.5, 1, 2, 8]}\n",
    "\n",
    "    #splitting the data based on the time series\n",
    "    tbs = TimeSeriesSplit(n_splits=3)\n",
    "\n",
    "    clf = SVC()\n",
    "\n",
    "    #Grid Search Cross Validation using logistic regression\n",
    "    gsv = GridSearchCV(clf, parameters,n_jobs=3, cv=tbs, verbose=3)\n",
    "    gsv.fit(X_train, y_train)\n",
    "\n",
    "    #Best hyperparameter value\n",
    "    print(\"optimal hyperparameter:\", gsv.best_params_)\n",
    "    print(\"Best Accuracy:\", gsv.best_score_ * 100)\n",
    "    \n",
    "    return gsv.grid_scores_, gsv.best_estimator_"
   ]
  },
  {
   "cell_type": "code",
   "execution_count": 89,
   "metadata": {},
   "outputs": [
    {
     "name": "stdout",
     "output_type": "stream",
     "text": [
      "Fitting 3 folds for each of 36 candidates, totalling 108 fits\n"
     ]
    },
    {
     "name": "stderr",
     "output_type": "stream",
     "text": [
      "[Parallel(n_jobs=3)]: Done  26 tasks      | elapsed: 45.5min\n",
      "[Parallel(n_jobs=3)]: Done 108 out of 108 | elapsed: 290.4min finished\n"
     ]
    },
    {
     "name": "stdout",
     "output_type": "stream",
     "text": [
      "optimal hyperparameter: {'C': 8, 'gamma': 0.125}\n",
      "Best Accuracy: 92.60571428571428\n"
     ]
    }
   ],
   "source": [
    "#Calling the Grid search function\n",
    "grid_scores, best_estimator = grid_search(tfidf_tr, y_tr)"
   ]
  },
  {
   "cell_type": "code",
   "execution_count": 93,
   "metadata": {},
   "outputs": [],
   "source": [
    "savetofile(grid_scores, 'grid_scores')"
   ]
  },
  {
   "cell_type": "code",
   "execution_count": 92,
   "metadata": {},
   "outputs": [],
   "source": [
    "savetofile(best_estimator, 'best_estimator')"
   ]
  },
  {
   "cell_type": "code",
   "execution_count": 94,
   "metadata": {},
   "outputs": [
    {
     "data": {
      "text/plain": [
       "SVC(C=8, cache_size=200, class_weight=None, coef0=0.0,\n",
       "  decision_function_shape='ovr', degree=3, gamma=0.125, kernel='rbf',\n",
       "  max_iter=-1, probability=False, random_state=None, shrinking=True,\n",
       "  tol=0.001, verbose=False)"
      ]
     },
     "execution_count": 94,
     "metadata": {},
     "output_type": "execute_result"
    }
   ],
   "source": [
    "#Result showing the best classifier consisting of parameters\n",
    "best_estimator"
   ]
  },
  {
   "cell_type": "code",
   "execution_count": 95,
   "metadata": {},
   "outputs": [],
   "source": [
    "#Finding the predicted values for test labels using the test data\n",
    "y_pred = best_estimator.predict(tfidf_test)"
   ]
  },
  {
   "cell_type": "code",
   "execution_count": 96,
   "metadata": {},
   "outputs": [
    {
     "name": "stdout",
     "output_type": "stream",
     "text": [
      "Accuracy on test data: 92.88\n",
      "Precision on test data: 93.66\n",
      "Recall on test data: 98.6\n",
      "F1_score on test data: 96.06\n"
     ]
    },
    {
     "data": {
      "image/png": "[encoded data removed]",
      "text/plain": [
       "<Figure size 432x288 with 2 Axes>"
      ]
     },
     "metadata": {},
     "output_type": "display_data"
    }
   ],
   "source": [
    "#Calling the function for test metrics\n",
    "test_metrics(y_test, y_pred)"
   ]
  },
  {
   "cell_type": "markdown",
   "metadata": {},
   "source": [
    "# Summary: "
   ]
  },
  {
   "cell_type": "markdown",
   "metadata": {},
   "source": [
    "** Performance Table: **\n",
    "                   \n",
    "                         \n",
    "                         \n",
    "                                         __ Linear SVM with Hinge Loss __\n",
    "\n",
    "|Featurization  |sample size|CV           |Accuracy        |   F1-score  |C        \n",
    "|---------------|-----------|-------------|----------------|-------------|\n",
    "|               |           |             |Test accuracy   |Test f1-score|       \n",
    "| BOW           |50k        |Grid Search  |92.52%          |95.85%       |01    \n",
    "|               |           |Ramdom Search|92.45%          |95.80%       |2.4                \n",
    "|TF-IDF         |50k        |Grid Search  |92.91%          |96.07%       |16   \n",
    "|               |           |Random Search|92.91%          |96.07%       |7.4   \n",
    "|Avg-W2V        |50k        |Grid Search  |89.50%          |94.33%       |08  \n",
    "|               |           |Random Search|89.50%          |94.33%       |6.6   \n",
    "|TF-IDF W2V     |50k        |Grid Search  |74.25%          |84.59%       |08    \n",
    "|               |           |Random Search|74.19%          |84.55%       |9.2  \n",
    "\n",
    "\n",
    "                                                     \n",
    "                                                     \n",
    "                                                     \n",
    "                                                     \n",
    "                                                     ___  RBF SVM ___\n",
    "                                   \n",
    "\n",
    "|Featurization |sample size       |CV                  |Test accuracy   |Test F1 score | C | gamma\n",
    "|--------------|------------------|--------------------|----------------|--------------|---|-------\n",
    "| TF-IDF       | 50k              |Grid Search         |92.88           |96.06         | 8 | 0.125\n",
    "\n",
    "**Observation:** \n",
    "\n",
    "- For the given dataset using linear svm tfidf is working well as compared to all classification techniques.\n",
    "- TFIDF is comparing with both linear svm and RBF svm, among that linear svm is working good for the given dataset.\n",
    "- Training time for RBF svm is more as comparing to the Linear svm. "
   ]
  }
 ],
 "metadata": {
  "kernelspec": {
   "display_name": "Python 3",
   "language": "python",
   "name": "python3"
  },
  "language_info": {
   "codemirror_mode": {
    "name": "ipython",
    "version": 3
   },
   "file_extension": ".py",
   "mimetype": "text/x-python",
   "name": "python",
   "nbconvert_exporter": "python",
   "pygments_lexer": "ipython3",
   "version": "3.6.5"
  }
 },
 "nbformat": 4,
 "nbformat_minor": 2
}
